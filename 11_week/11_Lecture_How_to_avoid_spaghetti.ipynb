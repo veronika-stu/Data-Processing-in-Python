{
 "cells": [
  {
   "cell_type": "markdown",
   "metadata": {},
   "source": [
    "# How to code and Polars DataFrames\n",
    "\n",
    "Lecture, April 28, 2025"
   ]
  },
  {
   "cell_type": "markdown",
   "metadata": {},
   "source": [
    "## Part 1: how to code and avoid spaghetti code\n",
    "\n",
    "**What is Spaghetti Code?**\n",
    "\n",
    "Spaghetti code refers to tangled, poorly structured code that is difficult to understand or maintain. It typically lacks logical organization, relies heavily on interdependent sections, and makes debugging and scaling complex.\n",
    "\n",
    "**Symptoms of Spaghetti Code:**\n",
    "\n",
    "- Long, unstructured scripts without functions or classes.\n",
    "- Code with deep nesting of `if`, `for`, or `while` blocks.\n",
    "- Repeated patterns instead of reusable functions.\n",
    "- Lack of comments or documentation.\n",
    "\n",
    "**Why is it a Problem in Data Processing?**\n",
    "\n",
    "- **Data Volume Increases Complexity**: As datasets grow larger, unstructured code becomes harder to debug.\n",
    "- **Collaboration Challenges**: Team members may struggle to understand or contribute to tangled code.\n",
    "- **Risk of Bugs**: A minor change can introduce unpredictable side effects."
   ]
  },
  {
   "cell_type": "markdown",
   "metadata": {},
   "source": [
    "**Q:**\n",
    "\n",
    "- What is the DRY principle?\n",
    "- When can be spaghetti code good?"
   ]
  },
  {
   "cell_type": "markdown",
   "metadata": {},
   "source": [
    "**Short Demonstration:**\n",
    "\n",
    "Spaghetti code example for processing a dataset:"
   ]
  },
  {
   "cell_type": "code",
   "execution_count": 1,
   "metadata": {},
   "outputs": [
    {
     "name": "stdout",
     "output_type": "stream",
     "text": [
      "[4, 4, 6, 8, 8]\n"
     ]
    }
   ],
   "source": [
    "data = [1, 2, 3, 4, 5]\n",
    "results = []\n",
    "for i in range(len(data)):\n",
    "    if data[i] % 2 == 0:\n",
    "        results.append(data[i] * 2)\n",
    "    else:\n",
    "        results.append(data[i] + 3)\n",
    "print(results)"
   ]
  },
  {
   "cell_type": "markdown",
   "metadata": {},
   "source": [
    "**Q:** What makes this code hard to read or maintain?"
   ]
  },
  {
   "cell_type": "markdown",
   "metadata": {},
   "source": [
    "## Prior notes to help with coding\n",
    "\n",
    "- Minimal arguments: `def func_run(x, y, z, another, anotherx, ano, why_this):`\n",
    "- Logical separation: white spaces, empty lines, functions related to each other close \n",
    "- Extraction of subrutines\n",
    "- Type arguments `x: list` , `x : pd.DataFrame`\n",
    "- Name conventions"
   ]
  },
  {
   "cell_type": "markdown",
   "metadata": {},
   "source": [
    "## Core Principles of Clean Coding\n",
    "\n",
    "**2.1 Code Readability:**\n",
    "\n",
    "- Follow [PEP 8 standards](https://peps.python.org/pep-0008/), or [realpython pep8](https://realpython.com/python-pep8/):\n",
    "    - Indentation: Use 4 spaces per level.\n",
    "    - Line length: Limit to 79 characters.\n",
    "    - Use meaningful variable names: `data` instead of `x`, `process_even` instead of `pe`.\n",
    "- Keep logic simple and intuitive. Avoid over-engineering solutions.\n",
    "- Add comments where necessary:"
   ]
  },
  {
   "cell_type": "markdown",
   "metadata": {},
   "source": [
    "Proper indentation"
   ]
  },
  {
   "cell_type": "code",
   "execution_count": 2,
   "metadata": {},
   "outputs": [],
   "source": [
    "x = 1"
   ]
  },
  {
   "cell_type": "code",
   "execution_count": 3,
   "metadata": {},
   "outputs": [],
   "source": [
    "# Bad indentation:\n",
    "if x>10:\n",
    " print(\"x is large\")\n",
    "\n",
    "# Correct indentation:\n",
    "if x > 10:\n",
    "    print(\"x is large\")"
   ]
  },
  {
   "cell_type": "markdown",
   "metadata": {},
   "source": [
    "White space clarity"
   ]
  },
  {
   "cell_type": "code",
   "execution_count": 4,
   "metadata": {},
   "outputs": [],
   "source": [
    "x = 1+2*3 # Hard to read\n",
    "x = 1 + 2 * 3 # Easier to read"
   ]
  },
  {
   "cell_type": "markdown",
   "metadata": {},
   "source": [
    "**2.2 Modularity:**\n",
    "\n",
    "- Decompose tasks into logical parts using functions, classes, and modules.\n",
    "- Aim for functions to perform a single responsibility."
   ]
  },
  {
   "cell_type": "code",
   "execution_count": 5,
   "metadata": {},
   "outputs": [],
   "source": [
    "def calculate_area(radius):\n",
    "    \"\"\"Calculate the area of a circle.\"\"\"\n",
    "    return 3.14 * radius**2"
   ]
  },
  {
   "cell_type": "markdown",
   "metadata": {},
   "source": [
    "**2.3 DRY Principle (Don't Repeat Yourself):**\n",
    "\n",
    "- Avoid duplicating logic; instead, reuse functions.\n",
    "- Example:"
   ]
  },
  {
   "cell_type": "code",
   "execution_count": 6,
   "metadata": {},
   "outputs": [],
   "source": [
    "data = [1, 2, 3, 4, 5]"
   ]
  },
  {
   "cell_type": "code",
   "execution_count": 7,
   "metadata": {},
   "outputs": [],
   "source": [
    "# BAD: Repeated logic\n",
    "total_odd = sum(x for x in data if x % 2 != 0)\n",
    "total_even = sum(x for x in data if x % 2 == 0)"
   ]
  },
  {
   "cell_type": "code",
   "execution_count": 8,
   "metadata": {},
   "outputs": [],
   "source": [
    "# GOOD: Refactor into a reusable function\n",
    "def calculate_sum(data, condition):\n",
    "    \"\"\"\n",
    "    Calculate the sum of elements in a list that satisfy a given condition.\n",
    "\n",
    "    Args:\n",
    "        data (list): A list of numerical values.\n",
    "        condition (function): A function that takes a single argument and returns a boolean.\n",
    "                              The function is used to test each element in the list.\n",
    "\n",
    "    Returns:\n",
    "        int or float: The sum of elements that satisfy the condition.\n",
    "    \"\"\"\n",
    "    return sum(x for x in data if condition(x))\n",
    "\n",
    "total_odd = calculate_sum(data, lambda x: x % 2 != 0)\n",
    "total_even = calculate_sum(data, lambda x: x % 2 == 0)"
   ]
  },
  {
   "cell_type": "markdown",
   "metadata": {},
   "source": [
    "**2.4 Naming Conventions:**\n",
    "\n",
    "- Variables: `lowercase_with_underscores`. Example: `student_scores`.\n",
    "- Functions: Verb-based, descriptive. Example: `fetch_data_from_api`.\n",
    "- Constants: `ALL_CAPS`. Example: `PI = 3.14`."
   ]
  },
  {
   "cell_type": "markdown",
   "metadata": {},
   "source": [
    "**2.5 Documentation:**\n",
    "\n",
    "- Use docstrings for functions, classes, and modules.\n",
    "Example:"
   ]
  },
  {
   "cell_type": "code",
   "execution_count": 9,
   "metadata": {},
   "outputs": [],
   "source": [
    "def calculate_area(radius: float) -> float:\n",
    "    \"\"\"\n",
    "    Calculate the area of a circle given its radius.\n",
    "\n",
    "    Args:\n",
    "    radius (float): The radius of the circle.\n",
    "\n",
    "    Returns:\n",
    "    float: The area of the circle.\n",
    "    \"\"\"\n",
    "    return 3.14 * radius**2"
   ]
  },
  {
   "cell_type": "code",
   "execution_count": 10,
   "metadata": {},
   "outputs": [
    {
     "data": {
      "text/plain": [
       "3.14"
      ]
     },
     "execution_count": 10,
     "metadata": {},
     "output_type": "execute_result"
    }
   ],
   "source": [
    "calculate_area(1)"
   ]
  },
  {
   "cell_type": "markdown",
   "metadata": {},
   "source": [
    "## Practical Techniques to Avoid Spaghetti Code\n",
    "\n",
    "**3.1 Structuring Projects:**\n",
    "\n",
    "- Folder structure for a data processing project:\n",
    "    \n",
    "    ```bash\n",
    "    project/\n",
    "        data/            # Raw and processed data files\n",
    "            raw/\n",
    "            processed/\n",
    "        src/         # Python scripts\n",
    "            preproces.py\n",
    "            analyze.py\n",
    "        tests/           # Unit tests\n",
    "        main.py          # Entry point\n",
    "        README.md        # Documentation\n",
    "    \n",
    "    ```\n",
    "    "
   ]
  },
  {
   "cell_type": "markdown",
   "metadata": {},
   "source": [
    "**3.2 Breaking Down Tasks:**\n",
    "\n",
    "- Instead of long scripts, divide the logic:"
   ]
  },
  {
   "cell_type": "code",
   "execution_count": null,
   "metadata": {},
   "outputs": [],
   "source": [
    "def load_data(filepath):\n",
    "    \"\"\"Load data from a CSV file.\"\"\"\n",
    "    pass\n",
    "\n",
    "def preprocess_data(data):\n",
    "    \"\"\"Clean and prepare data.\"\"\"\n",
    "    pass\n",
    "\n",
    "def analyze_data(data):\n",
    "    \"\"\"Perform analysis.\"\"\"\n",
    "    pass\n",
    "\n",
    "if __name__ == \"__main__\":\n",
    "    filepath = \"data.csv\"\n",
    "    raw_data = load_data(filepath)\n",
    "    processed_data = preprocess_data(raw_data)\n",
    "    analysis = analyze_data(processed_data)"
   ]
  },
  {
   "cell_type": "markdown",
   "metadata": {},
   "source": [
    "**3.3 Using Type Hints and Annotations:**\n",
    "\n",
    "- Improve clarity and reduce bugs:"
   ]
  },
  {
   "cell_type": "code",
   "execution_count": null,
   "metadata": {},
   "outputs": [],
   "source": [
    "def load_data(filepath: str) -> list[dict]:\n",
    "    \"\"\"Load data from a JSON file.\"\"\"\n",
    "    pass"
   ]
  },
  {
   "cell_type": "markdown",
   "metadata": {},
   "source": [
    "**3.4 Error Handling:**\n",
    "\n",
    "- Add meaningful error messages:"
   ]
  },
  {
   "cell_type": "code",
   "execution_count": 11,
   "metadata": {},
   "outputs": [
    {
     "name": "stdout",
     "output_type": "stream",
     "text": [
      "Error: File not found. Check the filepath.\n"
     ]
    }
   ],
   "source": [
    "try:\n",
    "    with open(\"data.csv\") as f:\n",
    "        data = f.readlines()\n",
    "except FileNotFoundError:\n",
    "    print(\"Error: File not found. Check the filepath.\")"
   ]
  },
  {
   "cell_type": "markdown",
   "metadata": {},
   "source": [
    "## Example Code Walkthrough\n",
    "\n",
    "**Scenario:** Process a list of numbers, doubling evens and adding 3 to odds.\n",
    "\n",
    "**Spaghetti Code:**"
   ]
  },
  {
   "cell_type": "code",
   "execution_count": 12,
   "metadata": {},
   "outputs": [
    {
     "name": "stdout",
     "output_type": "stream",
     "text": [
      "[4, 4, 6, 8, 8]\n"
     ]
    }
   ],
   "source": [
    "data = [1, 2, 3, 4, 5]\n",
    "results = []\n",
    "for num in data:\n",
    "    if num % 2 == 0:\n",
    "        results.append(num * 2)\n",
    "    else:\n",
    "        results.append(num + 3)\n",
    "print(results)"
   ]
  },
  {
   "cell_type": "markdown",
   "metadata": {},
   "source": [
    "**Refactored Code:**"
   ]
  },
  {
   "cell_type": "code",
   "execution_count": 13,
   "metadata": {},
   "outputs": [],
   "source": [
    "# Extract the logic into a function\n",
    "\n",
    "\n",
    "# Extract conditions into functions\n",
    "def process_even(number: int) -> int:\n",
    "    \"\"\"Double the input number if it is even.\"\"\"\n",
    "    return number * 2\n",
    "\n",
    "\n",
    "def process_odd(number: int) -> int:\n",
    "    \"\"\"Add 3 to the input number if it is odd.\"\"\"\n",
    "    return number + 3\n",
    "\n",
    "\n",
    "# Modularize the logic\n",
    "def process_numbers(numbers: list[int]) -> list[int]:\n",
    "    \"\"\"Process a list of numbers, doubling evens and adding 3 to odds.\"\"\"\n",
    "    return [process_even(num) if num % 2 == 0 else process_odd(num) for num in numbers]"
   ]
  },
  {
   "cell_type": "code",
   "execution_count": 14,
   "metadata": {},
   "outputs": [
    {
     "name": "stdout",
     "output_type": "stream",
     "text": [
      "[4, 4, 6, 8, 8]\n"
     ]
    }
   ],
   "source": [
    "if __name__ == \"__main__\":\n",
    "    data = [1, 2, 3, 4, 5]\n",
    "    print(process_numbers(data))"
   ]
  },
  {
   "cell_type": "markdown",
   "metadata": {},
   "source": [
    "**Can we do it even better?**"
   ]
  },
  {
   "cell_type": "code",
   "execution_count": 15,
   "metadata": {},
   "outputs": [],
   "source": [
    "def process_number(num):\n",
    "    return num * 2 if num % 2 == 0 else num + 3"
   ]
  },
  {
   "cell_type": "code",
   "execution_count": 16,
   "metadata": {},
   "outputs": [
    {
     "data": {
      "text/plain": [
       "[4, 4, 6, 8, 8]"
      ]
     },
     "execution_count": 16,
     "metadata": {},
     "output_type": "execute_result"
    }
   ],
   "source": [
    "[process_number(num) for num in data]"
   ]
  },
  {
   "cell_type": "markdown",
   "metadata": {},
   "source": [
    "## Recap\n",
    "\n",
    "- Recap best practices:\n",
    "    - Follow PEP 8.\n",
    "    - Use functions for modularity.\n",
    "    - Keep code readable and reusable."
   ]
  },
  {
   "cell_type": "code",
   "execution_count": null,
   "metadata": {},
   "outputs": [],
   "source": []
  },
  {
   "cell_type": "markdown",
   "metadata": {},
   "source": [
    "## Part 2: `polars` DataFrames"
   ]
  },
  {
   "cell_type": "markdown",
   "metadata": {},
   "source": [
    "[Documentation](https://docs.pola.rs) + [github page](https://github.com/pola-rs/polars)\n",
    "\n",
    "Nice website: [Modern polars](https://kevinheavey.github.io/modern-polars/timeseries.html)"
   ]
  },
  {
   "cell_type": "markdown",
   "metadata": {},
   "source": [
    "### **What is `polars`?**\n",
    "\n",
    "`polars` is a **high-performance DataFrame library for Python** that is designed to handle large datasets efficiently. It's written in Rust and optimized for both speed and memory usage.\n",
    "\n",
    "**Key Features:**\n",
    "\n",
    "- Lazy evaluation for optimized computation\n",
    "- Native support for multi-threading\n",
    "- Designed to work seamlessly with Arrow and Parquet formats\n",
    "- Immutable data structures for safety"
   ]
  },
  {
   "cell_type": "markdown",
   "metadata": {},
   "source": [
    "### **Why Choose `polars`?**\n",
    "\n",
    "| Feature | `polars` | `pandas` |\n",
    "| --- | --- | --- |\n",
    "| Speed | Faster due to Rust and parallelism | Slower for large datasets |\n",
    "| Memory Efficiency | Optimized for low memory usage | High memory usage for large operations |\n",
    "| Lazy Evaluation | Available (process only when required) | Not available |\n",
    "| Parquet Support | Built-in | Requires additional packages |"
   ]
  },
  {
   "cell_type": "markdown",
   "metadata": {},
   "source": [
    "### Hands-on dataset with `polars`\n",
    "\n",
    "We’ll use the **Kaggle \"Netflix Movies and TV Shows\" Dataset** (`netflix_titles.csv`) for demonstration."
   ]
  },
  {
   "cell_type": "code",
   "execution_count": null,
   "metadata": {},
   "outputs": [
    {
     "name": "stdout",
     "output_type": "stream",
     "text": [
      "Requirement already satisfied: polars in /Users/luboshanus/.pyenv/versions/3.11.10/lib/python3.11/site-packages (1.13.0)\n"
     ]
    }
   ],
   "source": [
    "# !pip install polars\n",
    "# !python -m pip install polars # alternative to the above"
   ]
  },
  {
   "cell_type": "code",
   "execution_count": 19,
   "metadata": {},
   "outputs": [],
   "source": [
    "import polars as pl\n",
    "# import altair as alt"
   ]
  },
  {
   "cell_type": "markdown",
   "metadata": {},
   "source": [
    "### Load the Dataset"
   ]
  },
  {
   "cell_type": "code",
   "execution_count": 20,
   "metadata": {},
   "outputs": [],
   "source": [
    "df = pl.read_csv(\"../99_files/netflix_titles.csv\")"
   ]
  },
  {
   "cell_type": "code",
   "execution_count": 21,
   "metadata": {},
   "outputs": [
    {
     "data": {
      "text/html": [
       "<div><style>\n",
       ".dataframe > thead > tr,\n",
       ".dataframe > tbody > tr {\n",
       "  text-align: right;\n",
       "  white-space: pre-wrap;\n",
       "}\n",
       "</style>\n",
       "<small>shape: (5, 12)</small><table border=\"1\" class=\"dataframe\"><thead><tr><th>show_id</th><th>type</th><th>title</th><th>director</th><th>cast</th><th>country</th><th>date_added</th><th>release_year</th><th>rating</th><th>duration</th><th>listed_in</th><th>description</th></tr><tr><td>str</td><td>str</td><td>str</td><td>str</td><td>str</td><td>str</td><td>str</td><td>i64</td><td>str</td><td>str</td><td>str</td><td>str</td></tr></thead><tbody><tr><td>&quot;s1&quot;</td><td>&quot;Movie&quot;</td><td>&quot;Dick Johnson Is Dead&quot;</td><td>&quot;Kirsten Johnson&quot;</td><td>null</td><td>&quot;United States&quot;</td><td>&quot;September 25, 2021&quot;</td><td>2020</td><td>&quot;PG-13&quot;</td><td>&quot;90 min&quot;</td><td>&quot;Documentaries&quot;</td><td>&quot;As her father nears the end of…</td></tr><tr><td>&quot;s2&quot;</td><td>&quot;TV Show&quot;</td><td>&quot;Blood &amp; Water&quot;</td><td>null</td><td>&quot;Ama Qamata, Khosi Ngema, Gail …</td><td>&quot;South Africa&quot;</td><td>&quot;September 24, 2021&quot;</td><td>2021</td><td>&quot;TV-MA&quot;</td><td>&quot;2 Seasons&quot;</td><td>&quot;International TV Shows, TV Dra…</td><td>&quot;After crossing paths at a part…</td></tr><tr><td>&quot;s3&quot;</td><td>&quot;TV Show&quot;</td><td>&quot;Ganglands&quot;</td><td>&quot;Julien Leclercq&quot;</td><td>&quot;Sami Bouajila, Tracy Gotoas, S…</td><td>null</td><td>&quot;September 24, 2021&quot;</td><td>2021</td><td>&quot;TV-MA&quot;</td><td>&quot;1 Season&quot;</td><td>&quot;Crime TV Shows, International …</td><td>&quot;To protect his family from a p…</td></tr><tr><td>&quot;s4&quot;</td><td>&quot;TV Show&quot;</td><td>&quot;Jailbirds New Orleans&quot;</td><td>null</td><td>null</td><td>null</td><td>&quot;September 24, 2021&quot;</td><td>2021</td><td>&quot;TV-MA&quot;</td><td>&quot;1 Season&quot;</td><td>&quot;Docuseries, Reality TV&quot;</td><td>&quot;Feuds, flirtations and toilet …</td></tr><tr><td>&quot;s5&quot;</td><td>&quot;TV Show&quot;</td><td>&quot;Kota Factory&quot;</td><td>null</td><td>&quot;Mayur More, Jitendra Kumar, Ra…</td><td>&quot;India&quot;</td><td>&quot;September 24, 2021&quot;</td><td>2021</td><td>&quot;TV-MA&quot;</td><td>&quot;2 Seasons&quot;</td><td>&quot;International TV Shows, Romant…</td><td>&quot;In a city of coaching centers …</td></tr></tbody></table></div>"
      ],
      "text/plain": [
       "shape: (5, 12)\n",
       "┌─────────┬─────────┬─────────────┬─────────────┬───┬────────┬───────────┬────────────┬────────────┐\n",
       "│ show_id ┆ type    ┆ title       ┆ director    ┆ … ┆ rating ┆ duration  ┆ listed_in  ┆ descriptio │\n",
       "│ ---     ┆ ---     ┆ ---         ┆ ---         ┆   ┆ ---    ┆ ---       ┆ ---        ┆ n          │\n",
       "│ str     ┆ str     ┆ str         ┆ str         ┆   ┆ str    ┆ str       ┆ str        ┆ ---        │\n",
       "│         ┆         ┆             ┆             ┆   ┆        ┆           ┆            ┆ str        │\n",
       "╞═════════╪═════════╪═════════════╪═════════════╪═══╪════════╪═══════════╪════════════╪════════════╡\n",
       "│ s1      ┆ Movie   ┆ Dick        ┆ Kirsten     ┆ … ┆ PG-13  ┆ 90 min    ┆ Documentar ┆ As her     │\n",
       "│         ┆         ┆ Johnson Is  ┆ Johnson     ┆   ┆        ┆           ┆ ies        ┆ father     │\n",
       "│         ┆         ┆ Dead        ┆             ┆   ┆        ┆           ┆            ┆ nears the  │\n",
       "│         ┆         ┆             ┆             ┆   ┆        ┆           ┆            ┆ end of…    │\n",
       "│ s2      ┆ TV Show ┆ Blood &     ┆ null        ┆ … ┆ TV-MA  ┆ 2 Seasons ┆ Internatio ┆ After      │\n",
       "│         ┆         ┆ Water       ┆             ┆   ┆        ┆           ┆ nal TV     ┆ crossing   │\n",
       "│         ┆         ┆             ┆             ┆   ┆        ┆           ┆ Shows, TV  ┆ paths at a │\n",
       "│         ┆         ┆             ┆             ┆   ┆        ┆           ┆ Dra…       ┆ part…      │\n",
       "│ s3      ┆ TV Show ┆ Ganglands   ┆ Julien      ┆ … ┆ TV-MA  ┆ 1 Season  ┆ Crime TV   ┆ To protect │\n",
       "│         ┆         ┆             ┆ Leclercq    ┆   ┆        ┆           ┆ Shows, Int ┆ his family │\n",
       "│         ┆         ┆             ┆             ┆   ┆        ┆           ┆ ernational ┆ from a p…  │\n",
       "│         ┆         ┆             ┆             ┆   ┆        ┆           ┆ …          ┆            │\n",
       "│ s4      ┆ TV Show ┆ Jailbirds   ┆ null        ┆ … ┆ TV-MA  ┆ 1 Season  ┆ Docuseries ┆ Feuds, fli │\n",
       "│         ┆         ┆ New Orleans ┆             ┆   ┆        ┆           ┆ , Reality  ┆ rtations   │\n",
       "│         ┆         ┆             ┆             ┆   ┆        ┆           ┆ TV         ┆ and toilet │\n",
       "│         ┆         ┆             ┆             ┆   ┆        ┆           ┆            ┆ …          │\n",
       "│ s5      ┆ TV Show ┆ Kota        ┆ null        ┆ … ┆ TV-MA  ┆ 2 Seasons ┆ Internatio ┆ In a city  │\n",
       "│         ┆         ┆ Factory     ┆             ┆   ┆        ┆           ┆ nal TV     ┆ of         │\n",
       "│         ┆         ┆             ┆             ┆   ┆        ┆           ┆ Shows,     ┆ coaching   │\n",
       "│         ┆         ┆             ┆             ┆   ┆        ┆           ┆ Romant…    ┆ centers …  │\n",
       "└─────────┴─────────┴─────────────┴─────────────┴───┴────────┴───────────┴────────────┴────────────┘"
      ]
     },
     "execution_count": 21,
     "metadata": {},
     "output_type": "execute_result"
    }
   ],
   "source": [
    "df.head()"
   ]
  },
  {
   "cell_type": "markdown",
   "metadata": {},
   "source": [
    "### Explore the Dataset"
   ]
  },
  {
   "cell_type": "code",
   "execution_count": 22,
   "metadata": {},
   "outputs": [
    {
     "data": {
      "text/plain": [
       "polars.dataframe.frame.DataFrame"
      ]
     },
     "execution_count": 22,
     "metadata": {},
     "output_type": "execute_result"
    }
   ],
   "source": [
    "type(df)"
   ]
  },
  {
   "cell_type": "code",
   "execution_count": 23,
   "metadata": {},
   "outputs": [
    {
     "data": {
      "text/plain": [
       "Schema([('show_id', String),\n",
       "        ('type', String),\n",
       "        ('title', String),\n",
       "        ('director', String),\n",
       "        ('cast', String),\n",
       "        ('country', String),\n",
       "        ('date_added', String),\n",
       "        ('release_year', Int64),\n",
       "        ('rating', String),\n",
       "        ('duration', String),\n",
       "        ('listed_in', String),\n",
       "        ('description', String)])"
      ]
     },
     "execution_count": 23,
     "metadata": {},
     "output_type": "execute_result"
    }
   ],
   "source": [
    "# Print schema\n",
    "df.schema"
   ]
  },
  {
   "cell_type": "code",
   "execution_count": 25,
   "metadata": {},
   "outputs": [
    {
     "data": {
      "text/html": [
       "<div><style>\n",
       ".dataframe > thead > tr,\n",
       ".dataframe > tbody > tr {\n",
       "  text-align: right;\n",
       "  white-space: pre-wrap;\n",
       "}\n",
       "</style>\n",
       "<small>shape: (9, 13)</small><table border=\"1\" class=\"dataframe\"><thead><tr><th>statistic</th><th>show_id</th><th>type</th><th>title</th><th>director</th><th>cast</th><th>country</th><th>date_added</th><th>release_year</th><th>rating</th><th>duration</th><th>listed_in</th><th>description</th></tr><tr><td>str</td><td>str</td><td>str</td><td>str</td><td>str</td><td>str</td><td>str</td><td>str</td><td>f64</td><td>str</td><td>str</td><td>str</td><td>str</td></tr></thead><tbody><tr><td>&quot;count&quot;</td><td>&quot;8807&quot;</td><td>&quot;8807&quot;</td><td>&quot;8807&quot;</td><td>&quot;6173&quot;</td><td>&quot;7982&quot;</td><td>&quot;7976&quot;</td><td>&quot;8797&quot;</td><td>8807.0</td><td>&quot;8803&quot;</td><td>&quot;8804&quot;</td><td>&quot;8807&quot;</td><td>&quot;8807&quot;</td></tr><tr><td>&quot;null_count&quot;</td><td>&quot;0&quot;</td><td>&quot;0&quot;</td><td>&quot;0&quot;</td><td>&quot;2634&quot;</td><td>&quot;825&quot;</td><td>&quot;831&quot;</td><td>&quot;10&quot;</td><td>0.0</td><td>&quot;4&quot;</td><td>&quot;3&quot;</td><td>&quot;0&quot;</td><td>&quot;0&quot;</td></tr><tr><td>&quot;mean&quot;</td><td>null</td><td>null</td><td>null</td><td>null</td><td>null</td><td>null</td><td>null</td><td>2014.180198</td><td>null</td><td>null</td><td>null</td><td>null</td></tr><tr><td>&quot;std&quot;</td><td>null</td><td>null</td><td>null</td><td>null</td><td>null</td><td>null</td><td>null</td><td>8.819312</td><td>null</td><td>null</td><td>null</td><td>null</td></tr><tr><td>&quot;min&quot;</td><td>&quot;s1&quot;</td><td>&quot;Movie&quot;</td><td>&quot;#Alive&quot;</td><td>&quot;A. L. Vijay&quot;</td><td>&quot;&#x27;Najite Dede, Jude Chukwuka, T…</td><td>&quot;, France, Algeria&quot;</td><td>&quot; April 15, 2018&quot;</td><td>1925.0</td><td>&quot;66 min&quot;</td><td>&quot;1 Season&quot;</td><td>&quot;Action &amp; Adventure&quot;</td><td>&quot;&quot;Bridgerton&quot; cast members shar…</td></tr><tr><td>&quot;25%&quot;</td><td>null</td><td>null</td><td>null</td><td>null</td><td>null</td><td>null</td><td>null</td><td>2013.0</td><td>null</td><td>null</td><td>null</td><td>null</td></tr><tr><td>&quot;50%&quot;</td><td>null</td><td>null</td><td>null</td><td>null</td><td>null</td><td>null</td><td>null</td><td>2017.0</td><td>null</td><td>null</td><td>null</td><td>null</td></tr><tr><td>&quot;75%&quot;</td><td>null</td><td>null</td><td>null</td><td>null</td><td>null</td><td>null</td><td>null</td><td>2019.0</td><td>null</td><td>null</td><td>null</td><td>null</td></tr><tr><td>&quot;max&quot;</td><td>&quot;s999&quot;</td><td>&quot;TV Show&quot;</td><td>&quot;최강전사 미니특공대 : 영웅의 탄생&quot;</td><td>&quot;Şenol Sönmez&quot;</td><td>&quot;Ṣọpẹ́ Dìrísù, Wunmi Mosaku, Ma…</td><td>&quot;Zimbabwe&quot;</td><td>&quot;September 9, 2021&quot;</td><td>2021.0</td><td>&quot;UR&quot;</td><td>&quot;99 min&quot;</td><td>&quot;Thrillers&quot;</td><td>&quot;“Last Chance U” hits the hardw…</td></tr></tbody></table></div>"
      ],
      "text/plain": [
       "shape: (9, 13)\n",
       "┌────────────┬─────────┬─────────┬─────────────┬───┬────────┬──────────┬─────────────┬─────────────┐\n",
       "│ statistic  ┆ show_id ┆ type    ┆ title       ┆ … ┆ rating ┆ duration ┆ listed_in   ┆ description │\n",
       "│ ---        ┆ ---     ┆ ---     ┆ ---         ┆   ┆ ---    ┆ ---      ┆ ---         ┆ ---         │\n",
       "│ str        ┆ str     ┆ str     ┆ str         ┆   ┆ str    ┆ str      ┆ str         ┆ str         │\n",
       "╞════════════╪═════════╪═════════╪═════════════╪═══╪════════╪══════════╪═════════════╪═════════════╡\n",
       "│ count      ┆ 8807    ┆ 8807    ┆ 8807        ┆ … ┆ 8803   ┆ 8804     ┆ 8807        ┆ 8807        │\n",
       "│ null_count ┆ 0       ┆ 0       ┆ 0           ┆ … ┆ 4      ┆ 3        ┆ 0           ┆ 0           │\n",
       "│ mean       ┆ null    ┆ null    ┆ null        ┆ … ┆ null   ┆ null     ┆ null        ┆ null        │\n",
       "│ std        ┆ null    ┆ null    ┆ null        ┆ … ┆ null   ┆ null     ┆ null        ┆ null        │\n",
       "│ min        ┆ s1      ┆ Movie   ┆ #Alive      ┆ … ┆ 66 min ┆ 1 Season ┆ Action &    ┆ \"Bridgerton │\n",
       "│            ┆         ┆         ┆             ┆   ┆        ┆          ┆ Adventure   ┆ \" cast      │\n",
       "│            ┆         ┆         ┆             ┆   ┆        ┆          ┆             ┆ members     │\n",
       "│            ┆         ┆         ┆             ┆   ┆        ┆          ┆             ┆ shar…       │\n",
       "│ 25%        ┆ null    ┆ null    ┆ null        ┆ … ┆ null   ┆ null     ┆ null        ┆ null        │\n",
       "│ 50%        ┆ null    ┆ null    ┆ null        ┆ … ┆ null   ┆ null     ┆ null        ┆ null        │\n",
       "│ 75%        ┆ null    ┆ null    ┆ null        ┆ … ┆ null   ┆ null     ┆ null        ┆ null        │\n",
       "│ max        ┆ s999    ┆ TV Show ┆ 최강전사    ┆ … ┆ UR     ┆ 99 min   ┆ Thrillers   ┆ “Last       │\n",
       "│            ┆         ┆         ┆ 미니특공대  ┆   ┆        ┆          ┆             ┆ Chance U”   │\n",
       "│            ┆         ┆         ┆ : 영웅의    ┆   ┆        ┆          ┆             ┆ hits the    │\n",
       "│            ┆         ┆         ┆ 탄생        ┆   ┆        ┆          ┆             ┆ hardw…      │\n",
       "└────────────┴─────────┴─────────┴─────────────┴───┴────────┴──────────┴─────────────┴─────────────┘"
      ]
     },
     "execution_count": 25,
     "metadata": {},
     "output_type": "execute_result"
    }
   ],
   "source": [
    "# Basic statistics\n",
    "df.describe()"
   ]
  },
  {
   "cell_type": "code",
   "execution_count": 26,
   "metadata": {},
   "outputs": [
    {
     "name": "stdout",
     "output_type": "stream",
     "text": [
      "shape: (9, 13)\n",
      "┌────────────┬─────────┬─────────┬─────────────┬───┬────────┬──────────┬─────────────┬─────────────┐\n",
      "│ statistic  ┆ show_id ┆ type    ┆ title       ┆ … ┆ rating ┆ duration ┆ listed_in   ┆ description │\n",
      "│ ---        ┆ ---     ┆ ---     ┆ ---         ┆   ┆ ---    ┆ ---      ┆ ---         ┆ ---         │\n",
      "│ str        ┆ str     ┆ str     ┆ str         ┆   ┆ str    ┆ str      ┆ str         ┆ str         │\n",
      "╞════════════╪═════════╪═════════╪═════════════╪═══╪════════╪══════════╪═════════════╪═════════════╡\n",
      "│ count      ┆ 8807    ┆ 8807    ┆ 8807        ┆ … ┆ 8803   ┆ 8804     ┆ 8807        ┆ 8807        │\n",
      "│ null_count ┆ 0       ┆ 0       ┆ 0           ┆ … ┆ 4      ┆ 3        ┆ 0           ┆ 0           │\n",
      "│ mean       ┆ null    ┆ null    ┆ null        ┆ … ┆ null   ┆ null     ┆ null        ┆ null        │\n",
      "│ std        ┆ null    ┆ null    ┆ null        ┆ … ┆ null   ┆ null     ┆ null        ┆ null        │\n",
      "│ min        ┆ s1      ┆ Movie   ┆ #Alive      ┆ … ┆ 66 min ┆ 1 Season ┆ Action &    ┆ \"Bridgerton │\n",
      "│            ┆         ┆         ┆             ┆   ┆        ┆          ┆ Adventure   ┆ \" cast      │\n",
      "│            ┆         ┆         ┆             ┆   ┆        ┆          ┆             ┆ members     │\n",
      "│            ┆         ┆         ┆             ┆   ┆        ┆          ┆             ┆ shar…       │\n",
      "│ 25%        ┆ null    ┆ null    ┆ null        ┆ … ┆ null   ┆ null     ┆ null        ┆ null        │\n",
      "│ 50%        ┆ null    ┆ null    ┆ null        ┆ … ┆ null   ┆ null     ┆ null        ┆ null        │\n",
      "│ 75%        ┆ null    ┆ null    ┆ null        ┆ … ┆ null   ┆ null     ┆ null        ┆ null        │\n",
      "│ max        ┆ s999    ┆ TV Show ┆ 최강전사    ┆ … ┆ UR     ┆ 99 min   ┆ Thrillers   ┆ “Last       │\n",
      "│            ┆         ┆         ┆ 미니특공대  ┆   ┆        ┆          ┆             ┆ Chance U”   │\n",
      "│            ┆         ┆         ┆ : 영웅의    ┆   ┆        ┆          ┆             ┆ hits the    │\n",
      "│            ┆         ┆         ┆ 탄생        ┆   ┆        ┆          ┆             ┆ hardw…      │\n",
      "└────────────┴─────────┴─────────┴─────────────┴───┴────────┴──────────┴─────────────┴─────────────┘\n"
     ]
    }
   ],
   "source": [
    "print(df.describe())"
   ]
  },
  {
   "cell_type": "code",
   "execution_count": null,
   "metadata": {},
   "outputs": [],
   "source": []
  },
  {
   "cell_type": "markdown",
   "metadata": {},
   "source": [
    "### Manipulation and Filtering"
   ]
  },
  {
   "cell_type": "code",
   "execution_count": 27,
   "metadata": {},
   "outputs": [
    {
     "data": {
      "text/html": [
       "<div><style>\n",
       ".dataframe > thead > tr,\n",
       ".dataframe > tbody > tr {\n",
       "  text-align: right;\n",
       "  white-space: pre-wrap;\n",
       "}\n",
       "</style>\n",
       "<small>shape: (2,)</small><table border=\"1\" class=\"dataframe\"><thead><tr><th>type</th></tr><tr><td>str</td></tr></thead><tbody><tr><td>&quot;TV Show&quot;</td></tr><tr><td>&quot;Movie&quot;</td></tr></tbody></table></div>"
      ],
      "text/plain": [
       "shape: (2,)\n",
       "Series: 'type' [str]\n",
       "[\n",
       "\t\"TV Show\"\n",
       "\t\"Movie\"\n",
       "]"
      ]
     },
     "execution_count": 27,
     "metadata": {},
     "output_type": "execute_result"
    }
   ],
   "source": [
    "df[\"type\"].unique()"
   ]
  },
  {
   "cell_type": "code",
   "execution_count": 28,
   "metadata": {},
   "outputs": [
    {
     "data": {
      "text/html": [
       "<div><style>\n",
       ".dataframe > thead > tr,\n",
       ".dataframe > tbody > tr {\n",
       "  text-align: right;\n",
       "  white-space: pre-wrap;\n",
       "}\n",
       "</style>\n",
       "<small>shape: (2, 2)</small><table border=\"1\" class=\"dataframe\"><thead><tr><th>type</th><th>count</th></tr><tr><td>str</td><td>u32</td></tr></thead><tbody><tr><td>&quot;TV Show&quot;</td><td>2676</td></tr><tr><td>&quot;Movie&quot;</td><td>6131</td></tr></tbody></table></div>"
      ],
      "text/plain": [
       "shape: (2, 2)\n",
       "┌─────────┬───────┐\n",
       "│ type    ┆ count │\n",
       "│ ---     ┆ ---   │\n",
       "│ str     ┆ u32   │\n",
       "╞═════════╪═══════╡\n",
       "│ TV Show ┆ 2676  │\n",
       "│ Movie   ┆ 6131  │\n",
       "└─────────┴───────┘"
      ]
     },
     "execution_count": 28,
     "metadata": {},
     "output_type": "execute_result"
    }
   ],
   "source": [
    "df[\"type\"].value_counts()"
   ]
  },
  {
   "cell_type": "code",
   "execution_count": 29,
   "metadata": {},
   "outputs": [
    {
     "data": {
      "text/plain": [
       "2"
      ]
     },
     "execution_count": 29,
     "metadata": {},
     "output_type": "execute_result"
    }
   ],
   "source": [
    "df[\"type\"].n_unique()"
   ]
  },
  {
   "cell_type": "code",
   "execution_count": 30,
   "metadata": {},
   "outputs": [
    {
     "data": {
      "text/html": [
       "<div><style>\n",
       ".dataframe > thead > tr,\n",
       ".dataframe > tbody > tr {\n",
       "  text-align: right;\n",
       "  white-space: pre-wrap;\n",
       "}\n",
       "</style>\n",
       "<small>shape: (6_131, 12)</small><table border=\"1\" class=\"dataframe\"><thead><tr><th>show_id</th><th>type</th><th>title</th><th>director</th><th>cast</th><th>country</th><th>date_added</th><th>release_year</th><th>rating</th><th>duration</th><th>listed_in</th><th>description</th></tr><tr><td>str</td><td>str</td><td>str</td><td>str</td><td>str</td><td>str</td><td>str</td><td>i64</td><td>str</td><td>str</td><td>str</td><td>str</td></tr></thead><tbody><tr><td>&quot;s1&quot;</td><td>&quot;Movie&quot;</td><td>&quot;Dick Johnson Is Dead&quot;</td><td>&quot;Kirsten Johnson&quot;</td><td>null</td><td>&quot;United States&quot;</td><td>&quot;September 25, 2021&quot;</td><td>2020</td><td>&quot;PG-13&quot;</td><td>&quot;90 min&quot;</td><td>&quot;Documentaries&quot;</td><td>&quot;As her father nears the end of…</td></tr><tr><td>&quot;s7&quot;</td><td>&quot;Movie&quot;</td><td>&quot;My Little Pony: A New Generati…</td><td>&quot;Robert Cullen, José Luis Ucha&quot;</td><td>&quot;Vanessa Hudgens, Kimiko Glenn,…</td><td>null</td><td>&quot;September 24, 2021&quot;</td><td>2021</td><td>&quot;PG&quot;</td><td>&quot;91 min&quot;</td><td>&quot;Children &amp; Family Movies&quot;</td><td>&quot;Equestria&#x27;s divided. But a bri…</td></tr><tr><td>&quot;s8&quot;</td><td>&quot;Movie&quot;</td><td>&quot;Sankofa&quot;</td><td>&quot;Haile Gerima&quot;</td><td>&quot;Kofi Ghanaba, Oyafunmike Ogunl…</td><td>&quot;United States, Ghana, Burkina …</td><td>&quot;September 24, 2021&quot;</td><td>1993</td><td>&quot;TV-MA&quot;</td><td>&quot;125 min&quot;</td><td>&quot;Dramas, Independent Movies, In…</td><td>&quot;On a photo shoot in Ghana, an …</td></tr><tr><td>&quot;s10&quot;</td><td>&quot;Movie&quot;</td><td>&quot;The Starling&quot;</td><td>&quot;Theodore Melfi&quot;</td><td>&quot;Melissa McCarthy, Chris O&#x27;Dowd…</td><td>&quot;United States&quot;</td><td>&quot;September 24, 2021&quot;</td><td>2021</td><td>&quot;PG-13&quot;</td><td>&quot;104 min&quot;</td><td>&quot;Comedies, Dramas&quot;</td><td>&quot;A woman adjusting to life afte…</td></tr><tr><td>&quot;s13&quot;</td><td>&quot;Movie&quot;</td><td>&quot;Je Suis Karl&quot;</td><td>&quot;Christian Schwochow&quot;</td><td>&quot;Luna Wedler, Jannis Niewöhner,…</td><td>&quot;Germany, Czech Republic&quot;</td><td>&quot;September 23, 2021&quot;</td><td>2021</td><td>&quot;TV-MA&quot;</td><td>&quot;127 min&quot;</td><td>&quot;Dramas, International Movies&quot;</td><td>&quot;After most of her family is mu…</td></tr><tr><td>&hellip;</td><td>&hellip;</td><td>&hellip;</td><td>&hellip;</td><td>&hellip;</td><td>&hellip;</td><td>&hellip;</td><td>&hellip;</td><td>&hellip;</td><td>&hellip;</td><td>&hellip;</td><td>&hellip;</td></tr><tr><td>&quot;s8802&quot;</td><td>&quot;Movie&quot;</td><td>&quot;Zinzana&quot;</td><td>&quot;Majid Al Ansari&quot;</td><td>&quot;Ali Suliman, Saleh Bakri, Yasa…</td><td>&quot;United Arab Emirates, Jordan&quot;</td><td>&quot;March 9, 2016&quot;</td><td>2015</td><td>&quot;TV-MA&quot;</td><td>&quot;96 min&quot;</td><td>&quot;Dramas, International Movies, …</td><td>&quot;Recovering alcoholic Talal wak…</td></tr><tr><td>&quot;s8803&quot;</td><td>&quot;Movie&quot;</td><td>&quot;Zodiac&quot;</td><td>&quot;David Fincher&quot;</td><td>&quot;Mark Ruffalo, Jake Gyllenhaal,…</td><td>&quot;United States&quot;</td><td>&quot;November 20, 2019&quot;</td><td>2007</td><td>&quot;R&quot;</td><td>&quot;158 min&quot;</td><td>&quot;Cult Movies, Dramas, Thrillers&quot;</td><td>&quot;A political cartoonist, a crim…</td></tr><tr><td>&quot;s8805&quot;</td><td>&quot;Movie&quot;</td><td>&quot;Zombieland&quot;</td><td>&quot;Ruben Fleischer&quot;</td><td>&quot;Jesse Eisenberg, Woody Harrels…</td><td>&quot;United States&quot;</td><td>&quot;November 1, 2019&quot;</td><td>2009</td><td>&quot;R&quot;</td><td>&quot;88 min&quot;</td><td>&quot;Comedies, Horror Movies&quot;</td><td>&quot;Looking to survive in a world …</td></tr><tr><td>&quot;s8806&quot;</td><td>&quot;Movie&quot;</td><td>&quot;Zoom&quot;</td><td>&quot;Peter Hewitt&quot;</td><td>&quot;Tim Allen, Courteney Cox, Chev…</td><td>&quot;United States&quot;</td><td>&quot;January 11, 2020&quot;</td><td>2006</td><td>&quot;PG&quot;</td><td>&quot;88 min&quot;</td><td>&quot;Children &amp; Family Movies, Come…</td><td>&quot;Dragged from civilian life, a …</td></tr><tr><td>&quot;s8807&quot;</td><td>&quot;Movie&quot;</td><td>&quot;Zubaan&quot;</td><td>&quot;Mozez Singh&quot;</td><td>&quot;Vicky Kaushal, Sarah-Jane Dias…</td><td>&quot;India&quot;</td><td>&quot;March 2, 2019&quot;</td><td>2015</td><td>&quot;TV-14&quot;</td><td>&quot;111 min&quot;</td><td>&quot;Dramas, International Movies, …</td><td>&quot;A scrappy but poor boy worms h…</td></tr></tbody></table></div>"
      ],
      "text/plain": [
       "shape: (6_131, 12)\n",
       "┌─────────┬───────┬──────────────┬─────────────┬───┬────────┬──────────┬─────────────┬─────────────┐\n",
       "│ show_id ┆ type  ┆ title        ┆ director    ┆ … ┆ rating ┆ duration ┆ listed_in   ┆ description │\n",
       "│ ---     ┆ ---   ┆ ---          ┆ ---         ┆   ┆ ---    ┆ ---      ┆ ---         ┆ ---         │\n",
       "│ str     ┆ str   ┆ str          ┆ str         ┆   ┆ str    ┆ str      ┆ str         ┆ str         │\n",
       "╞═════════╪═══════╪══════════════╪═════════════╪═══╪════════╪══════════╪═════════════╪═════════════╡\n",
       "│ s1      ┆ Movie ┆ Dick Johnson ┆ Kirsten     ┆ … ┆ PG-13  ┆ 90 min   ┆ Documentari ┆ As her      │\n",
       "│         ┆       ┆ Is Dead      ┆ Johnson     ┆   ┆        ┆          ┆ es          ┆ father      │\n",
       "│         ┆       ┆              ┆             ┆   ┆        ┆          ┆             ┆ nears the   │\n",
       "│         ┆       ┆              ┆             ┆   ┆        ┆          ┆             ┆ end of…     │\n",
       "│ s7      ┆ Movie ┆ My Little    ┆ Robert      ┆ … ┆ PG     ┆ 91 min   ┆ Children &  ┆ Equestria's │\n",
       "│         ┆       ┆ Pony: A New  ┆ Cullen,     ┆   ┆        ┆          ┆ Family      ┆ divided.    │\n",
       "│         ┆       ┆ Generati…    ┆ José Luis   ┆   ┆        ┆          ┆ Movies      ┆ But a bri…  │\n",
       "│         ┆       ┆              ┆ Ucha        ┆   ┆        ┆          ┆             ┆             │\n",
       "│ s8      ┆ Movie ┆ Sankofa      ┆ Haile       ┆ … ┆ TV-MA  ┆ 125 min  ┆ Dramas,     ┆ On a photo  │\n",
       "│         ┆       ┆              ┆ Gerima      ┆   ┆        ┆          ┆ Independent ┆ shoot in    │\n",
       "│         ┆       ┆              ┆             ┆   ┆        ┆          ┆ Movies, In… ┆ Ghana, an … │\n",
       "│ s10     ┆ Movie ┆ The Starling ┆ Theodore    ┆ … ┆ PG-13  ┆ 104 min  ┆ Comedies,   ┆ A woman     │\n",
       "│         ┆       ┆              ┆ Melfi       ┆   ┆        ┆          ┆ Dramas      ┆ adjusting   │\n",
       "│         ┆       ┆              ┆             ┆   ┆        ┆          ┆             ┆ to life     │\n",
       "│         ┆       ┆              ┆             ┆   ┆        ┆          ┆             ┆ afte…       │\n",
       "│ s13     ┆ Movie ┆ Je Suis Karl ┆ Christian   ┆ … ┆ TV-MA  ┆ 127 min  ┆ Dramas, Int ┆ After most  │\n",
       "│         ┆       ┆              ┆ Schwochow   ┆   ┆        ┆          ┆ ernational  ┆ of her      │\n",
       "│         ┆       ┆              ┆             ┆   ┆        ┆          ┆ Movies      ┆ family is   │\n",
       "│         ┆       ┆              ┆             ┆   ┆        ┆          ┆             ┆ mu…         │\n",
       "│ …       ┆ …     ┆ …            ┆ …           ┆ … ┆ …      ┆ …        ┆ …           ┆ …           │\n",
       "│ s8802   ┆ Movie ┆ Zinzana      ┆ Majid Al    ┆ … ┆ TV-MA  ┆ 96 min   ┆ Dramas, Int ┆ Recovering  │\n",
       "│         ┆       ┆              ┆ Ansari      ┆   ┆        ┆          ┆ ernational  ┆ alcoholic   │\n",
       "│         ┆       ┆              ┆             ┆   ┆        ┆          ┆ Movies, …   ┆ Talal wak…  │\n",
       "│ s8803   ┆ Movie ┆ Zodiac       ┆ David       ┆ … ┆ R      ┆ 158 min  ┆ Cult        ┆ A political │\n",
       "│         ┆       ┆              ┆ Fincher     ┆   ┆        ┆          ┆ Movies,     ┆ cartoonist, │\n",
       "│         ┆       ┆              ┆             ┆   ┆        ┆          ┆ Dramas,     ┆ a crim…     │\n",
       "│         ┆       ┆              ┆             ┆   ┆        ┆          ┆ Thrillers   ┆             │\n",
       "│ s8805   ┆ Movie ┆ Zombieland   ┆ Ruben       ┆ … ┆ R      ┆ 88 min   ┆ Comedies,   ┆ Looking to  │\n",
       "│         ┆       ┆              ┆ Fleischer   ┆   ┆        ┆          ┆ Horror      ┆ survive in  │\n",
       "│         ┆       ┆              ┆             ┆   ┆        ┆          ┆ Movies      ┆ a world …   │\n",
       "│ s8806   ┆ Movie ┆ Zoom         ┆ Peter       ┆ … ┆ PG     ┆ 88 min   ┆ Children &  ┆ Dragged     │\n",
       "│         ┆       ┆              ┆ Hewitt      ┆   ┆        ┆          ┆ Family      ┆ from        │\n",
       "│         ┆       ┆              ┆             ┆   ┆        ┆          ┆ Movies,     ┆ civilian    │\n",
       "│         ┆       ┆              ┆             ┆   ┆        ┆          ┆ Come…       ┆ life, a …   │\n",
       "│ s8807   ┆ Movie ┆ Zubaan       ┆ Mozez Singh ┆ … ┆ TV-14  ┆ 111 min  ┆ Dramas, Int ┆ A scrappy   │\n",
       "│         ┆       ┆              ┆             ┆   ┆        ┆          ┆ ernational  ┆ but poor    │\n",
       "│         ┆       ┆              ┆             ┆   ┆        ┆          ┆ Movies, …   ┆ boy worms   │\n",
       "│         ┆       ┆              ┆             ┆   ┆        ┆          ┆             ┆ h…          │\n",
       "└─────────┴───────┴──────────────┴─────────────┴───┴────────┴──────────┴─────────────┴─────────────┘"
      ]
     },
     "execution_count": 30,
     "metadata": {},
     "output_type": "execute_result"
    }
   ],
   "source": [
    "df.filter((pl.col(\"type\") == \"Movie\"))"
   ]
  },
  {
   "cell_type": "code",
   "execution_count": 31,
   "metadata": {},
   "outputs": [
    {
     "data": {
      "text/html": [
       "<div><style>\n",
       ".dataframe > thead > tr,\n",
       ".dataframe > tbody > tr {\n",
       "  text-align: right;\n",
       "  white-space: pre-wrap;\n",
       "}\n",
       "</style>\n",
       "<small>shape: (592, 12)</small><table border=\"1\" class=\"dataframe\"><thead><tr><th>show_id</th><th>type</th><th>title</th><th>director</th><th>cast</th><th>country</th><th>date_added</th><th>release_year</th><th>rating</th><th>duration</th><th>listed_in</th><th>description</th></tr><tr><td>str</td><td>str</td><td>str</td><td>str</td><td>str</td><td>str</td><td>str</td><td>i64</td><td>str</td><td>str</td><td>str</td><td>str</td></tr></thead><tbody><tr><td>&quot;s2&quot;</td><td>&quot;TV Show&quot;</td><td>&quot;Blood &amp; Water&quot;</td><td>null</td><td>&quot;Ama Qamata, Khosi Ngema, Gail …</td><td>&quot;South Africa&quot;</td><td>&quot;September 24, 2021&quot;</td><td>2021</td><td>&quot;TV-MA&quot;</td><td>&quot;2 Seasons&quot;</td><td>&quot;International TV Shows, TV Dra…</td><td>&quot;After crossing paths at a part…</td></tr><tr><td>&quot;s3&quot;</td><td>&quot;TV Show&quot;</td><td>&quot;Ganglands&quot;</td><td>&quot;Julien Leclercq&quot;</td><td>&quot;Sami Bouajila, Tracy Gotoas, S…</td><td>null</td><td>&quot;September 24, 2021&quot;</td><td>2021</td><td>&quot;TV-MA&quot;</td><td>&quot;1 Season&quot;</td><td>&quot;Crime TV Shows, International …</td><td>&quot;To protect his family from a p…</td></tr><tr><td>&quot;s4&quot;</td><td>&quot;TV Show&quot;</td><td>&quot;Jailbirds New Orleans&quot;</td><td>null</td><td>null</td><td>null</td><td>&quot;September 24, 2021&quot;</td><td>2021</td><td>&quot;TV-MA&quot;</td><td>&quot;1 Season&quot;</td><td>&quot;Docuseries, Reality TV&quot;</td><td>&quot;Feuds, flirtations and toilet …</td></tr><tr><td>&quot;s5&quot;</td><td>&quot;TV Show&quot;</td><td>&quot;Kota Factory&quot;</td><td>null</td><td>&quot;Mayur More, Jitendra Kumar, Ra…</td><td>&quot;India&quot;</td><td>&quot;September 24, 2021&quot;</td><td>2021</td><td>&quot;TV-MA&quot;</td><td>&quot;2 Seasons&quot;</td><td>&quot;International TV Shows, Romant…</td><td>&quot;In a city of coaching centers …</td></tr><tr><td>&quot;s6&quot;</td><td>&quot;TV Show&quot;</td><td>&quot;Midnight Mass&quot;</td><td>&quot;Mike Flanagan&quot;</td><td>&quot;Kate Siegel, Zach Gilford, Ham…</td><td>null</td><td>&quot;September 24, 2021&quot;</td><td>2021</td><td>&quot;TV-MA&quot;</td><td>&quot;1 Season&quot;</td><td>&quot;TV Dramas, TV Horror, TV Myste…</td><td>&quot;The arrival of a charismatic y…</td></tr><tr><td>&hellip;</td><td>&hellip;</td><td>&hellip;</td><td>&hellip;</td><td>&hellip;</td><td>&hellip;</td><td>&hellip;</td><td>&hellip;</td><td>&hellip;</td><td>&hellip;</td><td>&hellip;</td><td>&hellip;</td></tr><tr><td>&quot;s1469&quot;</td><td>&quot;Movie&quot;</td><td>&quot;What Happened to Mr. Cha?&quot;</td><td>&quot;Kim Dong-kyu&quot;</td><td>&quot;Cha In-pyo, Cho Dal-hwan, Song…</td><td>&quot;South Korea&quot;</td><td>&quot;January 1, 2021&quot;</td><td>2021</td><td>&quot;TV-MA&quot;</td><td>&quot;102 min&quot;</td><td>&quot;Comedies, International Movies&quot;</td><td>&quot;With the peak of his career lo…</td></tr><tr><td>&quot;s1552&quot;</td><td>&quot;TV Show&quot;</td><td>&quot;Hilda&quot;</td><td>null</td><td>&quot;Bella Ramsey, Ameerah Falzon-O…</td><td>&quot;United Kingdom, Canada, United…</td><td>&quot;December 14, 2020&quot;</td><td>2021</td><td>&quot;TV-Y7&quot;</td><td>&quot;2 Seasons&quot;</td><td>&quot;Kids&#x27; TV&quot;</td><td>&quot;Fearless, free-spirited Hilda …</td></tr><tr><td>&quot;s1697&quot;</td><td>&quot;TV Show&quot;</td><td>&quot;Polly Pocket&quot;</td><td>null</td><td>&quot;Emily Tennant, Shannon Chan-Ke…</td><td>&quot;Canada, United States, Ireland&quot;</td><td>&quot;November 15, 2020&quot;</td><td>2021</td><td>&quot;TV-Y&quot;</td><td>&quot;2 Seasons&quot;</td><td>&quot;Kids&#x27; TV&quot;</td><td>&quot;After uncovering a magical loc…</td></tr><tr><td>&quot;s2921&quot;</td><td>&quot;TV Show&quot;</td><td>&quot;Love Is Blind&quot;</td><td>null</td><td>&quot;Nick Lachey, Vanessa Lachey&quot;</td><td>&quot;United States&quot;</td><td>&quot;February 13, 2020&quot;</td><td>2021</td><td>&quot;TV-MA&quot;</td><td>&quot;1 Season&quot;</td><td>&quot;Reality TV, Romantic TV Shows&quot;</td><td>&quot;Nick and Vanessa Lachey host t…</td></tr><tr><td>&quot;s8438&quot;</td><td>&quot;TV Show&quot;</td><td>&quot;The Netflix Afterparty&quot;</td><td>null</td><td>&quot;David Spade, London Hughes, Fo…</td><td>&quot;United States&quot;</td><td>&quot;January 2, 2021&quot;</td><td>2021</td><td>&quot;TV-MA&quot;</td><td>&quot;1 Season&quot;</td><td>&quot;Stand-Up Comedy &amp; Talk Shows, …</td><td>&quot;Hosts David Spade, Fortune Fei…</td></tr></tbody></table></div>"
      ],
      "text/plain": [
       "shape: (592, 12)\n",
       "┌─────────┬─────────┬─────────────┬─────────────┬───┬────────┬───────────┬────────────┬────────────┐\n",
       "│ show_id ┆ type    ┆ title       ┆ director    ┆ … ┆ rating ┆ duration  ┆ listed_in  ┆ descriptio │\n",
       "│ ---     ┆ ---     ┆ ---         ┆ ---         ┆   ┆ ---    ┆ ---       ┆ ---        ┆ n          │\n",
       "│ str     ┆ str     ┆ str         ┆ str         ┆   ┆ str    ┆ str       ┆ str        ┆ ---        │\n",
       "│         ┆         ┆             ┆             ┆   ┆        ┆           ┆            ┆ str        │\n",
       "╞═════════╪═════════╪═════════════╪═════════════╪═══╪════════╪═══════════╪════════════╪════════════╡\n",
       "│ s2      ┆ TV Show ┆ Blood &     ┆ null        ┆ … ┆ TV-MA  ┆ 2 Seasons ┆ Internatio ┆ After      │\n",
       "│         ┆         ┆ Water       ┆             ┆   ┆        ┆           ┆ nal TV     ┆ crossing   │\n",
       "│         ┆         ┆             ┆             ┆   ┆        ┆           ┆ Shows, TV  ┆ paths at a │\n",
       "│         ┆         ┆             ┆             ┆   ┆        ┆           ┆ Dra…       ┆ part…      │\n",
       "│ s3      ┆ TV Show ┆ Ganglands   ┆ Julien      ┆ … ┆ TV-MA  ┆ 1 Season  ┆ Crime TV   ┆ To protect │\n",
       "│         ┆         ┆             ┆ Leclercq    ┆   ┆        ┆           ┆ Shows, Int ┆ his family │\n",
       "│         ┆         ┆             ┆             ┆   ┆        ┆           ┆ ernational ┆ from a p…  │\n",
       "│         ┆         ┆             ┆             ┆   ┆        ┆           ┆ …          ┆            │\n",
       "│ s4      ┆ TV Show ┆ Jailbirds   ┆ null        ┆ … ┆ TV-MA  ┆ 1 Season  ┆ Docuseries ┆ Feuds, fli │\n",
       "│         ┆         ┆ New Orleans ┆             ┆   ┆        ┆           ┆ , Reality  ┆ rtations   │\n",
       "│         ┆         ┆             ┆             ┆   ┆        ┆           ┆ TV         ┆ and toilet │\n",
       "│         ┆         ┆             ┆             ┆   ┆        ┆           ┆            ┆ …          │\n",
       "│ s5      ┆ TV Show ┆ Kota        ┆ null        ┆ … ┆ TV-MA  ┆ 2 Seasons ┆ Internatio ┆ In a city  │\n",
       "│         ┆         ┆ Factory     ┆             ┆   ┆        ┆           ┆ nal TV     ┆ of         │\n",
       "│         ┆         ┆             ┆             ┆   ┆        ┆           ┆ Shows,     ┆ coaching   │\n",
       "│         ┆         ┆             ┆             ┆   ┆        ┆           ┆ Romant…    ┆ centers …  │\n",
       "│ s6      ┆ TV Show ┆ Midnight    ┆ Mike        ┆ … ┆ TV-MA  ┆ 1 Season  ┆ TV Dramas, ┆ The        │\n",
       "│         ┆         ┆ Mass        ┆ Flanagan    ┆   ┆        ┆           ┆ TV Horror, ┆ arrival of │\n",
       "│         ┆         ┆             ┆             ┆   ┆        ┆           ┆ TV Myste…  ┆ a charisma │\n",
       "│         ┆         ┆             ┆             ┆   ┆        ┆           ┆            ┆ tic y…     │\n",
       "│ …       ┆ …       ┆ …           ┆ …           ┆ … ┆ …      ┆ …         ┆ …          ┆ …          │\n",
       "│ s1469   ┆ Movie   ┆ What        ┆ Kim         ┆ … ┆ TV-MA  ┆ 102 min   ┆ Comedies,  ┆ With the   │\n",
       "│         ┆         ┆ Happened to ┆ Dong-kyu    ┆   ┆        ┆           ┆ Internatio ┆ peak of    │\n",
       "│         ┆         ┆ Mr. Cha?    ┆             ┆   ┆        ┆           ┆ nal Movies ┆ his career │\n",
       "│         ┆         ┆             ┆             ┆   ┆        ┆           ┆            ┆ lo…        │\n",
       "│ s1552   ┆ TV Show ┆ Hilda       ┆ null        ┆ … ┆ TV-Y7  ┆ 2 Seasons ┆ Kids' TV   ┆ Fearless,  │\n",
       "│         ┆         ┆             ┆             ┆   ┆        ┆           ┆            ┆ free-spiri │\n",
       "│         ┆         ┆             ┆             ┆   ┆        ┆           ┆            ┆ ted Hilda  │\n",
       "│         ┆         ┆             ┆             ┆   ┆        ┆           ┆            ┆ …          │\n",
       "│ s1697   ┆ TV Show ┆ Polly       ┆ null        ┆ … ┆ TV-Y   ┆ 2 Seasons ┆ Kids' TV   ┆ After      │\n",
       "│         ┆         ┆ Pocket      ┆             ┆   ┆        ┆           ┆            ┆ uncovering │\n",
       "│         ┆         ┆             ┆             ┆   ┆        ┆           ┆            ┆ a magical  │\n",
       "│         ┆         ┆             ┆             ┆   ┆        ┆           ┆            ┆ loc…       │\n",
       "│ s2921   ┆ TV Show ┆ Love Is     ┆ null        ┆ … ┆ TV-MA  ┆ 1 Season  ┆ Reality    ┆ Nick and   │\n",
       "│         ┆         ┆ Blind       ┆             ┆   ┆        ┆           ┆ TV,        ┆ Vanessa    │\n",
       "│         ┆         ┆             ┆             ┆   ┆        ┆           ┆ Romantic   ┆ Lachey     │\n",
       "│         ┆         ┆             ┆             ┆   ┆        ┆           ┆ TV Shows   ┆ host t…    │\n",
       "│ s8438   ┆ TV Show ┆ The Netflix ┆ null        ┆ … ┆ TV-MA  ┆ 1 Season  ┆ Stand-Up   ┆ Hosts      │\n",
       "│         ┆         ┆ Afterparty  ┆             ┆   ┆        ┆           ┆ Comedy &   ┆ David      │\n",
       "│         ┆         ┆             ┆             ┆   ┆        ┆           ┆ Talk       ┆ Spade,     │\n",
       "│         ┆         ┆             ┆             ┆   ┆        ┆           ┆ Shows, …   ┆ Fortune    │\n",
       "│         ┆         ┆             ┆             ┆   ┆        ┆           ┆            ┆ Fei…       │\n",
       "└─────────┴─────────┴─────────────┴─────────────┴───┴────────┴───────────┴────────────┴────────────┘"
      ]
     },
     "execution_count": 31,
     "metadata": {},
     "output_type": "execute_result"
    }
   ],
   "source": [
    "df.filter(pl.col(\"release_year\") > 2020)"
   ]
  },
  {
   "cell_type": "code",
   "execution_count": 32,
   "metadata": {},
   "outputs": [
    {
     "data": {
      "text/html": [
       "<div><style>\n",
       ".dataframe > thead > tr,\n",
       ".dataframe > tbody > tr {\n",
       "  text-align: right;\n",
       "  white-space: pre-wrap;\n",
       "}\n",
       "</style>\n",
       "<small>shape: (6_131, 5)</small><table border=\"1\" class=\"dataframe\"><thead><tr><th>type</th><th>title</th><th>release_year</th><th>duration</th><th>duration_min</th></tr><tr><td>str</td><td>str</td><td>i64</td><td>str</td><td>str</td></tr></thead><tbody><tr><td>&quot;Movie&quot;</td><td>&quot;Dick Johnson Is Dead&quot;</td><td>2020</td><td>&quot;90 min&quot;</td><td>&quot;90&quot;</td></tr><tr><td>&quot;Movie&quot;</td><td>&quot;My Little Pony: A New Generati…</td><td>2021</td><td>&quot;91 min&quot;</td><td>&quot;91&quot;</td></tr><tr><td>&quot;Movie&quot;</td><td>&quot;Sankofa&quot;</td><td>1993</td><td>&quot;125 min&quot;</td><td>&quot;125&quot;</td></tr><tr><td>&quot;Movie&quot;</td><td>&quot;The Starling&quot;</td><td>2021</td><td>&quot;104 min&quot;</td><td>&quot;104&quot;</td></tr><tr><td>&quot;Movie&quot;</td><td>&quot;Je Suis Karl&quot;</td><td>2021</td><td>&quot;127 min&quot;</td><td>&quot;127&quot;</td></tr><tr><td>&hellip;</td><td>&hellip;</td><td>&hellip;</td><td>&hellip;</td><td>&hellip;</td></tr><tr><td>&quot;Movie&quot;</td><td>&quot;Zinzana&quot;</td><td>2015</td><td>&quot;96 min&quot;</td><td>&quot;96&quot;</td></tr><tr><td>&quot;Movie&quot;</td><td>&quot;Zodiac&quot;</td><td>2007</td><td>&quot;158 min&quot;</td><td>&quot;158&quot;</td></tr><tr><td>&quot;Movie&quot;</td><td>&quot;Zombieland&quot;</td><td>2009</td><td>&quot;88 min&quot;</td><td>&quot;88&quot;</td></tr><tr><td>&quot;Movie&quot;</td><td>&quot;Zoom&quot;</td><td>2006</td><td>&quot;88 min&quot;</td><td>&quot;88&quot;</td></tr><tr><td>&quot;Movie&quot;</td><td>&quot;Zubaan&quot;</td><td>2015</td><td>&quot;111 min&quot;</td><td>&quot;111&quot;</td></tr></tbody></table></div>"
      ],
      "text/plain": [
       "shape: (6_131, 5)\n",
       "┌───────┬─────────────────────────────────┬──────────────┬──────────┬──────────────┐\n",
       "│ type  ┆ title                           ┆ release_year ┆ duration ┆ duration_min │\n",
       "│ ---   ┆ ---                             ┆ ---          ┆ ---      ┆ ---          │\n",
       "│ str   ┆ str                             ┆ i64          ┆ str      ┆ str          │\n",
       "╞═══════╪═════════════════════════════════╪══════════════╪══════════╪══════════════╡\n",
       "│ Movie ┆ Dick Johnson Is Dead            ┆ 2020         ┆ 90 min   ┆ 90           │\n",
       "│ Movie ┆ My Little Pony: A New Generati… ┆ 2021         ┆ 91 min   ┆ 91           │\n",
       "│ Movie ┆ Sankofa                         ┆ 1993         ┆ 125 min  ┆ 125          │\n",
       "│ Movie ┆ The Starling                    ┆ 2021         ┆ 104 min  ┆ 104          │\n",
       "│ Movie ┆ Je Suis Karl                    ┆ 2021         ┆ 127 min  ┆ 127          │\n",
       "│ …     ┆ …                               ┆ …            ┆ …        ┆ …            │\n",
       "│ Movie ┆ Zinzana                         ┆ 2015         ┆ 96 min   ┆ 96           │\n",
       "│ Movie ┆ Zodiac                          ┆ 2007         ┆ 158 min  ┆ 158          │\n",
       "│ Movie ┆ Zombieland                      ┆ 2009         ┆ 88 min   ┆ 88           │\n",
       "│ Movie ┆ Zoom                            ┆ 2006         ┆ 88 min   ┆ 88           │\n",
       "│ Movie ┆ Zubaan                          ┆ 2015         ┆ 111 min  ┆ 111          │\n",
       "└───────┴─────────────────────────────────┴──────────────┴──────────┴──────────────┘"
      ]
     },
     "execution_count": 32,
     "metadata": {},
     "output_type": "execute_result"
    }
   ],
   "source": [
    "def sel_split(x):\n",
    "    return x.split()[0]\n",
    "\n",
    "dfm = df.filter((pl.col(\"type\") == \"Movie\"))\n",
    "\n",
    "result = dfm.select(\n",
    "    pl.col([\"type\", \"title\", \"release_year\", \"duration\"]),\n",
    "    pl.col(\"duration\").map_elements(sel_split,return_dtype=str).alias(\"duration_min\"),\n",
    ")\n",
    "result"
   ]
  },
  {
   "cell_type": "code",
   "execution_count": 33,
   "metadata": {},
   "outputs": [
    {
     "data": {
      "text/html": [
       "<div><style>\n",
       ".dataframe > thead > tr,\n",
       ".dataframe > tbody > tr {\n",
       "  text-align: right;\n",
       "  white-space: pre-wrap;\n",
       "}\n",
       "</style>\n",
       "<small>shape: (3_619, 12)</small><table border=\"1\" class=\"dataframe\"><thead><tr><th>show_id</th><th>type</th><th>title</th><th>director</th><th>cast</th><th>country</th><th>date_added</th><th>release_year</th><th>rating</th><th>duration</th><th>listed_in</th><th>description</th></tr><tr><td>str</td><td>str</td><td>str</td><td>str</td><td>str</td><td>str</td><td>str</td><td>i64</td><td>str</td><td>str</td><td>str</td><td>str</td></tr></thead><tbody><tr><td>&quot;s1&quot;</td><td>&quot;Movie&quot;</td><td>&quot;Dick Johnson Is Dead&quot;</td><td>&quot;Kirsten Johnson&quot;</td><td>null</td><td>&quot;United States&quot;</td><td>&quot;September 25, 2021&quot;</td><td>2020</td><td>&quot;PG-13&quot;</td><td>&quot;90 min&quot;</td><td>&quot;Documentaries&quot;</td><td>&quot;As her father nears the end of…</td></tr><tr><td>&quot;s7&quot;</td><td>&quot;Movie&quot;</td><td>&quot;My Little Pony: A New Generati…</td><td>&quot;Robert Cullen, José Luis Ucha&quot;</td><td>&quot;Vanessa Hudgens, Kimiko Glenn,…</td><td>null</td><td>&quot;September 24, 2021&quot;</td><td>2021</td><td>&quot;PG&quot;</td><td>&quot;91 min&quot;</td><td>&quot;Children &amp; Family Movies&quot;</td><td>&quot;Equestria&#x27;s divided. But a bri…</td></tr><tr><td>&quot;s10&quot;</td><td>&quot;Movie&quot;</td><td>&quot;The Starling&quot;</td><td>&quot;Theodore Melfi&quot;</td><td>&quot;Melissa McCarthy, Chris O&#x27;Dowd…</td><td>&quot;United States&quot;</td><td>&quot;September 24, 2021&quot;</td><td>2021</td><td>&quot;PG-13&quot;</td><td>&quot;104 min&quot;</td><td>&quot;Comedies, Dramas&quot;</td><td>&quot;A woman adjusting to life afte…</td></tr><tr><td>&quot;s13&quot;</td><td>&quot;Movie&quot;</td><td>&quot;Je Suis Karl&quot;</td><td>&quot;Christian Schwochow&quot;</td><td>&quot;Luna Wedler, Jannis Niewöhner,…</td><td>&quot;Germany, Czech Republic&quot;</td><td>&quot;September 23, 2021&quot;</td><td>2021</td><td>&quot;TV-MA&quot;</td><td>&quot;127 min&quot;</td><td>&quot;Dramas, International Movies&quot;</td><td>&quot;After most of her family is mu…</td></tr><tr><td>&quot;s14&quot;</td><td>&quot;Movie&quot;</td><td>&quot;Confessions of an Invisible Gi…</td><td>&quot;Bruno Garotti&quot;</td><td>&quot;Klara Castanho, Lucca Picon, J…</td><td>null</td><td>&quot;September 22, 2021&quot;</td><td>2021</td><td>&quot;TV-PG&quot;</td><td>&quot;91 min&quot;</td><td>&quot;Children &amp; Family Movies, Come…</td><td>&quot;When the clever but socially-a…</td></tr><tr><td>&hellip;</td><td>&hellip;</td><td>&hellip;</td><td>&hellip;</td><td>&hellip;</td><td>&hellip;</td><td>&hellip;</td><td>&hellip;</td><td>&hellip;</td><td>&hellip;</td><td>&hellip;</td><td>&hellip;</td></tr><tr><td>&quot;s8782&quot;</td><td>&quot;Movie&quot;</td><td>&quot;Yo-Kai Watch: The Movie&quot;</td><td>&quot;Mark Risley&quot;</td><td>&quot;Johnny Yong Bosch, Joey D&#x27;Auri…</td><td>&quot;Japan, United States&quot;</td><td>&quot;December 1, 2016&quot;</td><td>2016</td><td>&quot;TV-Y7&quot;</td><td>&quot;96 min&quot;</td><td>&quot;Anime Features, Children &amp; Fam…</td><td>&quot;Nate&#x27;s special Yo-Kai Watch is…</td></tr><tr><td>&quot;s8783&quot;</td><td>&quot;Movie&quot;</td><td>&quot;Yoga Hosers&quot;</td><td>&quot;Kevin Smith&quot;</td><td>&quot;Harley Quinn Smith, Lily-Rose …</td><td>&quot;United States&quot;</td><td>&quot;December 2, 2016&quot;</td><td>2016</td><td>&quot;PG-13&quot;</td><td>&quot;88 min&quot;</td><td>&quot;Comedies, Horror Movies, Indep…</td><td>&quot;With an all-important high sch…</td></tr><tr><td>&quot;s8787&quot;</td><td>&quot;Movie&quot;</td><td>&quot;You Can Tutu&quot;</td><td>&quot;James Brown&quot;</td><td>&quot;Lily O&#x27;Regan, Jeannettsy Enriq…</td><td>&quot;United Kingdom&quot;</td><td>&quot;December 31, 2017&quot;</td><td>2017</td><td>&quot;TV-G&quot;</td><td>&quot;87 min&quot;</td><td>&quot;Children &amp; Family Movies&quot;</td><td>&quot;A gifted young ballet dancer s…</td></tr><tr><td>&quot;s8788&quot;</td><td>&quot;Movie&quot;</td><td>&quot;You Can’t Fight Christmas&quot;</td><td>&quot;Kenny Young&quot;</td><td>&quot;Brely Evans, Andra Fuller, Per…</td><td>&quot;United States&quot;</td><td>&quot;December 19, 2017&quot;</td><td>2017</td><td>&quot;TV-PG&quot;</td><td>&quot;85 min&quot;</td><td>&quot;Comedies, Romantic Movies&quot;</td><td>&quot;After stepping in to revitaliz…</td></tr><tr><td>&quot;s8795&quot;</td><td>&quot;Movie&quot;</td><td>&quot;اشتباك&quot;</td><td>&quot;Mohamed Diab&quot;</td><td>&quot;Nelly Karim, Hany Adel, Tarek …</td><td>&quot;Egypt, France&quot;</td><td>&quot;October 11, 2018&quot;</td><td>2016</td><td>&quot;TV-14&quot;</td><td>&quot;98 min&quot;</td><td>&quot;Dramas, Independent Movies, In…</td><td>&quot;Amid the tumult following Egyp…</td></tr></tbody></table></div>"
      ],
      "text/plain": [
       "shape: (3_619, 12)\n",
       "┌─────────┬───────┬──────────────┬─────────────┬───┬────────┬──────────┬─────────────┬─────────────┐\n",
       "│ show_id ┆ type  ┆ title        ┆ director    ┆ … ┆ rating ┆ duration ┆ listed_in   ┆ description │\n",
       "│ ---     ┆ ---   ┆ ---          ┆ ---         ┆   ┆ ---    ┆ ---      ┆ ---         ┆ ---         │\n",
       "│ str     ┆ str   ┆ str          ┆ str         ┆   ┆ str    ┆ str      ┆ str         ┆ str         │\n",
       "╞═════════╪═══════╪══════════════╪═════════════╪═══╪════════╪══════════╪═════════════╪═════════════╡\n",
       "│ s1      ┆ Movie ┆ Dick Johnson ┆ Kirsten     ┆ … ┆ PG-13  ┆ 90 min   ┆ Documentari ┆ As her      │\n",
       "│         ┆       ┆ Is Dead      ┆ Johnson     ┆   ┆        ┆          ┆ es          ┆ father      │\n",
       "│         ┆       ┆              ┆             ┆   ┆        ┆          ┆             ┆ nears the   │\n",
       "│         ┆       ┆              ┆             ┆   ┆        ┆          ┆             ┆ end of…     │\n",
       "│ s7      ┆ Movie ┆ My Little    ┆ Robert      ┆ … ┆ PG     ┆ 91 min   ┆ Children &  ┆ Equestria's │\n",
       "│         ┆       ┆ Pony: A New  ┆ Cullen,     ┆   ┆        ┆          ┆ Family      ┆ divided.    │\n",
       "│         ┆       ┆ Generati…    ┆ José Luis   ┆   ┆        ┆          ┆ Movies      ┆ But a bri…  │\n",
       "│         ┆       ┆              ┆ Ucha        ┆   ┆        ┆          ┆             ┆             │\n",
       "│ s10     ┆ Movie ┆ The Starling ┆ Theodore    ┆ … ┆ PG-13  ┆ 104 min  ┆ Comedies,   ┆ A woman     │\n",
       "│         ┆       ┆              ┆ Melfi       ┆   ┆        ┆          ┆ Dramas      ┆ adjusting   │\n",
       "│         ┆       ┆              ┆             ┆   ┆        ┆          ┆             ┆ to life     │\n",
       "│         ┆       ┆              ┆             ┆   ┆        ┆          ┆             ┆ afte…       │\n",
       "│ s13     ┆ Movie ┆ Je Suis Karl ┆ Christian   ┆ … ┆ TV-MA  ┆ 127 min  ┆ Dramas, Int ┆ After most  │\n",
       "│         ┆       ┆              ┆ Schwochow   ┆   ┆        ┆          ┆ ernational  ┆ of her      │\n",
       "│         ┆       ┆              ┆             ┆   ┆        ┆          ┆ Movies      ┆ family is   │\n",
       "│         ┆       ┆              ┆             ┆   ┆        ┆          ┆             ┆ mu…         │\n",
       "│ s14     ┆ Movie ┆ Confessions  ┆ Bruno       ┆ … ┆ TV-PG  ┆ 91 min   ┆ Children &  ┆ When the    │\n",
       "│         ┆       ┆ of an        ┆ Garotti     ┆   ┆        ┆          ┆ Family      ┆ clever but  │\n",
       "│         ┆       ┆ Invisible    ┆             ┆   ┆        ┆          ┆ Movies,     ┆ socially-a… │\n",
       "│         ┆       ┆ Gi…          ┆             ┆   ┆        ┆          ┆ Come…       ┆             │\n",
       "│ …       ┆ …     ┆ …            ┆ …           ┆ … ┆ …      ┆ …        ┆ …           ┆ …           │\n",
       "│ s8782   ┆ Movie ┆ Yo-Kai       ┆ Mark Risley ┆ … ┆ TV-Y7  ┆ 96 min   ┆ Anime       ┆ Nate's      │\n",
       "│         ┆       ┆ Watch: The   ┆             ┆   ┆        ┆          ┆ Features,   ┆ special     │\n",
       "│         ┆       ┆ Movie        ┆             ┆   ┆        ┆          ┆ Children &  ┆ Yo-Kai      │\n",
       "│         ┆       ┆              ┆             ┆   ┆        ┆          ┆ Fam…        ┆ Watch is…   │\n",
       "│ s8783   ┆ Movie ┆ Yoga Hosers  ┆ Kevin Smith ┆ … ┆ PG-13  ┆ 88 min   ┆ Comedies,   ┆ With an all │\n",
       "│         ┆       ┆              ┆             ┆   ┆        ┆          ┆ Horror      ┆ -important  │\n",
       "│         ┆       ┆              ┆             ┆   ┆        ┆          ┆ Movies,     ┆ high sch…   │\n",
       "│         ┆       ┆              ┆             ┆   ┆        ┆          ┆ Indep…      ┆             │\n",
       "│ s8787   ┆ Movie ┆ You Can Tutu ┆ James Brown ┆ … ┆ TV-G   ┆ 87 min   ┆ Children &  ┆ A gifted    │\n",
       "│         ┆       ┆              ┆             ┆   ┆        ┆          ┆ Family      ┆ young       │\n",
       "│         ┆       ┆              ┆             ┆   ┆        ┆          ┆ Movies      ┆ ballet      │\n",
       "│         ┆       ┆              ┆             ┆   ┆        ┆          ┆             ┆ dancer s…   │\n",
       "│ s8788   ┆ Movie ┆ You Can’t    ┆ Kenny Young ┆ … ┆ TV-PG  ┆ 85 min   ┆ Comedies,   ┆ After       │\n",
       "│         ┆       ┆ Fight        ┆             ┆   ┆        ┆          ┆ Romantic    ┆ stepping in │\n",
       "│         ┆       ┆ Christmas    ┆             ┆   ┆        ┆          ┆ Movies      ┆ to          │\n",
       "│         ┆       ┆              ┆             ┆   ┆        ┆          ┆             ┆ revitaliz…  │\n",
       "│ s8795   ┆ Movie ┆ اشتباك       ┆ Mohamed     ┆ … ┆ TV-14  ┆ 98 min   ┆ Dramas,     ┆ Amid the    │\n",
       "│         ┆       ┆              ┆ Diab        ┆   ┆        ┆          ┆ Independent ┆ tumult      │\n",
       "│         ┆       ┆              ┆             ┆   ┆        ┆          ┆ Movies, In… ┆ following   │\n",
       "│         ┆       ┆              ┆             ┆   ┆        ┆          ┆             ┆ Egyp…       │\n",
       "└─────────┴───────┴──────────────┴─────────────┴───┴────────┴──────────┴─────────────┴─────────────┘"
      ]
     },
     "execution_count": 33,
     "metadata": {},
     "output_type": "execute_result"
    }
   ],
   "source": [
    "# Filter movies released after 2015\n",
    "filtered_df = df.filter((pl.col(\"type\") == \"Movie\") & (pl.col(\"release_year\") > 2015))\n",
    "filtered_df"
   ]
  },
  {
   "cell_type": "code",
   "execution_count": null,
   "metadata": {},
   "outputs": [],
   "source": [
    "# df.group_by vs. pd.df.groupby"
   ]
  },
  {
   "cell_type": "code",
   "execution_count": 34,
   "metadata": {},
   "outputs": [
    {
     "data": {
      "text/html": [
       "<div><style>\n",
       ".dataframe > thead > tr,\n",
       ".dataframe > tbody > tr {\n",
       "  text-align: right;\n",
       "  white-space: pre-wrap;\n",
       "}\n",
       "</style>\n",
       "<small>shape: (74, 2)</small><table border=\"1\" class=\"dataframe\"><thead><tr><th>release_year</th><th>len</th></tr><tr><td>i64</td><td>u32</td></tr></thead><tbody><tr><td>1925</td><td>1</td></tr><tr><td>1942</td><td>2</td></tr><tr><td>1943</td><td>3</td></tr><tr><td>1944</td><td>3</td></tr><tr><td>1945</td><td>4</td></tr><tr><td>&hellip;</td><td>&hellip;</td></tr><tr><td>2017</td><td>1032</td></tr><tr><td>2018</td><td>1147</td></tr><tr><td>2019</td><td>1030</td></tr><tr><td>2020</td><td>953</td></tr><tr><td>2021</td><td>592</td></tr></tbody></table></div>"
      ],
      "text/plain": [
       "shape: (74, 2)\n",
       "┌──────────────┬──────┐\n",
       "│ release_year ┆ len  │\n",
       "│ ---          ┆ ---  │\n",
       "│ i64          ┆ u32  │\n",
       "╞══════════════╪══════╡\n",
       "│ 1925         ┆ 1    │\n",
       "│ 1942         ┆ 2    │\n",
       "│ 1943         ┆ 3    │\n",
       "│ 1944         ┆ 3    │\n",
       "│ 1945         ┆ 4    │\n",
       "│ …            ┆ …    │\n",
       "│ 2017         ┆ 1032 │\n",
       "│ 2018         ┆ 1147 │\n",
       "│ 2019         ┆ 1030 │\n",
       "│ 2020         ┆ 953  │\n",
       "│ 2021         ┆ 592  │\n",
       "└──────────────┴──────┘"
      ]
     },
     "execution_count": 34,
     "metadata": {},
     "output_type": "execute_result"
    }
   ],
   "source": [
    "df0 = df.group_by(\"release_year\").len()\n",
    "df0.sort(\"release_year\")"
   ]
  },
  {
   "cell_type": "code",
   "execution_count": 35,
   "metadata": {},
   "outputs": [
    {
     "data": {
      "text/html": [
       "<div>\n",
       "<style scoped>\n",
       "    .dataframe tbody tr th:only-of-type {\n",
       "        vertical-align: middle;\n",
       "    }\n",
       "\n",
       "    .dataframe tbody tr th {\n",
       "        vertical-align: top;\n",
       "    }\n",
       "\n",
       "    .dataframe thead th {\n",
       "        text-align: right;\n",
       "    }\n",
       "</style>\n",
       "<table border=\"1\" class=\"dataframe\">\n",
       "  <thead>\n",
       "    <tr style=\"text-align: right;\">\n",
       "      <th></th>\n",
       "      <th>release_year</th>\n",
       "      <th>len</th>\n",
       "    </tr>\n",
       "  </thead>\n",
       "  <tbody>\n",
       "    <tr>\n",
       "      <th>0</th>\n",
       "      <td>1971</td>\n",
       "      <td>5</td>\n",
       "    </tr>\n",
       "    <tr>\n",
       "      <th>1</th>\n",
       "      <td>1980</td>\n",
       "      <td>11</td>\n",
       "    </tr>\n",
       "    <tr>\n",
       "      <th>2</th>\n",
       "      <td>1983</td>\n",
       "      <td>11</td>\n",
       "    </tr>\n",
       "    <tr>\n",
       "      <th>3</th>\n",
       "      <td>1974</td>\n",
       "      <td>7</td>\n",
       "    </tr>\n",
       "    <tr>\n",
       "      <th>4</th>\n",
       "      <td>1992</td>\n",
       "      <td>23</td>\n",
       "    </tr>\n",
       "    <tr>\n",
       "      <th>...</th>\n",
       "      <td>...</td>\n",
       "      <td>...</td>\n",
       "    </tr>\n",
       "    <tr>\n",
       "      <th>69</th>\n",
       "      <td>1956</td>\n",
       "      <td>2</td>\n",
       "    </tr>\n",
       "    <tr>\n",
       "      <th>70</th>\n",
       "      <td>1944</td>\n",
       "      <td>3</td>\n",
       "    </tr>\n",
       "    <tr>\n",
       "      <th>71</th>\n",
       "      <td>1959</td>\n",
       "      <td>1</td>\n",
       "    </tr>\n",
       "    <tr>\n",
       "      <th>72</th>\n",
       "      <td>1947</td>\n",
       "      <td>1</td>\n",
       "    </tr>\n",
       "    <tr>\n",
       "      <th>73</th>\n",
       "      <td>1965</td>\n",
       "      <td>2</td>\n",
       "    </tr>\n",
       "  </tbody>\n",
       "</table>\n",
       "<p>74 rows × 2 columns</p>\n",
       "</div>"
      ],
      "text/plain": [
       "    release_year  len\n",
       "0           1971    5\n",
       "1           1980   11\n",
       "2           1983   11\n",
       "3           1974    7\n",
       "4           1992   23\n",
       "..           ...  ...\n",
       "69          1956    2\n",
       "70          1944    3\n",
       "71          1959    1\n",
       "72          1947    1\n",
       "73          1965    2\n",
       "\n",
       "[74 rows x 2 columns]"
      ]
     },
     "execution_count": 35,
     "metadata": {},
     "output_type": "execute_result"
    }
   ],
   "source": [
    "df0.to_pandas()"
   ]
  },
  {
   "cell_type": "code",
   "execution_count": 36,
   "metadata": {},
   "outputs": [
    {
     "name": "stdout",
     "output_type": "stream",
     "text": [
      "shape: (74, 2)\n",
      "┌──────────────┬───────┐\n",
      "│ release_year ┆ count │\n",
      "│ ---          ┆ ---   │\n",
      "│ i64          ┆ u32   │\n",
      "╞══════════════╪═══════╡\n",
      "│ 1968         ┆ 3     │\n",
      "│ 1995         ┆ 25    │\n",
      "│ 1974         ┆ 7     │\n",
      "│ 1989         ┆ 16    │\n",
      "│ 2001         ┆ 45    │\n",
      "│ …            ┆ …     │\n",
      "│ 1962         ┆ 3     │\n",
      "│ 1956         ┆ 2     │\n",
      "│ 1965         ┆ 2     │\n",
      "│ 1944         ┆ 3     │\n",
      "│ 1947         ┆ 1     │\n",
      "└──────────────┴───────┘\n"
     ]
    }
   ],
   "source": [
    "# Group by and aggregate\n",
    "agg_df = df.group_by(\"release_year\").agg([\n",
    "    pl.col(\"type\").count().alias(\"count\"),\n",
    "])\n",
    "print(agg_df)"
   ]
  },
  {
   "cell_type": "code",
   "execution_count": 37,
   "metadata": {},
   "outputs": [],
   "source": [
    "q = (\n",
    "    df.lazy()\n",
    "    .sort(\"release_year\")\n",
    "    .select([\"type\", \"title\", \"release_year\", \"duration\"])\n",
    "    .filter(pl.col(\"type\") == \"Movie\")\n",
    ")"
   ]
  },
  {
   "cell_type": "code",
   "execution_count": 38,
   "metadata": {},
   "outputs": [
    {
     "data": {
      "text/html": [
       "<i>naive plan: (run <b>LazyFrame.explain(optimized=True)</b> to see the optimized plan)</i>\n",
       "    <p></p>\n",
       "    <div>FILTER [(col(\"type\")) == (String(Movie))] FROM<p></p>   SELECT [col(\"type\"), col(\"title\"), col(\"release_year\"), col(\"duration\")] FROM<p></p>    SORT BY [col(\"release_year\")]<p></p>      DF [\"show_id\", \"type\", \"title\", \"director\"]; PROJECT */12 COLUMNS; SELECTION: None</div>"
      ],
      "text/plain": [
       "<LazyFrame at 0x124DAA9D0>"
      ]
     },
     "execution_count": 38,
     "metadata": {},
     "output_type": "execute_result"
    }
   ],
   "source": [
    "q"
   ]
  },
  {
   "cell_type": "code",
   "execution_count": 39,
   "metadata": {},
   "outputs": [
    {
     "name": "stdout",
     "output_type": "stream",
     "text": [
      "shape: (6_131, 4)\n",
      "┌───────┬─────────────────────────────────┬──────────────┬──────────┐\n",
      "│ type  ┆ title                           ┆ release_year ┆ duration │\n",
      "│ ---   ┆ ---                             ┆ ---          ┆ ---      │\n",
      "│ str   ┆ str                             ┆ i64          ┆ str      │\n",
      "╞═══════╪═════════════════════════════════╪══════════════╪══════════╡\n",
      "│ Movie ┆ Prelude to War                  ┆ 1942         ┆ 52 min   │\n",
      "│ Movie ┆ The Battle of Midway            ┆ 1942         ┆ 18 min   │\n",
      "│ Movie ┆ Undercover: How to Operate Beh… ┆ 1943         ┆ 61 min   │\n",
      "│ Movie ┆ Why We Fight: The Battle of Ru… ┆ 1943         ┆ 82 min   │\n",
      "│ Movie ┆ WWII: Report from the Aleutian… ┆ 1943         ┆ 45 min   │\n",
      "│ …     ┆ …                               ┆ …            ┆ …        │\n",
      "│ Movie ┆ Creating The Queen's Gambit     ┆ 2021         ┆ 14 min   │\n",
      "│ Movie ┆ Stuck Apart                     ┆ 2021         ┆ 97 min   │\n",
      "│ Movie ┆ Ratones Paranoicos: The Band t… ┆ 2021         ┆ 76 min   │\n",
      "│ Movie ┆ The Minimalists: Less Is Now    ┆ 2021         ┆ 54 min   │\n",
      "│ Movie ┆ What Happened to Mr. Cha?       ┆ 2021         ┆ 102 min  │\n",
      "└───────┴─────────────────────────────────┴──────────────┴──────────┘\n"
     ]
    }
   ],
   "source": [
    "q = (\n",
    "    df.lazy()\n",
    "    .sort(\"release_year\")\n",
    "    .select([\"type\", \"title\", \"release_year\", \"duration\"])\n",
    "    .filter(pl.col(\"type\") == \"Movie\")\n",
    ")\n",
    "\n",
    "dfs = q.collect()\n",
    "print(dfs)"
   ]
  },
  {
   "cell_type": "code",
   "execution_count": null,
   "metadata": {},
   "outputs": [],
   "source": []
  },
  {
   "cell_type": "code",
   "execution_count": 40,
   "metadata": {},
   "outputs": [
    {
     "data": {
      "text/html": [
       "<div><style>\n",
       ".dataframe > thead > tr,\n",
       ".dataframe > tbody > tr {\n",
       "  text-align: right;\n",
       "  white-space: pre-wrap;\n",
       "}\n",
       "</style>\n",
       "<small>shape: (6_131, 5)</small><table border=\"1\" class=\"dataframe\"><thead><tr><th>type</th><th>title</th><th>release_year</th><th>duration</th><th>duration_min</th></tr><tr><td>str</td><td>str</td><td>i64</td><td>str</td><td>i32</td></tr></thead><tbody><tr><td>&quot;Movie&quot;</td><td>&quot;Prelude to War&quot;</td><td>1942</td><td>&quot;52 min&quot;</td><td>52</td></tr><tr><td>&quot;Movie&quot;</td><td>&quot;The Battle of Midway&quot;</td><td>1942</td><td>&quot;18 min&quot;</td><td>18</td></tr><tr><td>&quot;Movie&quot;</td><td>&quot;Undercover: How to Operate Beh…</td><td>1943</td><td>&quot;61 min&quot;</td><td>61</td></tr><tr><td>&quot;Movie&quot;</td><td>&quot;Why We Fight: The Battle of Ru…</td><td>1943</td><td>&quot;82 min&quot;</td><td>82</td></tr><tr><td>&quot;Movie&quot;</td><td>&quot;WWII: Report from the Aleutian…</td><td>1943</td><td>&quot;45 min&quot;</td><td>45</td></tr><tr><td>&hellip;</td><td>&hellip;</td><td>&hellip;</td><td>&hellip;</td><td>&hellip;</td></tr><tr><td>&quot;Movie&quot;</td><td>&quot;Creating The Queen&#x27;s Gambit&quot;</td><td>2021</td><td>&quot;14 min&quot;</td><td>14</td></tr><tr><td>&quot;Movie&quot;</td><td>&quot;Stuck Apart&quot;</td><td>2021</td><td>&quot;97 min&quot;</td><td>97</td></tr><tr><td>&quot;Movie&quot;</td><td>&quot;Ratones Paranoicos: The Band t…</td><td>2021</td><td>&quot;76 min&quot;</td><td>76</td></tr><tr><td>&quot;Movie&quot;</td><td>&quot;The Minimalists: Less Is Now&quot;</td><td>2021</td><td>&quot;54 min&quot;</td><td>54</td></tr><tr><td>&quot;Movie&quot;</td><td>&quot;What Happened to Mr. Cha?&quot;</td><td>2021</td><td>&quot;102 min&quot;</td><td>102</td></tr></tbody></table></div>"
      ],
      "text/plain": [
       "shape: (6_131, 5)\n",
       "┌───────┬─────────────────────────────────┬──────────────┬──────────┬──────────────┐\n",
       "│ type  ┆ title                           ┆ release_year ┆ duration ┆ duration_min │\n",
       "│ ---   ┆ ---                             ┆ ---          ┆ ---      ┆ ---          │\n",
       "│ str   ┆ str                             ┆ i64          ┆ str      ┆ i32          │\n",
       "╞═══════╪═════════════════════════════════╪══════════════╪══════════╪══════════════╡\n",
       "│ Movie ┆ Prelude to War                  ┆ 1942         ┆ 52 min   ┆ 52           │\n",
       "│ Movie ┆ The Battle of Midway            ┆ 1942         ┆ 18 min   ┆ 18           │\n",
       "│ Movie ┆ Undercover: How to Operate Beh… ┆ 1943         ┆ 61 min   ┆ 61           │\n",
       "│ Movie ┆ Why We Fight: The Battle of Ru… ┆ 1943         ┆ 82 min   ┆ 82           │\n",
       "│ Movie ┆ WWII: Report from the Aleutian… ┆ 1943         ┆ 45 min   ┆ 45           │\n",
       "│ …     ┆ …                               ┆ …            ┆ …        ┆ …            │\n",
       "│ Movie ┆ Creating The Queen's Gambit     ┆ 2021         ┆ 14 min   ┆ 14           │\n",
       "│ Movie ┆ Stuck Apart                     ┆ 2021         ┆ 97 min   ┆ 97           │\n",
       "│ Movie ┆ Ratones Paranoicos: The Band t… ┆ 2021         ┆ 76 min   ┆ 76           │\n",
       "│ Movie ┆ The Minimalists: Less Is Now    ┆ 2021         ┆ 54 min   ┆ 54           │\n",
       "│ Movie ┆ What Happened to Mr. Cha?       ┆ 2021         ┆ 102 min  ┆ 102          │\n",
       "└───────┴─────────────────────────────────┴──────────────┴──────────┴──────────────┘"
      ]
     },
     "execution_count": 40,
     "metadata": {},
     "output_type": "execute_result"
    }
   ],
   "source": [
    "def extract_min_pl() -> pl.Expr:\n",
    "    cols = [\"duration\"]\n",
    "    return pl.col(cols).str.split(\" \").list.get(0)\n",
    "\n",
    "dfs = dfs.with_columns(\n",
    "    extract_min_pl().alias(\"duration_min\").cast(pl.Int32)\n",
    ")\n",
    "dfs"
   ]
  },
  {
   "cell_type": "code",
   "execution_count": 41,
   "metadata": {},
   "outputs": [
    {
     "data": {
      "text/html": [
       "<div><style>\n",
       ".dataframe > thead > tr,\n",
       ".dataframe > tbody > tr {\n",
       "  text-align: right;\n",
       "  white-space: pre-wrap;\n",
       "}\n",
       "</style>\n",
       "<small>shape: (6_131, 7)</small><table border=\"1\" class=\"dataframe\"><thead><tr><th>type</th><th>title</th><th>release_year</th><th>duration</th><th>duration_min</th><th>pct_total</th><th>pct_total_2</th></tr><tr><td>str</td><td>str</td><td>i64</td><td>str</td><td>i32</td><td>f64</td><td>f64</td></tr></thead><tbody><tr><td>&quot;Movie&quot;</td><td>&quot;Prelude to War&quot;</td><td>1942</td><td>&quot;52 min&quot;</td><td>52</td><td>17.333333</td><td>0.166667</td></tr><tr><td>&quot;Movie&quot;</td><td>&quot;The Battle of Midway&quot;</td><td>1942</td><td>&quot;18 min&quot;</td><td>18</td><td>6.0</td><td>0.057692</td></tr><tr><td>&quot;Movie&quot;</td><td>&quot;Undercover: How to Operate Beh…</td><td>1943</td><td>&quot;61 min&quot;</td><td>61</td><td>20.333333</td><td>0.195513</td></tr><tr><td>&quot;Movie&quot;</td><td>&quot;Why We Fight: The Battle of Ru…</td><td>1943</td><td>&quot;82 min&quot;</td><td>82</td><td>27.333333</td><td>0.262821</td></tr><tr><td>&quot;Movie&quot;</td><td>&quot;WWII: Report from the Aleutian…</td><td>1943</td><td>&quot;45 min&quot;</td><td>45</td><td>15.0</td><td>0.144231</td></tr><tr><td>&hellip;</td><td>&hellip;</td><td>&hellip;</td><td>&hellip;</td><td>&hellip;</td><td>&hellip;</td><td>&hellip;</td></tr><tr><td>&quot;Movie&quot;</td><td>&quot;Creating The Queen&#x27;s Gambit&quot;</td><td>2021</td><td>&quot;14 min&quot;</td><td>14</td><td>4.666667</td><td>0.044872</td></tr><tr><td>&quot;Movie&quot;</td><td>&quot;Stuck Apart&quot;</td><td>2021</td><td>&quot;97 min&quot;</td><td>97</td><td>32.333333</td><td>0.310897</td></tr><tr><td>&quot;Movie&quot;</td><td>&quot;Ratones Paranoicos: The Band t…</td><td>2021</td><td>&quot;76 min&quot;</td><td>76</td><td>25.333333</td><td>0.24359</td></tr><tr><td>&quot;Movie&quot;</td><td>&quot;The Minimalists: Less Is Now&quot;</td><td>2021</td><td>&quot;54 min&quot;</td><td>54</td><td>18.0</td><td>0.173077</td></tr><tr><td>&quot;Movie&quot;</td><td>&quot;What Happened to Mr. Cha?&quot;</td><td>2021</td><td>&quot;102 min&quot;</td><td>102</td><td>34.0</td><td>0.326923</td></tr></tbody></table></div>"
      ],
      "text/plain": [
       "shape: (6_131, 7)\n",
       "┌───────┬───────────────────────┬──────────────┬──────────┬──────────────┬───────────┬─────────────┐\n",
       "│ type  ┆ title                 ┆ release_year ┆ duration ┆ duration_min ┆ pct_total ┆ pct_total_2 │\n",
       "│ ---   ┆ ---                   ┆ ---          ┆ ---      ┆ ---          ┆ ---       ┆ ---         │\n",
       "│ str   ┆ str                   ┆ i64          ┆ str      ┆ i32          ┆ f64       ┆ f64         │\n",
       "╞═══════╪═══════════════════════╪══════════════╪══════════╪══════════════╪═══════════╪═════════════╡\n",
       "│ Movie ┆ Prelude to War        ┆ 1942         ┆ 52 min   ┆ 52           ┆ 17.333333 ┆ 0.166667    │\n",
       "│ Movie ┆ The Battle of Midway  ┆ 1942         ┆ 18 min   ┆ 18           ┆ 6.0       ┆ 0.057692    │\n",
       "│ Movie ┆ Undercover: How to    ┆ 1943         ┆ 61 min   ┆ 61           ┆ 20.333333 ┆ 0.195513    │\n",
       "│       ┆ Operate Beh…          ┆              ┆          ┆              ┆           ┆             │\n",
       "│ Movie ┆ Why We Fight: The     ┆ 1943         ┆ 82 min   ┆ 82           ┆ 27.333333 ┆ 0.262821    │\n",
       "│       ┆ Battle of Ru…         ┆              ┆          ┆              ┆           ┆             │\n",
       "│ Movie ┆ WWII: Report from the ┆ 1943         ┆ 45 min   ┆ 45           ┆ 15.0      ┆ 0.144231    │\n",
       "│       ┆ Aleutian…             ┆              ┆          ┆              ┆           ┆             │\n",
       "│ …     ┆ …                     ┆ …            ┆ …        ┆ …            ┆ …         ┆ …           │\n",
       "│ Movie ┆ Creating The Queen's  ┆ 2021         ┆ 14 min   ┆ 14           ┆ 4.666667  ┆ 0.044872    │\n",
       "│       ┆ Gambit                ┆              ┆          ┆              ┆           ┆             │\n",
       "│ Movie ┆ Stuck Apart           ┆ 2021         ┆ 97 min   ┆ 97           ┆ 32.333333 ┆ 0.310897    │\n",
       "│ Movie ┆ Ratones Paranoicos:   ┆ 2021         ┆ 76 min   ┆ 76           ┆ 25.333333 ┆ 0.24359     │\n",
       "│       ┆ The Band t…           ┆              ┆          ┆              ┆           ┆             │\n",
       "│ Movie ┆ The Minimalists: Less ┆ 2021         ┆ 54 min   ┆ 54           ┆ 18.0      ┆ 0.173077    │\n",
       "│       ┆ Is Now                ┆              ┆          ┆              ┆           ┆             │\n",
       "│ Movie ┆ What Happened to Mr.  ┆ 2021         ┆ 102 min  ┆ 102          ┆ 34.0      ┆ 0.326923    │\n",
       "│       ┆ Cha?                  ┆              ┆          ┆              ┆           ┆             │\n",
       "└───────┴───────────────────────┴──────────────┴──────────┴──────────────┴───────────┴─────────────┘"
      ]
     },
     "execution_count": 41,
     "metadata": {},
     "output_type": "execute_result"
    }
   ],
   "source": [
    "dfs.with_columns(\n",
    "    (pl.col(\"duration_min\") / pl.col(\"duration_min\").min()).alias(\"pct_total\"),\n",
    "    (pl.col(\"duration_min\") / pl.col(\"duration_min\").max()).alias(\"pct_total_2\"),\n",
    ")"
   ]
  },
  {
   "cell_type": "markdown",
   "metadata": {},
   "source": []
  },
  {
   "cell_type": "markdown",
   "metadata": {},
   "source": [
    "### Plots (unstable) - do `to_pandas()` then plot"
   ]
  },
  {
   "cell_type": "code",
   "execution_count": 42,
   "metadata": {},
   "outputs": [],
   "source": [
    "# s = pl.Series([1, 4, 4, 6, 2, 4, 3, 5, 5, 7, 1])\n",
    "# s.plot.hist()"
   ]
  },
  {
   "cell_type": "code",
   "execution_count": 43,
   "metadata": {},
   "outputs": [],
   "source": [
    "# retina resolution seaborn plot\n",
    "import seaborn as sns\n",
    "sns.set_context(\"notebook\", font_scale=1.2)\n",
    "%config InlineBackend.figure_format = \"retina\""
   ]
  },
  {
   "cell_type": "code",
   "execution_count": 44,
   "metadata": {},
   "outputs": [
    {
     "data": {
      "text/plain": [
       "<Axes: title={'center': 'Movie Duration Distribution'}, xlabel='Duration (minutes)', ylabel='Frequency'>"
      ]
     },
     "execution_count": 44,
     "metadata": {},
     "output_type": "execute_result"
    },
    {
     "data": {
      "image/png": "[encoded data removed]",
      "text/plain": [
       "<Figure size 640x480 with 1 Axes>"
      ]
     },
     "metadata": {
      "image/png": {
       "height": 470,
       "width": 601
      }
     },
     "output_type": "display_data"
    }
   ],
   "source": [
    "dfs[\"duration_min\"].to_pandas().plot.hist(title=\"Movie Duration Distribution\", color=\"gray\", bins=30, xlabel=\"Duration (minutes)\")"
   ]
  },
  {
   "cell_type": "markdown",
   "metadata": {},
   "source": [
    "## Parquet"
   ]
  },
  {
   "cell_type": "markdown",
   "metadata": {},
   "source": [
    "### Dive into Parquet Format: What is Parquet?\n",
    "\n",
    "**Parquet** is a columnar storage file format designed for efficient data processing. It is widely used in big data frameworks like Spark and Hive.\n",
    "\n",
    "[https://docs.pola.rs/user-guide/io/parquet/](https://docs.pola.rs/user-guide/io/parquet/)\n",
    "\n",
    "**Advantages of Parquet:**\n",
    "\n",
    "- Compact storage through compression\n",
    "- Faster read/write times for columnar operations\n",
    "- Schema evolution support"
   ]
  },
  {
   "cell_type": "markdown",
   "metadata": {},
   "source": [
    "### Using Parquet with `polars`"
   ]
  },
  {
   "cell_type": "code",
   "execution_count": 45,
   "metadata": {},
   "outputs": [],
   "source": [
    "# Save as Parquet\n",
    "df.write_parquet(\"netflix_titles.parquet\")"
   ]
  },
  {
   "cell_type": "code",
   "execution_count": 46,
   "metadata": {},
   "outputs": [
    {
     "name": "stdout",
     "output_type": "stream",
     "text": [
      "shape: (8_807, 12)\n",
      "┌─────────┬─────────┬─────────────┬─────────────┬───┬────────┬───────────┬────────────┬────────────┐\n",
      "│ show_id ┆ type    ┆ title       ┆ director    ┆ … ┆ rating ┆ duration  ┆ listed_in  ┆ descriptio │\n",
      "│ ---     ┆ ---     ┆ ---         ┆ ---         ┆   ┆ ---    ┆ ---       ┆ ---        ┆ n          │\n",
      "│ str     ┆ str     ┆ str         ┆ str         ┆   ┆ str    ┆ str       ┆ str        ┆ ---        │\n",
      "│         ┆         ┆             ┆             ┆   ┆        ┆           ┆            ┆ str        │\n",
      "╞═════════╪═════════╪═════════════╪═════════════╪═══╪════════╪═══════════╪════════════╪════════════╡\n",
      "│ s1      ┆ Movie   ┆ Dick        ┆ Kirsten     ┆ … ┆ PG-13  ┆ 90 min    ┆ Documentar ┆ As her     │\n",
      "│         ┆         ┆ Johnson Is  ┆ Johnson     ┆   ┆        ┆           ┆ ies        ┆ father     │\n",
      "│         ┆         ┆ Dead        ┆             ┆   ┆        ┆           ┆            ┆ nears the  │\n",
      "│         ┆         ┆             ┆             ┆   ┆        ┆           ┆            ┆ end of…    │\n",
      "│ s2      ┆ TV Show ┆ Blood &     ┆ null        ┆ … ┆ TV-MA  ┆ 2 Seasons ┆ Internatio ┆ After      │\n",
      "│         ┆         ┆ Water       ┆             ┆   ┆        ┆           ┆ nal TV     ┆ crossing   │\n",
      "│         ┆         ┆             ┆             ┆   ┆        ┆           ┆ Shows, TV  ┆ paths at a │\n",
      "│         ┆         ┆             ┆             ┆   ┆        ┆           ┆ Dra…       ┆ part…      │\n",
      "│ s3      ┆ TV Show ┆ Ganglands   ┆ Julien      ┆ … ┆ TV-MA  ┆ 1 Season  ┆ Crime TV   ┆ To protect │\n",
      "│         ┆         ┆             ┆ Leclercq    ┆   ┆        ┆           ┆ Shows, Int ┆ his family │\n",
      "│         ┆         ┆             ┆             ┆   ┆        ┆           ┆ ernational ┆ from a p…  │\n",
      "│         ┆         ┆             ┆             ┆   ┆        ┆           ┆ …          ┆            │\n",
      "│ s4      ┆ TV Show ┆ Jailbirds   ┆ null        ┆ … ┆ TV-MA  ┆ 1 Season  ┆ Docuseries ┆ Feuds, fli │\n",
      "│         ┆         ┆ New Orleans ┆             ┆   ┆        ┆           ┆ , Reality  ┆ rtations   │\n",
      "│         ┆         ┆             ┆             ┆   ┆        ┆           ┆ TV         ┆ and toilet │\n",
      "│         ┆         ┆             ┆             ┆   ┆        ┆           ┆            ┆ …          │\n",
      "│ s5      ┆ TV Show ┆ Kota        ┆ null        ┆ … ┆ TV-MA  ┆ 2 Seasons ┆ Internatio ┆ In a city  │\n",
      "│         ┆         ┆ Factory     ┆             ┆   ┆        ┆           ┆ nal TV     ┆ of         │\n",
      "│         ┆         ┆             ┆             ┆   ┆        ┆           ┆ Shows,     ┆ coaching   │\n",
      "│         ┆         ┆             ┆             ┆   ┆        ┆           ┆ Romant…    ┆ centers …  │\n",
      "│ …       ┆ …       ┆ …           ┆ …           ┆ … ┆ …      ┆ …         ┆ …          ┆ …          │\n",
      "│ s8803   ┆ Movie   ┆ Zodiac      ┆ David       ┆ … ┆ R      ┆ 158 min   ┆ Cult       ┆ A          │\n",
      "│         ┆         ┆             ┆ Fincher     ┆   ┆        ┆           ┆ Movies,    ┆ political  │\n",
      "│         ┆         ┆             ┆             ┆   ┆        ┆           ┆ Dramas,    ┆ cartoonist │\n",
      "│         ┆         ┆             ┆             ┆   ┆        ┆           ┆ Thrillers  ┆ , a crim…  │\n",
      "│ s8804   ┆ TV Show ┆ Zombie Dumb ┆ null        ┆ … ┆ TV-Y7  ┆ 2 Seasons ┆ Kids' TV,  ┆ While      │\n",
      "│         ┆         ┆             ┆             ┆   ┆        ┆           ┆ Korean TV  ┆ living     │\n",
      "│         ┆         ┆             ┆             ┆   ┆        ┆           ┆ Shows, TV  ┆ alone in a │\n",
      "│         ┆         ┆             ┆             ┆   ┆        ┆           ┆ …          ┆ spooky…    │\n",
      "│ s8805   ┆ Movie   ┆ Zombieland  ┆ Ruben       ┆ … ┆ R      ┆ 88 min    ┆ Comedies,  ┆ Looking to │\n",
      "│         ┆         ┆             ┆ Fleischer   ┆   ┆        ┆           ┆ Horror     ┆ survive in │\n",
      "│         ┆         ┆             ┆             ┆   ┆        ┆           ┆ Movies     ┆ a world …  │\n",
      "│ s8806   ┆ Movie   ┆ Zoom        ┆ Peter       ┆ … ┆ PG     ┆ 88 min    ┆ Children & ┆ Dragged    │\n",
      "│         ┆         ┆             ┆ Hewitt      ┆   ┆        ┆           ┆ Family     ┆ from       │\n",
      "│         ┆         ┆             ┆             ┆   ┆        ┆           ┆ Movies,    ┆ civilian   │\n",
      "│         ┆         ┆             ┆             ┆   ┆        ┆           ┆ Come…      ┆ life, a …  │\n",
      "│ s8807   ┆ Movie   ┆ Zubaan      ┆ Mozez Singh ┆ … ┆ TV-14  ┆ 111 min   ┆ Dramas,    ┆ A scrappy  │\n",
      "│         ┆         ┆             ┆             ┆   ┆        ┆           ┆ Internatio ┆ but poor   │\n",
      "│         ┆         ┆             ┆             ┆   ┆        ┆           ┆ nal        ┆ boy worms  │\n",
      "│         ┆         ┆             ┆             ┆   ┆        ┆           ┆ Movies, …  ┆ h…         │\n",
      "└─────────┴─────────┴─────────────┴─────────────┴───┴────────┴───────────┴────────────┴────────────┘\n"
     ]
    }
   ],
   "source": [
    "# Load from Parquet\n",
    "parquet_df = pl.read_parquet(\"netflix_titles.parquet\")\n",
    "print(parquet_df)"
   ]
  },
  {
   "cell_type": "markdown",
   "metadata": {},
   "source": [
    "Performance Showcase\n",
    "\n",
    "We'll benchmark `polars` and `pandas` using a large dataset.\n",
    "\n",
    "### Benchmark Code"
   ]
  },
  {
   "cell_type": "code",
   "execution_count": 48,
   "metadata": {},
   "outputs": [
    {
     "name": "stdout",
     "output_type": "stream",
     "text": [
      "Pandas Time: 0.04198193550109863\n",
      "Polars Time: 0.0042760372161865234\n",
      "Polars Time: 0.0034940242767333984\n"
     ]
    }
   ],
   "source": [
    "import pandas as pd\n",
    "import time\n",
    "\n",
    "# Pandas Benchmark\n",
    "start = time.time()\n",
    "pandas_df = pd.read_csv(\"../99_files/netflix_titles.csv\")\n",
    "pandas_filtered = pandas_df[(pandas_df[\"type\"] == \"Movie\") & (pandas_df[\"release_year\"] > 2015)]\n",
    "print(\"Pandas Time:\", time.time() - start)\n",
    "\n",
    "# Polars Benchmark\n",
    "start = time.time()\n",
    "polars_df = pl.read_csv(\"../99_files/netflix_titles.csv\")\n",
    "polars_filtered = polars_df.filter((pl.col(\"type\") == \"Movie\") & (pl.col(\"release_year\") > 2015))\n",
    "print(\"Polars Time:\", time.time() - start)\n",
    "\n",
    "# Polars Benchmark parquet\n",
    "start = time.time()\n",
    "polars_df = pl.read_parquet(\"netflix_titles.parquet\")\n",
    "polars_filtered = polars_df.filter((pl.col(\"type\") == \"Movie\") & (pl.col(\"release_year\") > 2015))\n",
    "print(\"Polars Time:\", time.time() - start)"
   ]
  },
  {
   "cell_type": "markdown",
   "metadata": {},
   "source": [
    "### Expected Results\n",
    "\n",
    "- `polars` will outperform `pandas` significantly in terms of speed and memory usage."
   ]
  },
  {
   "cell_type": "markdown",
   "metadata": {},
   "source": [
    "### **Summary**\n",
    "\n",
    "1. **`polars` vs `pandas`:**\n",
    "    - Faster, more efficient for large datasets\n",
    "    - Lazy evaluation for complex pipelines\n",
    "2. **Parquet Format:**\n",
    "    - Ideal for compact, efficient storage\n",
    "    - Works seamlessly with `polars`"
   ]
  },
  {
   "cell_type": "code",
   "execution_count": null,
   "metadata": {},
   "outputs": [],
   "source": []
  },
  {
   "cell_type": "markdown",
   "metadata": {},
   "source": []
  }
 ],
 "metadata": {
  "kernelspec": {
   "display_name": "Python 3",
   "language": "python",
   "name": "python3"
  },
  "language_info": {
   "codemirror_mode": {
    "name": "ipython",
    "version": 3
   },
   "file_extension": ".py",
   "mimetype": "text/x-python",
   "name": "python",
   "nbconvert_exporter": "python",
   "pygments_lexer": "ipython3",
   "version": "3.11.10"
  }
 },
 "nbformat": 4,
 "nbformat_minor": 2
}
