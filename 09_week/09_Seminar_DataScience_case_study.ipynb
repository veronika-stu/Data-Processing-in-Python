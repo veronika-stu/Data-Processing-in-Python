{
 "cells": [
  {
   "cell_type": "markdown",
   "id": "2d667870",
   "metadata": {},
   "source": [
    "# Heart Attack Prediction Case Study\n",
    "## Seminar 5, Data Science Case Study\n",
    "__Week 9__, 25/04/15\n",
    "\n",
    "### __Problem definition:__ Predict whether a patient will have a heart attack or not\n"
   ]
  },
  {
   "cell_type": "markdown",
   "id": "be742eee",
   "metadata": {},
   "source": [
    "## Dataset description: "
   ]
  },
  {
   "cell_type": "markdown",
   "id": "6c9c4ad8",
   "metadata": {},
   "source": [
    "| **Feature**     | **Description**                                                                                         | **Values**                                                                                 |\n",
    "|------------------|---------------------------------------------------------------------------------------------------------|-------------------------------------------------------------------------------------------|\n",
    "| **Age**         | Age of the individual.                                                                                  | Numerical                                                                                 |\n",
    "| **Sex**         | Biological sex of the individual.                                                                       | Male, Female                                                                              |\n",
    "| **exang**       | Whether the individual experiences chest pain caused by exercise (indicates potential heart problems).  | 1 = Yes, 0 = No                                                                          |\n",
    "| **ca**          | Number of major blood vessels that show narrowing or blockage (higher value = more severe issues).      | 0 to 3                                                                                   |\n",
    "| **cp**          | Type of chest pain experienced.                                                                         | 1 = Typical angina (heart-related pain)                                                  |\n",
    "|                  |                                                                                                         | 2 = Atypical angina (not directly related to heart issues)                               |\n",
    "|                  |                                                                                                         | 3 = Non-anginal pain (unrelated to the heart)                                            |\n",
    "|                  |                                                                                                         | 4 = Asymptomatic (no chest pain)                                                        |\n",
    "| **trtbps**      | Resting blood pressure (in mm Hg). Reflects blood force on vessel walls while at rest.                  | Numerical                                                                                 |\n",
    "| **chol**        | Cholesterol level in blood (mg/dl). High values indicate a higher risk of heart disease.                | Numerical                                                                                 |\n",
    "| **fbs**         | Fasting blood sugar level (>120 mg/dl indicates possible diabetes).                                     | 1 = True, 0 = False                                                                      |\n",
    "| **rest_ecg**    | Resting electrocardiogram results (measures heart's electrical activity).                               | 0 = Normal                                                                               |\n",
    "|                  |                                                                                                         | 1 = Abnormalities in heart signals (e.g., irregular heartbeat)                          |\n",
    "|                  |                                                                                                         | 2 = Enlarged heart due to strain/damage                                                 |\n",
    "| **thalach**     | Maximum heart rate achieved during physical activity (lower values may indicate weaker performance).    | Numerical                                                                                 |\n",
    "| **target**      | Likelihood of heart problems based on all factors.                                                      | 0 = Lower chance of heart attack                                                         |\n",
    "|                  |                                                                                                         | 1 = Higher chance of heart attack                                                       |\n"
   ]
  },
  {
   "cell_type": "code",
   "execution_count": 2,
   "id": "25294e0a",
   "metadata": {},
   "outputs": [],
   "source": [
    "import pandas as pd\n",
    "import numpy as np\n",
    "import matplotlib.pyplot as plt\n",
    "import seaborn as sns\n",
    "import sklearn # scikit-learn might work instead\n",
    "from sklearn.model_selection import train_test_split, RandomizedSearchCV\n",
    "from sklearn.ensemble import RandomForestClassifier\n",
    "from sklearn.metrics import confusion_matrix\n",
    "\n",
    "# !pip3 install sklearn "
   ]
  },
  {
   "cell_type": "markdown",
   "id": "0cd1b4db",
   "metadata": {},
   "source": [
    "## Data Preparation"
   ]
  },
  {
   "cell_type": "code",
   "execution_count": 54,
   "id": "cad732a7",
   "metadata": {},
   "outputs": [],
   "source": [
    "data = pd.read_csv(\"Seminar_data/heart.csv\")\n",
    "o2_saturation = pd.read_csv(\"Seminar_data/o2Saturation.csv\")"
   ]
  },
  {
   "cell_type": "code",
   "execution_count": 5,
   "id": "190ade33",
   "metadata": {},
   "outputs": [
    {
     "name": "stdout",
     "output_type": "stream",
     "text": [
      "(303, 14)\n"
     ]
    },
    {
     "data": {
      "text/html": [
       "<div>\n",
       "<style scoped>\n",
       "    .dataframe tbody tr th:only-of-type {\n",
       "        vertical-align: middle;\n",
       "    }\n",
       "\n",
       "    .dataframe tbody tr th {\n",
       "        vertical-align: top;\n",
       "    }\n",
       "\n",
       "    .dataframe thead th {\n",
       "        text-align: right;\n",
       "    }\n",
       "</style>\n",
       "<table border=\"1\" class=\"dataframe\">\n",
       "  <thead>\n",
       "    <tr style=\"text-align: right;\">\n",
       "      <th></th>\n",
       "      <th>age</th>\n",
       "      <th>sex</th>\n",
       "      <th>cp</th>\n",
       "      <th>trtbps</th>\n",
       "      <th>chol</th>\n",
       "      <th>fbs</th>\n",
       "      <th>restecg</th>\n",
       "      <th>thalachh</th>\n",
       "      <th>exng</th>\n",
       "      <th>oldpeak</th>\n",
       "      <th>slp</th>\n",
       "      <th>caa</th>\n",
       "      <th>thall</th>\n",
       "      <th>output</th>\n",
       "    </tr>\n",
       "  </thead>\n",
       "  <tbody>\n",
       "    <tr>\n",
       "      <th>0</th>\n",
       "      <td>63</td>\n",
       "      <td>1</td>\n",
       "      <td>3</td>\n",
       "      <td>145</td>\n",
       "      <td>233</td>\n",
       "      <td>1</td>\n",
       "      <td>0</td>\n",
       "      <td>150</td>\n",
       "      <td>0</td>\n",
       "      <td>2.3</td>\n",
       "      <td>0</td>\n",
       "      <td>0</td>\n",
       "      <td>1</td>\n",
       "      <td>1</td>\n",
       "    </tr>\n",
       "    <tr>\n",
       "      <th>1</th>\n",
       "      <td>37</td>\n",
       "      <td>1</td>\n",
       "      <td>2</td>\n",
       "      <td>130</td>\n",
       "      <td>250</td>\n",
       "      <td>0</td>\n",
       "      <td>1</td>\n",
       "      <td>187</td>\n",
       "      <td>0</td>\n",
       "      <td>3.5</td>\n",
       "      <td>0</td>\n",
       "      <td>0</td>\n",
       "      <td>2</td>\n",
       "      <td>1</td>\n",
       "    </tr>\n",
       "    <tr>\n",
       "      <th>2</th>\n",
       "      <td>41</td>\n",
       "      <td>0</td>\n",
       "      <td>1</td>\n",
       "      <td>130</td>\n",
       "      <td>204</td>\n",
       "      <td>0</td>\n",
       "      <td>0</td>\n",
       "      <td>172</td>\n",
       "      <td>0</td>\n",
       "      <td>1.4</td>\n",
       "      <td>2</td>\n",
       "      <td>0</td>\n",
       "      <td>2</td>\n",
       "      <td>1</td>\n",
       "    </tr>\n",
       "    <tr>\n",
       "      <th>3</th>\n",
       "      <td>56</td>\n",
       "      <td>1</td>\n",
       "      <td>1</td>\n",
       "      <td>120</td>\n",
       "      <td>236</td>\n",
       "      <td>0</td>\n",
       "      <td>1</td>\n",
       "      <td>178</td>\n",
       "      <td>0</td>\n",
       "      <td>0.8</td>\n",
       "      <td>2</td>\n",
       "      <td>0</td>\n",
       "      <td>2</td>\n",
       "      <td>1</td>\n",
       "    </tr>\n",
       "    <tr>\n",
       "      <th>4</th>\n",
       "      <td>57</td>\n",
       "      <td>0</td>\n",
       "      <td>0</td>\n",
       "      <td>120</td>\n",
       "      <td>354</td>\n",
       "      <td>0</td>\n",
       "      <td>1</td>\n",
       "      <td>163</td>\n",
       "      <td>1</td>\n",
       "      <td>0.6</td>\n",
       "      <td>2</td>\n",
       "      <td>0</td>\n",
       "      <td>2</td>\n",
       "      <td>1</td>\n",
       "    </tr>\n",
       "  </tbody>\n",
       "</table>\n",
       "</div>"
      ],
      "text/plain": [
       "   age  sex  cp  trtbps  chol  fbs  restecg  thalachh  exng  oldpeak  slp  \\\n",
       "0   63    1   3     145   233    1        0       150     0      2.3    0   \n",
       "1   37    1   2     130   250    0        1       187     0      3.5    0   \n",
       "2   41    0   1     130   204    0        0       172     0      1.4    2   \n",
       "3   56    1   1     120   236    0        1       178     0      0.8    2   \n",
       "4   57    0   0     120   354    0        1       163     1      0.6    2   \n",
       "\n",
       "   caa  thall  output  \n",
       "0    0      1       1  \n",
       "1    0      2       1  \n",
       "2    0      2       1  \n",
       "3    0      2       1  \n",
       "4    0      2       1  "
      ]
     },
     "execution_count": 5,
     "metadata": {},
     "output_type": "execute_result"
    }
   ],
   "source": [
    "print(data.shape)\n",
    "data.head()"
   ]
  },
  {
   "cell_type": "code",
   "execution_count": 6,
   "id": "6d64fd26",
   "metadata": {},
   "outputs": [
    {
     "name": "stdout",
     "output_type": "stream",
     "text": [
      "(3585, 1)\n"
     ]
    },
    {
     "data": {
      "text/html": [
       "<div>\n",
       "<style scoped>\n",
       "    .dataframe tbody tr th:only-of-type {\n",
       "        vertical-align: middle;\n",
       "    }\n",
       "\n",
       "    .dataframe tbody tr th {\n",
       "        vertical-align: top;\n",
       "    }\n",
       "\n",
       "    .dataframe thead th {\n",
       "        text-align: right;\n",
       "    }\n",
       "</style>\n",
       "<table border=\"1\" class=\"dataframe\">\n",
       "  <thead>\n",
       "    <tr style=\"text-align: right;\">\n",
       "      <th></th>\n",
       "      <th>98.6</th>\n",
       "    </tr>\n",
       "  </thead>\n",
       "  <tbody>\n",
       "    <tr>\n",
       "      <th>0</th>\n",
       "      <td>98.6</td>\n",
       "    </tr>\n",
       "    <tr>\n",
       "      <th>1</th>\n",
       "      <td>98.6</td>\n",
       "    </tr>\n",
       "    <tr>\n",
       "      <th>2</th>\n",
       "      <td>98.6</td>\n",
       "    </tr>\n",
       "    <tr>\n",
       "      <th>3</th>\n",
       "      <td>98.1</td>\n",
       "    </tr>\n",
       "    <tr>\n",
       "      <th>4</th>\n",
       "      <td>97.5</td>\n",
       "    </tr>\n",
       "  </tbody>\n",
       "</table>\n",
       "</div>"
      ],
      "text/plain": [
       "   98.6\n",
       "0  98.6\n",
       "1  98.6\n",
       "2  98.6\n",
       "3  98.1\n",
       "4  97.5"
      ]
     },
     "execution_count": 6,
     "metadata": {},
     "output_type": "execute_result"
    }
   ],
   "source": [
    "print(o2_saturation.shape)\n",
    "o2_saturation.head()"
   ]
  },
  {
   "cell_type": "code",
   "execution_count": 55,
   "id": "9c2711c0",
   "metadata": {},
   "outputs": [
    {
     "name": "stdout",
     "output_type": "stream",
     "text": [
      "<class 'pandas.core.frame.DataFrame'>\n",
      "RangeIndex: 303 entries, 0 to 302\n",
      "Data columns (total 14 columns):\n",
      " #   Column    Non-Null Count  Dtype  \n",
      "---  ------    --------------  -----  \n",
      " 0   age       303 non-null    int64  \n",
      " 1   sex       303 non-null    int64  \n",
      " 2   cp        303 non-null    int64  \n",
      " 3   trtbps    303 non-null    int64  \n",
      " 4   chol      303 non-null    int64  \n",
      " 5   fbs       303 non-null    int64  \n",
      " 6   restecg   303 non-null    int64  \n",
      " 7   thalachh  303 non-null    int64  \n",
      " 8   exng      303 non-null    int64  \n",
      " 9   oldpeak   303 non-null    float64\n",
      " 10  slp       303 non-null    int64  \n",
      " 11  caa       303 non-null    int64  \n",
      " 12  thall     303 non-null    int64  \n",
      " 13  output    303 non-null    int64  \n",
      "dtypes: float64(1), int64(13)\n",
      "memory usage: 33.3 KB\n"
     ]
    }
   ],
   "source": [
    "data.info()"
   ]
  },
  {
   "cell_type": "markdown",
   "id": "36498b55",
   "metadata": {},
   "source": [
    "## Exploratory Data Analysis (EDA)"
   ]
  },
  {
   "cell_type": "code",
   "execution_count": 8,
   "id": "1489c727",
   "metadata": {},
   "outputs": [
    {
     "data": {
      "text/html": [
       "<div>\n",
       "<style scoped>\n",
       "    .dataframe tbody tr th:only-of-type {\n",
       "        vertical-align: middle;\n",
       "    }\n",
       "\n",
       "    .dataframe tbody tr th {\n",
       "        vertical-align: top;\n",
       "    }\n",
       "\n",
       "    .dataframe thead th {\n",
       "        text-align: right;\n",
       "    }\n",
       "</style>\n",
       "<table border=\"1\" class=\"dataframe\">\n",
       "  <thead>\n",
       "    <tr style=\"text-align: right;\">\n",
       "      <th></th>\n",
       "      <th>age</th>\n",
       "      <th>sex</th>\n",
       "      <th>cp</th>\n",
       "      <th>trtbps</th>\n",
       "      <th>chol</th>\n",
       "      <th>fbs</th>\n",
       "      <th>restecg</th>\n",
       "      <th>thalachh</th>\n",
       "      <th>exng</th>\n",
       "      <th>oldpeak</th>\n",
       "      <th>slp</th>\n",
       "      <th>caa</th>\n",
       "      <th>thall</th>\n",
       "      <th>output</th>\n",
       "    </tr>\n",
       "  </thead>\n",
       "  <tbody>\n",
       "    <tr>\n",
       "      <th>count</th>\n",
       "      <td>303.000000</td>\n",
       "      <td>303.000000</td>\n",
       "      <td>303.000000</td>\n",
       "      <td>303.000000</td>\n",
       "      <td>303.000000</td>\n",
       "      <td>303.000000</td>\n",
       "      <td>303.000000</td>\n",
       "      <td>303.000000</td>\n",
       "      <td>303.000000</td>\n",
       "      <td>303.000000</td>\n",
       "      <td>303.000000</td>\n",
       "      <td>303.000000</td>\n",
       "      <td>303.000000</td>\n",
       "      <td>303.000000</td>\n",
       "    </tr>\n",
       "    <tr>\n",
       "      <th>mean</th>\n",
       "      <td>54.366337</td>\n",
       "      <td>0.683168</td>\n",
       "      <td>0.966997</td>\n",
       "      <td>131.623762</td>\n",
       "      <td>246.264026</td>\n",
       "      <td>0.148515</td>\n",
       "      <td>0.528053</td>\n",
       "      <td>149.646865</td>\n",
       "      <td>0.326733</td>\n",
       "      <td>1.039604</td>\n",
       "      <td>1.399340</td>\n",
       "      <td>0.729373</td>\n",
       "      <td>2.313531</td>\n",
       "      <td>0.544554</td>\n",
       "    </tr>\n",
       "    <tr>\n",
       "      <th>std</th>\n",
       "      <td>9.082101</td>\n",
       "      <td>0.466011</td>\n",
       "      <td>1.032052</td>\n",
       "      <td>17.538143</td>\n",
       "      <td>51.830751</td>\n",
       "      <td>0.356198</td>\n",
       "      <td>0.525860</td>\n",
       "      <td>22.905161</td>\n",
       "      <td>0.469794</td>\n",
       "      <td>1.161075</td>\n",
       "      <td>0.616226</td>\n",
       "      <td>1.022606</td>\n",
       "      <td>0.612277</td>\n",
       "      <td>0.498835</td>\n",
       "    </tr>\n",
       "    <tr>\n",
       "      <th>min</th>\n",
       "      <td>29.000000</td>\n",
       "      <td>0.000000</td>\n",
       "      <td>0.000000</td>\n",
       "      <td>94.000000</td>\n",
       "      <td>126.000000</td>\n",
       "      <td>0.000000</td>\n",
       "      <td>0.000000</td>\n",
       "      <td>71.000000</td>\n",
       "      <td>0.000000</td>\n",
       "      <td>0.000000</td>\n",
       "      <td>0.000000</td>\n",
       "      <td>0.000000</td>\n",
       "      <td>0.000000</td>\n",
       "      <td>0.000000</td>\n",
       "    </tr>\n",
       "    <tr>\n",
       "      <th>25%</th>\n",
       "      <td>47.500000</td>\n",
       "      <td>0.000000</td>\n",
       "      <td>0.000000</td>\n",
       "      <td>120.000000</td>\n",
       "      <td>211.000000</td>\n",
       "      <td>0.000000</td>\n",
       "      <td>0.000000</td>\n",
       "      <td>133.500000</td>\n",
       "      <td>0.000000</td>\n",
       "      <td>0.000000</td>\n",
       "      <td>1.000000</td>\n",
       "      <td>0.000000</td>\n",
       "      <td>2.000000</td>\n",
       "      <td>0.000000</td>\n",
       "    </tr>\n",
       "    <tr>\n",
       "      <th>50%</th>\n",
       "      <td>55.000000</td>\n",
       "      <td>1.000000</td>\n",
       "      <td>1.000000</td>\n",
       "      <td>130.000000</td>\n",
       "      <td>240.000000</td>\n",
       "      <td>0.000000</td>\n",
       "      <td>1.000000</td>\n",
       "      <td>153.000000</td>\n",
       "      <td>0.000000</td>\n",
       "      <td>0.800000</td>\n",
       "      <td>1.000000</td>\n",
       "      <td>0.000000</td>\n",
       "      <td>2.000000</td>\n",
       "      <td>1.000000</td>\n",
       "    </tr>\n",
       "    <tr>\n",
       "      <th>75%</th>\n",
       "      <td>61.000000</td>\n",
       "      <td>1.000000</td>\n",
       "      <td>2.000000</td>\n",
       "      <td>140.000000</td>\n",
       "      <td>274.500000</td>\n",
       "      <td>0.000000</td>\n",
       "      <td>1.000000</td>\n",
       "      <td>166.000000</td>\n",
       "      <td>1.000000</td>\n",
       "      <td>1.600000</td>\n",
       "      <td>2.000000</td>\n",
       "      <td>1.000000</td>\n",
       "      <td>3.000000</td>\n",
       "      <td>1.000000</td>\n",
       "    </tr>\n",
       "    <tr>\n",
       "      <th>max</th>\n",
       "      <td>77.000000</td>\n",
       "      <td>1.000000</td>\n",
       "      <td>3.000000</td>\n",
       "      <td>200.000000</td>\n",
       "      <td>564.000000</td>\n",
       "      <td>1.000000</td>\n",
       "      <td>2.000000</td>\n",
       "      <td>202.000000</td>\n",
       "      <td>1.000000</td>\n",
       "      <td>6.200000</td>\n",
       "      <td>2.000000</td>\n",
       "      <td>4.000000</td>\n",
       "      <td>3.000000</td>\n",
       "      <td>1.000000</td>\n",
       "    </tr>\n",
       "  </tbody>\n",
       "</table>\n",
       "</div>"
      ],
      "text/plain": [
       "              age         sex          cp      trtbps        chol         fbs  \\\n",
       "count  303.000000  303.000000  303.000000  303.000000  303.000000  303.000000   \n",
       "mean    54.366337    0.683168    0.966997  131.623762  246.264026    0.148515   \n",
       "std      9.082101    0.466011    1.032052   17.538143   51.830751    0.356198   \n",
       "min     29.000000    0.000000    0.000000   94.000000  126.000000    0.000000   \n",
       "25%     47.500000    0.000000    0.000000  120.000000  211.000000    0.000000   \n",
       "50%     55.000000    1.000000    1.000000  130.000000  240.000000    0.000000   \n",
       "75%     61.000000    1.000000    2.000000  140.000000  274.500000    0.000000   \n",
       "max     77.000000    1.000000    3.000000  200.000000  564.000000    1.000000   \n",
       "\n",
       "          restecg    thalachh        exng     oldpeak         slp         caa  \\\n",
       "count  303.000000  303.000000  303.000000  303.000000  303.000000  303.000000   \n",
       "mean     0.528053  149.646865    0.326733    1.039604    1.399340    0.729373   \n",
       "std      0.525860   22.905161    0.469794    1.161075    0.616226    1.022606   \n",
       "min      0.000000   71.000000    0.000000    0.000000    0.000000    0.000000   \n",
       "25%      0.000000  133.500000    0.000000    0.000000    1.000000    0.000000   \n",
       "50%      1.000000  153.000000    0.000000    0.800000    1.000000    0.000000   \n",
       "75%      1.000000  166.000000    1.000000    1.600000    2.000000    1.000000   \n",
       "max      2.000000  202.000000    1.000000    6.200000    2.000000    4.000000   \n",
       "\n",
       "            thall      output  \n",
       "count  303.000000  303.000000  \n",
       "mean     2.313531    0.544554  \n",
       "std      0.612277    0.498835  \n",
       "min      0.000000    0.000000  \n",
       "25%      2.000000    0.000000  \n",
       "50%      2.000000    1.000000  \n",
       "75%      3.000000    1.000000  \n",
       "max      3.000000    1.000000  "
      ]
     },
     "execution_count": 8,
     "metadata": {},
     "output_type": "execute_result"
    }
   ],
   "source": [
    "data.describe()"
   ]
  },
  {
   "cell_type": "code",
   "execution_count": 60,
   "id": "cb011403",
   "metadata": {},
   "outputs": [
    {
     "data": {
      "text/plain": [
       "<Axes: >"
      ]
     },
     "execution_count": 60,
     "metadata": {},
     "output_type": "execute_result"
    },
    {
     "data": {
      "image/png": "[encoded data removed]",
      "text/plain": [
       "<Figure size 640x480 with 1 Axes>"
      ]
     },
     "metadata": {},
     "output_type": "display_data"
    }
   ],
   "source": [
    "data['age'].hist(bins=50)"
   ]
  },
  {
   "cell_type": "code",
   "execution_count": 9,
   "id": "17e69c68",
   "metadata": {},
   "outputs": [
    {
     "data": {
      "text/plain": [
       "<Axes: >"
      ]
     },
     "execution_count": 9,
     "metadata": {},
     "output_type": "execute_result"
    },
    {
     "data": {
      "image/png": "[encoded data removed]",
      "text/plain": [
       "<Figure size 640x480 with 1 Axes>"
      ]
     },
     "metadata": {},
     "output_type": "display_data"
    }
   ],
   "source": [
    "# what is the distribution of age column?\n",
    "data[\"age\"].hist(bins=50)"
   ]
  },
  {
   "cell_type": "code",
   "execution_count": 63,
   "id": "643d53e3",
   "metadata": {},
   "outputs": [
    {
     "data": {
      "text/plain": [
       "303"
      ]
     },
     "execution_count": 63,
     "metadata": {},
     "output_type": "execute_result"
    }
   ],
   "source": [
    "len(data)"
   ]
  },
  {
   "cell_type": "code",
   "execution_count": 67,
   "id": "fc8b7186",
   "metadata": {},
   "outputs": [
    {
     "name": "stdout",
     "output_type": "stream",
     "text": [
      "Male ratio: 0.68\n"
     ]
    }
   ],
   "source": [
    "print(f'Male ratio: {round(data['sex'].sum()/len(data), 2)}')\n"
   ]
  },
  {
   "cell_type": "code",
   "execution_count": 75,
   "id": "483fca6a",
   "metadata": {},
   "outputs": [
    {
     "data": {
      "text/plain": [
       "sex\n",
       "1    0.68\n",
       "0    0.32\n",
       "Name: proportion, dtype: float64"
      ]
     },
     "execution_count": 75,
     "metadata": {},
     "output_type": "execute_result"
    }
   ],
   "source": [
    "round(data['sex'].value_counts(normalize=True), 2)"
   ]
  },
  {
   "cell_type": "code",
   "execution_count": 11,
   "id": "caba3e33",
   "metadata": {},
   "outputs": [
    {
     "name": "stdout",
     "output_type": "stream",
     "text": [
      "Male ratio: 0.68\n",
      "Female ratio: 0.32\n"
     ]
    }
   ],
   "source": [
    "##  What is the share between males and females in the sample?\n",
    "#round(data[\"sex\"].value_counts(normalize=True), 2)\n",
    "print(f'Male ratio: {round(data.sex.sum()/len(data),2)}')\n",
    "print(f'Female ratio: {round(1 - data.sex.sum()/len(data),2)}')"
   ]
  },
  {
   "cell_type": "code",
   "execution_count": 12,
   "id": "2961b699",
   "metadata": {},
   "outputs": [
    {
     "data": {
      "text/plain": [
       "sex\n",
       "1    0.68\n",
       "0    0.32\n",
       "Name: proportion, dtype: float64"
      ]
     },
     "execution_count": 12,
     "metadata": {},
     "output_type": "execute_result"
    }
   ],
   "source": [
    "round(data['sex'].value_counts(normalize=True), 2)"
   ]
  },
  {
   "cell_type": "code",
   "execution_count": 13,
   "id": "e5da79f7",
   "metadata": {},
   "outputs": [
    {
     "data": {
      "text/plain": [
       "output\n",
       "1    0.54\n",
       "0    0.46\n",
       "Name: proportion, dtype: float64"
      ]
     },
     "execution_count": 13,
     "metadata": {},
     "output_type": "execute_result"
    }
   ],
   "source": [
    "## Check if classes are balanced or not\n",
    "round(data[\"output\"].value_counts(normalize=True), 2)"
   ]
  },
  {
   "cell_type": "code",
   "execution_count": 79,
   "id": "d653bd82",
   "metadata": {},
   "outputs": [
    {
     "data": {
      "text/html": [
       "<div>\n",
       "<style scoped>\n",
       "    .dataframe tbody tr th:only-of-type {\n",
       "        vertical-align: middle;\n",
       "    }\n",
       "\n",
       "    .dataframe tbody tr th {\n",
       "        vertical-align: top;\n",
       "    }\n",
       "\n",
       "    .dataframe thead th {\n",
       "        text-align: right;\n",
       "    }\n",
       "</style>\n",
       "<table border=\"1\" class=\"dataframe\">\n",
       "  <thead>\n",
       "    <tr style=\"text-align: right;\">\n",
       "      <th></th>\n",
       "      <th>98.6</th>\n",
       "    </tr>\n",
       "  </thead>\n",
       "  <tbody>\n",
       "    <tr>\n",
       "      <th>0</th>\n",
       "      <td>98.6</td>\n",
       "    </tr>\n",
       "    <tr>\n",
       "      <th>1</th>\n",
       "      <td>98.6</td>\n",
       "    </tr>\n",
       "    <tr>\n",
       "      <th>2</th>\n",
       "      <td>98.6</td>\n",
       "    </tr>\n",
       "    <tr>\n",
       "      <th>3</th>\n",
       "      <td>98.1</td>\n",
       "    </tr>\n",
       "    <tr>\n",
       "      <th>4</th>\n",
       "      <td>97.5</td>\n",
       "    </tr>\n",
       "    <tr>\n",
       "      <th>...</th>\n",
       "      <td>...</td>\n",
       "    </tr>\n",
       "    <tr>\n",
       "      <th>3580</th>\n",
       "      <td>98.6</td>\n",
       "    </tr>\n",
       "    <tr>\n",
       "      <th>3581</th>\n",
       "      <td>98.6</td>\n",
       "    </tr>\n",
       "    <tr>\n",
       "      <th>3582</th>\n",
       "      <td>98.6</td>\n",
       "    </tr>\n",
       "    <tr>\n",
       "      <th>3583</th>\n",
       "      <td>98.6</td>\n",
       "    </tr>\n",
       "    <tr>\n",
       "      <th>3584</th>\n",
       "      <td>98.6</td>\n",
       "    </tr>\n",
       "  </tbody>\n",
       "</table>\n",
       "<p>3585 rows × 1 columns</p>\n",
       "</div>"
      ],
      "text/plain": [
       "      98.6\n",
       "0     98.6\n",
       "1     98.6\n",
       "2     98.6\n",
       "3     98.1\n",
       "4     97.5\n",
       "...    ...\n",
       "3580  98.6\n",
       "3581  98.6\n",
       "3582  98.6\n",
       "3583  98.6\n",
       "3584  98.6\n",
       "\n",
       "[3585 rows x 1 columns]"
      ]
     },
     "execution_count": 79,
     "metadata": {},
     "output_type": "execute_result"
    }
   ],
   "source": [
    "o2_saturation"
   ]
  },
  {
   "cell_type": "code",
   "execution_count": 80,
   "id": "f0dd15a8-1502-40c5-8522-2b3737f89bac",
   "metadata": {},
   "outputs": [
    {
     "name": "stdout",
     "output_type": "stream",
     "text": [
      "(303, 15)\n"
     ]
    },
    {
     "data": {
      "text/html": [
       "<div>\n",
       "<style scoped>\n",
       "    .dataframe tbody tr th:only-of-type {\n",
       "        vertical-align: middle;\n",
       "    }\n",
       "\n",
       "    .dataframe tbody tr th {\n",
       "        vertical-align: top;\n",
       "    }\n",
       "\n",
       "    .dataframe thead th {\n",
       "        text-align: right;\n",
       "    }\n",
       "</style>\n",
       "<table border=\"1\" class=\"dataframe\">\n",
       "  <thead>\n",
       "    <tr style=\"text-align: right;\">\n",
       "      <th></th>\n",
       "      <th>age</th>\n",
       "      <th>sex</th>\n",
       "      <th>cp</th>\n",
       "      <th>trtbps</th>\n",
       "      <th>chol</th>\n",
       "      <th>fbs</th>\n",
       "      <th>restecg</th>\n",
       "      <th>thalachh</th>\n",
       "      <th>exng</th>\n",
       "      <th>oldpeak</th>\n",
       "      <th>slp</th>\n",
       "      <th>caa</th>\n",
       "      <th>thall</th>\n",
       "      <th>output</th>\n",
       "      <th>o2_Saturation</th>\n",
       "    </tr>\n",
       "  </thead>\n",
       "  <tbody>\n",
       "    <tr>\n",
       "      <th>0</th>\n",
       "      <td>63</td>\n",
       "      <td>1</td>\n",
       "      <td>3</td>\n",
       "      <td>145</td>\n",
       "      <td>233</td>\n",
       "      <td>1</td>\n",
       "      <td>0</td>\n",
       "      <td>150</td>\n",
       "      <td>0</td>\n",
       "      <td>2.3</td>\n",
       "      <td>0</td>\n",
       "      <td>0</td>\n",
       "      <td>1</td>\n",
       "      <td>1</td>\n",
       "      <td>98.6</td>\n",
       "    </tr>\n",
       "    <tr>\n",
       "      <th>1</th>\n",
       "      <td>37</td>\n",
       "      <td>1</td>\n",
       "      <td>2</td>\n",
       "      <td>130</td>\n",
       "      <td>250</td>\n",
       "      <td>0</td>\n",
       "      <td>1</td>\n",
       "      <td>187</td>\n",
       "      <td>0</td>\n",
       "      <td>3.5</td>\n",
       "      <td>0</td>\n",
       "      <td>0</td>\n",
       "      <td>2</td>\n",
       "      <td>1</td>\n",
       "      <td>98.6</td>\n",
       "    </tr>\n",
       "    <tr>\n",
       "      <th>2</th>\n",
       "      <td>41</td>\n",
       "      <td>0</td>\n",
       "      <td>1</td>\n",
       "      <td>130</td>\n",
       "      <td>204</td>\n",
       "      <td>0</td>\n",
       "      <td>0</td>\n",
       "      <td>172</td>\n",
       "      <td>0</td>\n",
       "      <td>1.4</td>\n",
       "      <td>2</td>\n",
       "      <td>0</td>\n",
       "      <td>2</td>\n",
       "      <td>1</td>\n",
       "      <td>98.6</td>\n",
       "    </tr>\n",
       "    <tr>\n",
       "      <th>3</th>\n",
       "      <td>56</td>\n",
       "      <td>1</td>\n",
       "      <td>1</td>\n",
       "      <td>120</td>\n",
       "      <td>236</td>\n",
       "      <td>0</td>\n",
       "      <td>1</td>\n",
       "      <td>178</td>\n",
       "      <td>0</td>\n",
       "      <td>0.8</td>\n",
       "      <td>2</td>\n",
       "      <td>0</td>\n",
       "      <td>2</td>\n",
       "      <td>1</td>\n",
       "      <td>98.1</td>\n",
       "    </tr>\n",
       "    <tr>\n",
       "      <th>4</th>\n",
       "      <td>57</td>\n",
       "      <td>0</td>\n",
       "      <td>0</td>\n",
       "      <td>120</td>\n",
       "      <td>354</td>\n",
       "      <td>0</td>\n",
       "      <td>1</td>\n",
       "      <td>163</td>\n",
       "      <td>1</td>\n",
       "      <td>0.6</td>\n",
       "      <td>2</td>\n",
       "      <td>0</td>\n",
       "      <td>2</td>\n",
       "      <td>1</td>\n",
       "      <td>97.5</td>\n",
       "    </tr>\n",
       "  </tbody>\n",
       "</table>\n",
       "</div>"
      ],
      "text/plain": [
       "   age  sex  cp  trtbps  chol  fbs  restecg  thalachh  exng  oldpeak  slp  \\\n",
       "0   63    1   3     145   233    1        0       150     0      2.3    0   \n",
       "1   37    1   2     130   250    0        1       187     0      3.5    0   \n",
       "2   41    0   1     130   204    0        0       172     0      1.4    2   \n",
       "3   56    1   1     120   236    0        1       178     0      0.8    2   \n",
       "4   57    0   0     120   354    0        1       163     1      0.6    2   \n",
       "\n",
       "   caa  thall  output  o2_Saturation  \n",
       "0    0      1       1           98.6  \n",
       "1    0      2       1           98.6  \n",
       "2    0      2       1           98.6  \n",
       "3    0      2       1           98.1  \n",
       "4    0      2       1           97.5  "
      ]
     },
     "execution_count": 80,
     "metadata": {},
     "output_type": "execute_result"
    }
   ],
   "source": [
    "## Add o2_saturation data in the data frame 'data'\n",
    "# o2_saturation.rename(columns={'98.6':'o2_saturation'}, inplace = True)\n",
    "# data = pd.concat([data, o2_saturation], axis=1)\n",
    "data[\"o2_Saturation\"] = o2_saturation\n",
    "print(data.shape)\n",
    "data.head()"
   ]
  },
  {
   "cell_type": "code",
   "execution_count": 15,
   "id": "195ae311",
   "metadata": {},
   "outputs": [
    {
     "data": {
      "text/plain": [
       "<Axes: >"
      ]
     },
     "execution_count": 15,
     "metadata": {},
     "output_type": "execute_result"
    },
    {
     "data": {
      "image/png": "[encoded data removed]",
      "text/plain": [
       "<Figure size 1500x1000 with 2 Axes>"
      ]
     },
     "metadata": {},
     "output_type": "display_data"
    }
   ],
   "source": [
    "corr = data.corr()\n",
    "\n",
    "plt.figure(figsize=(15, 10))\n",
    "sns.heatmap(corr, annot=True)"
   ]
  },
  {
   "cell_type": "code",
   "execution_count": 81,
   "id": "0fe76502",
   "metadata": {},
   "outputs": [],
   "source": [
    "# Specify X and y and split the dataset\n",
    "X = data.drop(\"output\", axis=1)\n",
    "y = data[\"output\"] \n",
    "X_train, X_test, y_train, y_test = train_test_split(X, y, test_size=0.3, random_state  = 42)"
   ]
  },
  {
   "cell_type": "code",
   "execution_count": 82,
   "id": "183fd155",
   "metadata": {},
   "outputs": [
    {
     "data": {
      "text/plain": [
       "((212, 14), (91, 14), (212,), (91,))"
      ]
     },
     "execution_count": 82,
     "metadata": {},
     "output_type": "execute_result"
    }
   ],
   "source": [
    "X_train.shape, X_test.shape, y_train.shape, y_test.shape"
   ]
  },
  {
   "cell_type": "code",
   "execution_count": 83,
   "id": "6faec592",
   "metadata": {},
   "outputs": [
    {
     "data": {
      "text/plain": [
       "124    1\n",
       "72     1\n",
       "15     1\n",
       "10     1\n",
       "163    1\n",
       "      ..\n",
       "188    0\n",
       "71     1\n",
       "106    1\n",
       "270    0\n",
       "102    1\n",
       "Name: output, Length: 212, dtype: int64"
      ]
     },
     "execution_count": 83,
     "metadata": {},
     "output_type": "execute_result"
    }
   ],
   "source": [
    "y_train"
   ]
  },
  {
   "cell_type": "markdown",
   "id": "6c764cef",
   "metadata": {},
   "source": [
    "## Modeling\n",
    "Using __Random Forest Classifier__\n",
    "\n",
    "### Random Forest Classifier\n",
    "\n",
    "#### Overview\n",
    "Used for both classification and regression tasks. \n",
    "\n",
    "It is an ensemble method that builds multiple decision trees and merges their predictions to achieve better accuracy and reduce the risk of overfitting.\n",
    "\n",
    "#### How it Works\n",
    "1. **Data Sampling**: Random subsets of the training data are created using bootstrapping.\n",
    "2. **Tree Construction**: A decision tree is built for each subset, considering only a random subset of features at each split.\n",
    "3. **Prediction**:\n",
    "   - **Classification**: The final prediction is based on majority voting across all trees.\n",
    "   - **Regression**: The final prediction is the average of all tree predictions.\n",
    "\n",
    "#### Advantages\n",
    "- Handles high-dimensional data well.\n",
    "- Works well with both numerical and categorical data.\n",
    "- Provides feature importance scores, helping in feature selection.\n",
    "\n",
    "#### Disadvantages\n",
    "- Requires more computational resources due to multiple trees.\n",
    "- Less interpretable than a single decision tree.\n",
    "- May not perform well on highly imbalanced datasets without proper preprocessing.\n"
   ]
  },
  {
   "cell_type": "code",
   "execution_count": 84,
   "id": "077d86fe",
   "metadata": {},
   "outputs": [],
   "source": [
    "# specify model\n",
    "forest = RandomForestClassifier(random_state  = 42)\n",
    "\n",
    "# train model\n",
    "forest.fit(X_train, y_train) # coefficients\n",
    "\n",
    "# make prediction\n",
    "forest_preds = forest.predict(X_test)"
   ]
  },
  {
   "cell_type": "code",
   "execution_count": 20,
   "id": "40e251ea-7fcd-4aee-b638-f29309b68b89",
   "metadata": {},
   "outputs": [
    {
     "data": {
      "text/plain": [
       "array([0, 1, 1, 0, 1, 1, 1, 0, 0, 1, 1, 0, 1, 0, 1, 1, 1, 0, 0, 0, 1, 0,\n",
       "       1, 1, 1, 1, 1, 1, 0, 1, 0, 0, 0, 0, 1, 0, 1, 1, 1, 1, 1, 1, 1, 1,\n",
       "       1, 0, 1, 1, 0, 0, 0, 0, 1, 1, 0, 0, 0, 1, 0, 0, 0, 1, 0, 1, 1, 0,\n",
       "       0, 1, 1, 1, 1, 1, 1, 1, 0, 1, 1, 0, 0, 0, 1, 0, 1, 1, 0, 0, 0, 1,\n",
       "       0, 1, 1])"
      ]
     },
     "execution_count": 20,
     "metadata": {},
     "output_type": "execute_result"
    }
   ],
   "source": [
    "forest_preds"
   ]
  },
  {
   "cell_type": "markdown",
   "id": "080c566f-6f78-43d2-8782-008a738e0697",
   "metadata": {},
   "source": [
    "### Evaluate the result"
   ]
  },
  {
   "cell_type": "code",
   "execution_count": 86,
   "id": "175c7978",
   "metadata": {},
   "outputs": [
    {
     "data": {
      "text/html": [
       "<div>\n",
       "<style scoped>\n",
       "    .dataframe tbody tr th:only-of-type {\n",
       "        vertical-align: middle;\n",
       "    }\n",
       "\n",
       "    .dataframe tbody tr th {\n",
       "        vertical-align: top;\n",
       "    }\n",
       "\n",
       "    .dataframe thead th {\n",
       "        text-align: right;\n",
       "    }\n",
       "</style>\n",
       "<table border=\"1\" class=\"dataframe\">\n",
       "  <thead>\n",
       "    <tr style=\"text-align: right;\">\n",
       "      <th></th>\n",
       "      <th>real</th>\n",
       "      <th>pred</th>\n",
       "    </tr>\n",
       "  </thead>\n",
       "  <tbody>\n",
       "    <tr>\n",
       "      <th>179</th>\n",
       "      <td>0</td>\n",
       "      <td>0</td>\n",
       "    </tr>\n",
       "    <tr>\n",
       "      <th>228</th>\n",
       "      <td>0</td>\n",
       "      <td>1</td>\n",
       "    </tr>\n",
       "    <tr>\n",
       "      <th>111</th>\n",
       "      <td>1</td>\n",
       "      <td>1</td>\n",
       "    </tr>\n",
       "    <tr>\n",
       "      <th>246</th>\n",
       "      <td>0</td>\n",
       "      <td>0</td>\n",
       "    </tr>\n",
       "    <tr>\n",
       "      <th>60</th>\n",
       "      <td>1</td>\n",
       "      <td>1</td>\n",
       "    </tr>\n",
       "    <tr>\n",
       "      <th>...</th>\n",
       "      <td>...</td>\n",
       "      <td>...</td>\n",
       "    </tr>\n",
       "    <tr>\n",
       "      <th>250</th>\n",
       "      <td>0</td>\n",
       "      <td>0</td>\n",
       "    </tr>\n",
       "    <tr>\n",
       "      <th>19</th>\n",
       "      <td>1</td>\n",
       "      <td>1</td>\n",
       "    </tr>\n",
       "    <tr>\n",
       "      <th>143</th>\n",
       "      <td>1</td>\n",
       "      <td>0</td>\n",
       "    </tr>\n",
       "    <tr>\n",
       "      <th>79</th>\n",
       "      <td>1</td>\n",
       "      <td>1</td>\n",
       "    </tr>\n",
       "    <tr>\n",
       "      <th>144</th>\n",
       "      <td>1</td>\n",
       "      <td>1</td>\n",
       "    </tr>\n",
       "  </tbody>\n",
       "</table>\n",
       "<p>91 rows × 2 columns</p>\n",
       "</div>"
      ],
      "text/plain": [
       "     real  pred\n",
       "179     0     0\n",
       "228     0     1\n",
       "111     1     1\n",
       "246     0     0\n",
       "60      1     1\n",
       "..    ...   ...\n",
       "250     0     0\n",
       "19      1     1\n",
       "143     1     0\n",
       "79      1     1\n",
       "144     1     1\n",
       "\n",
       "[91 rows x 2 columns]"
      ]
     },
     "execution_count": 86,
     "metadata": {},
     "output_type": "execute_result"
    }
   ],
   "source": [
    "Y"
   ]
  },
  {
   "cell_type": "code",
   "execution_count": 87,
   "id": "525bd174-6241-4d14-946a-f41fe31e6c7b",
   "metadata": {},
   "outputs": [
    {
     "name": "stdout",
     "output_type": "stream",
     "text": [
      "43\n",
      "32\n",
      "7\n",
      "9\n"
     ]
    }
   ],
   "source": [
    "# Manually calculate number of True positive and False negative predictions\n",
    "Y = pd.DataFrame()\n",
    "Y['real'] = y_test\n",
    "Y['pred'] = forest_preds\n",
    "print(len(Y[(Y.real==1)&(Y.pred==1)]))\n",
    "print(len(Y[(Y.real==0)&(Y.pred==0)]))\n",
    "print(len(Y[(Y.real==1)&(Y.pred==0)]))\n",
    "print(len(Y[(Y.real==0)&(Y.pred==1)]))"
   ]
  },
  {
   "cell_type": "code",
   "execution_count": 22,
   "id": "30ac6466",
   "metadata": {},
   "outputs": [
    {
     "data": {
      "text/plain": [
       "43"
      ]
     },
     "execution_count": 22,
     "metadata": {},
     "output_type": "execute_result"
    }
   ],
   "source": [
    "len(Y[(Y.real==1)&(Y.pred==1)])"
   ]
  },
  {
   "cell_type": "code",
   "execution_count": 23,
   "id": "e5252037-b250-4ae4-99c5-1138bfd537e1",
   "metadata": {},
   "outputs": [
    {
     "data": {
      "text/plain": [
       "Text(0.5, 1.0, 'Confusion Matrix')"
      ]
     },
     "execution_count": 23,
     "metadata": {},
     "output_type": "execute_result"
    },
    {
     "data": {
      "image/png": "[encoded data removed]",
      "text/plain": [
       "<Figure size 640x480 with 2 Axes>"
      ]
     },
     "metadata": {},
     "output_type": "display_data"
    }
   ],
   "source": [
    "sns.heatmap(confusion_matrix(y_test, forest_preds), annot=True)\n",
    "plt.xlabel(\"Predicted Labels\")\n",
    "plt.ylabel(\"Actual Labels\")\n",
    "plt.title(\"Confusion Matrix\")"
   ]
  },
  {
   "cell_type": "code",
   "execution_count": 24,
   "id": "3d3f1e98-c3cd-428d-aa14-d099db19e3a6",
   "metadata": {},
   "outputs": [],
   "source": [
    "# Based on the confusion matrics fill:\n",
    "true_positive = 43\n",
    "true_negative = 32\n",
    "false_positive = 9\n",
    "false_negative = 7"
   ]
  },
  {
   "cell_type": "markdown",
   "id": "a5f55d8d-f413-4d0a-9b7b-23efc31c257d",
   "metadata": {},
   "source": [
    "### Evaluation Metrics\n",
    "#### Precision\n",
    "**Description**: Precision measures the proportion of correctly identified positive instances among all instances predicted as positive. It focuses on how accurate the positive predictions are.\n",
    "\n",
    "**Rationale**: High precision means fewer false positives, which is crucial in scenarios like spam detection or medical diagnosis where false positives can have significant consequences.\n",
    "\n",
    "**Formula**:  \n",
    "$$\n",
    "\\text{Precision} = \\frac{\\text{True Positives (TP)}}{\\text{True Positives (TP)} + \\text{False Positives (FP)}}\n",
    "$$\n"
   ]
  },
  {
   "cell_type": "code",
   "execution_count": 25,
   "id": "b3cd0f2f",
   "metadata": {},
   "outputs": [
    {
     "name": "stdout",
     "output_type": "stream",
     "text": [
      "0.83\n",
      "0.83\n"
     ]
    }
   ],
   "source": [
    "print(round(true_positive/(true_positive + false_positive),2))\n",
    "print(round(sklearn.metrics.precision_score(y_test, forest_preds), 2))"
   ]
  },
  {
   "cell_type": "markdown",
   "id": "6d36b298",
   "metadata": {},
   "source": [
    "#### Recall (Our focus)\n",
    "**Description**: Recall, or sensitivity, measures the proportion of correctly identified positive instances out of all actual positive instances.\n",
    "\n",
    "**Rationale**: High recall ensures fewer false negatives, important in cases like disease detection where missing a positive case can be critical.\n",
    "\n",
    "**Formula**:  \n",
    "$$\n",
    "\\text{Recall} = \\frac{\\text{True Positives (TP)}}{\\text{True Positives (TP)} + \\text{False Negatives (FN)}}\n",
    "$$"
   ]
  },
  {
   "cell_type": "code",
   "execution_count": 26,
   "id": "979fb237-0771-4585-ae70-74a8b4db6077",
   "metadata": {},
   "outputs": [
    {
     "name": "stdout",
     "output_type": "stream",
     "text": [
      "0.86\n",
      "0.86\n"
     ]
    }
   ],
   "source": [
    "print(round(true_positive/(true_positive + false_negative),2))\n",
    "print(round(sklearn.metrics.recall_score(y_test, forest_preds), 2))"
   ]
  },
  {
   "cell_type": "markdown",
   "id": "080bbe43",
   "metadata": {},
   "source": [
    "#### F1 Score\n",
    "**Description**: The F1 Score is the harmonic mean of Precision and Recall, balancing both metrics. It is used when there’s a need to balance precision and recall, especially in cases with imbalanced datasets.\n",
    "\n",
    "**Rationale**: The F1 score gives a single performance metric that penalizes extreme values of Precision or Recall.\n",
    "\n",
    "**Formula**:  \n",
    "$$\n",
    "F1 = 2 \\cdot \\frac{\\text{Precision} \\cdot \\text{Recall}}{\\text{Precision} + \\text{Recall}}\n",
    "$$"
   ]
  },
  {
   "cell_type": "code",
   "execution_count": 27,
   "id": "008cd394-6520-4888-863f-6463fe3fa9ec",
   "metadata": {},
   "outputs": [
    {
     "name": "stdout",
     "output_type": "stream",
     "text": [
      "0.84\n",
      "0.84\n"
     ]
    }
   ],
   "source": [
    "print(round(2*(0.83*0.86)/(0.83+0.86),2))\n",
    "print(round(sklearn.metrics.f1_score(y_test, forest_preds), 2))"
   ]
  },
  {
   "cell_type": "markdown",
   "id": "b9e81f89",
   "metadata": {},
   "source": [
    "#### Accuracy\n",
    "**Description**: Accuracy measures the proportion of correctly classified instances (both positive and negative) out of all instances.\n",
    "\n",
    "**Rationale**: Accuracy is a simple metric but can be misleading on imbalanced datasets, as it doesn’t distinguish between types of errors.\n",
    "\n",
    "**Formula**:  \n",
    "$$\n",
    "\\text{Accuracy} = \\frac{\\text{True Positives (TP)} + \\text{True Negatives (TN)}}{\\text{Total Instances}}\n",
    "$$"
   ]
  },
  {
   "cell_type": "code",
   "execution_count": 28,
   "id": "c6fac62f-c5a8-4ba5-b7ee-82ec647b9ef0",
   "metadata": {},
   "outputs": [
    {
     "name": "stdout",
     "output_type": "stream",
     "text": [
      "0.82\n",
      "0.82\n"
     ]
    }
   ],
   "source": [
    "print(round((true_positive+true_negative)/(true_positive+true_negative+false_positive+false_negative),2))\n",
    "print(round(sklearn.metrics.accuracy_score(y_test, forest_preds), 2))"
   ]
  },
  {
   "cell_type": "markdown",
   "id": "e43acac7-9bca-461c-9e32-8542a3fd04ef",
   "metadata": {},
   "source": [
    "### Result Saving"
   ]
  },
  {
   "cell_type": "code",
   "execution_count": 88,
   "id": "922aecda-8067-4b9c-8f2c-ad83e345b42a",
   "metadata": {},
   "outputs": [
    {
     "data": {
      "text/html": [
       "<div>\n",
       "<style scoped>\n",
       "    .dataframe tbody tr th:only-of-type {\n",
       "        vertical-align: middle;\n",
       "    }\n",
       "\n",
       "    .dataframe tbody tr th {\n",
       "        vertical-align: top;\n",
       "    }\n",
       "\n",
       "    .dataframe thead th {\n",
       "        text-align: right;\n",
       "    }\n",
       "</style>\n",
       "<table border=\"1\" class=\"dataframe\">\n",
       "  <thead>\n",
       "    <tr style=\"text-align: right;\">\n",
       "      <th></th>\n",
       "    </tr>\n",
       "  </thead>\n",
       "  <tbody>\n",
       "    <tr>\n",
       "      <th>precision</th>\n",
       "    </tr>\n",
       "    <tr>\n",
       "      <th>recall</th>\n",
       "    </tr>\n",
       "    <tr>\n",
       "      <th>f1_score</th>\n",
       "    </tr>\n",
       "    <tr>\n",
       "      <th>accuracy</th>\n",
       "    </tr>\n",
       "  </tbody>\n",
       "</table>\n",
       "</div>"
      ],
      "text/plain": [
       "Empty DataFrame\n",
       "Columns: []\n",
       "Index: [precision, recall, f1_score, accuracy]"
      ]
     },
     "execution_count": 88,
     "metadata": {},
     "output_type": "execute_result"
    }
   ],
   "source": [
    "# create empty dataframe with indexes: ['precision','recall', 'f1_score','accuracy']\n",
    "result = pd.DataFrame(index=['precision','recall', 'f1_score','accuracy'])\n",
    "result"
   ]
  },
  {
   "cell_type": "code",
   "execution_count": 30,
   "id": "1469766a-232b-4931-a7d6-43ee8b22141c",
   "metadata": {},
   "outputs": [],
   "source": [
    "# write a function which will return 4 metrics:\n",
    "# [round(sklearn.metrics.precision_score(y_test, forest_preds), 2),round(sklearn.metrics.recall_score(y_test, forest_preds), 2),round(sklearn.metrics.f1_score(y_test, forest_preds), 2),round(sklearn.metrics.accuracy_score(y_test, forest_preds), 2)]\n",
    "\n",
    "\n",
    "def eval_result(x_predicted):\n",
    "    return [round(sklearn.metrics.precision_score(y_test, x_predicted), 2),\n",
    "            round(sklearn.metrics.recall_score(y_test, x_predicted), 2),\n",
    "            round(sklearn.metrics.f1_score(y_test, x_predicted), 2),\n",
    "            round(sklearn.metrics.accuracy_score(y_test, x_predicted), 2)]"
   ]
  },
  {
   "cell_type": "code",
   "execution_count": 31,
   "id": "ce75bce6-17e4-46fc-bd25-c31bdc178d10",
   "metadata": {},
   "outputs": [
    {
     "data": {
      "text/html": [
       "<div>\n",
       "<style scoped>\n",
       "    .dataframe tbody tr th:only-of-type {\n",
       "        vertical-align: middle;\n",
       "    }\n",
       "\n",
       "    .dataframe tbody tr th {\n",
       "        vertical-align: top;\n",
       "    }\n",
       "\n",
       "    .dataframe thead th {\n",
       "        text-align: right;\n",
       "    }\n",
       "</style>\n",
       "<table border=\"1\" class=\"dataframe\">\n",
       "  <thead>\n",
       "    <tr style=\"text-align: right;\">\n",
       "      <th></th>\n",
       "      <th>model_first</th>\n",
       "    </tr>\n",
       "  </thead>\n",
       "  <tbody>\n",
       "    <tr>\n",
       "      <th>precision</th>\n",
       "      <td>0.83</td>\n",
       "    </tr>\n",
       "    <tr>\n",
       "      <th>recall</th>\n",
       "      <td>0.86</td>\n",
       "    </tr>\n",
       "    <tr>\n",
       "      <th>f1_score</th>\n",
       "      <td>0.84</td>\n",
       "    </tr>\n",
       "    <tr>\n",
       "      <th>accuracy</th>\n",
       "      <td>0.82</td>\n",
       "    </tr>\n",
       "  </tbody>\n",
       "</table>\n",
       "</div>"
      ],
      "text/plain": [
       "           model_first\n",
       "precision         0.83\n",
       "recall            0.86\n",
       "f1_score          0.84\n",
       "accuracy          0.82"
      ]
     },
     "execution_count": 31,
     "metadata": {},
     "output_type": "execute_result"
    }
   ],
   "source": [
    "# add the result of model_1 into the df 'result'\n",
    "result['model_first'] = eval_result(forest_preds)\n",
    "result"
   ]
  },
  {
   "cell_type": "code",
   "execution_count": 32,
   "id": "cabae7b5-dc23-41bc-8cba-f9ba3e1df5ae",
   "metadata": {},
   "outputs": [
    {
     "data": {
      "text/plain": [
       "array([0, 1, 1, 0, 1])"
      ]
     },
     "execution_count": 32,
     "metadata": {},
     "output_type": "execute_result"
    }
   ],
   "source": [
    "forest.predict(X_test)[:5]"
   ]
  },
  {
   "cell_type": "code",
   "execution_count": 33,
   "id": "bd4b584e-9b3d-47b2-ae9e-396c6f6af482",
   "metadata": {},
   "outputs": [
    {
     "data": {
      "text/plain": [
       "array([[0.9 , 0.1 ],\n",
       "       [0.33, 0.67],\n",
       "       [0.36, 0.64],\n",
       "       [0.93, 0.07],\n",
       "       [0.27, 0.73]])"
      ]
     },
     "execution_count": 33,
     "metadata": {},
     "output_type": "execute_result"
    }
   ],
   "source": [
    "res_proba = forest.predict_proba(X_test)\n",
    "res_proba[:5]"
   ]
  },
  {
   "cell_type": "markdown",
   "id": "c4ec1339",
   "metadata": {},
   "source": [
    "## Hyperparameter tuning"
   ]
  },
  {
   "cell_type": "markdown",
   "id": "682a3dcb",
   "metadata": {},
   "source": [
    "### Change the threshold"
   ]
  },
  {
   "cell_type": "code",
   "execution_count": 90,
   "id": "32f53f31",
   "metadata": {},
   "outputs": [
    {
     "data": {
      "text/plain": [
       "array([[0.9 , 0.1 ],\n",
       "       [0.33, 0.67],\n",
       "       [0.36, 0.64],\n",
       "       [0.93, 0.07],\n",
       "       [0.27, 0.73],\n",
       "       [0.1 , 0.9 ],\n",
       "       [0.24, 0.76],\n",
       "       [0.98, 0.02],\n",
       "       [0.92, 0.08],\n",
       "       [0.44, 0.56],\n",
       "       [0.2 , 0.8 ],\n",
       "       [0.72, 0.28],\n",
       "       [0.11, 0.89],\n",
       "       [0.85, 0.15],\n",
       "       [0.07, 0.93],\n",
       "       [0.08, 0.92],\n",
       "       [0.  , 1.  ],\n",
       "       [0.92, 0.08],\n",
       "       [0.96, 0.04],\n",
       "       [0.95, 0.05],\n",
       "       [0.46, 0.54],\n",
       "       [0.87, 0.13],\n",
       "       [0.43, 0.57],\n",
       "       [0.27, 0.73],\n",
       "       [0.3 , 0.7 ],\n",
       "       [0.41, 0.59],\n",
       "       [0.21, 0.79],\n",
       "       [0.18, 0.82],\n",
       "       [0.86, 0.14],\n",
       "       [0.25, 0.75],\n",
       "       [0.91, 0.09],\n",
       "       [0.9 , 0.1 ],\n",
       "       [0.97, 0.03],\n",
       "       [0.55, 0.45],\n",
       "       [0.28, 0.72],\n",
       "       [0.86, 0.14],\n",
       "       [0.34, 0.66],\n",
       "       [0.16, 0.84],\n",
       "       [0.41, 0.59],\n",
       "       [0.21, 0.79],\n",
       "       [0.19, 0.81],\n",
       "       [0.19, 0.81],\n",
       "       [0.19, 0.81],\n",
       "       [0.29, 0.71],\n",
       "       [0.25, 0.75],\n",
       "       [0.77, 0.23],\n",
       "       [0.39, 0.61],\n",
       "       [0.02, 0.98],\n",
       "       [0.82, 0.18],\n",
       "       [0.96, 0.04],\n",
       "       [0.69, 0.31],\n",
       "       [0.79, 0.21],\n",
       "       [0.17, 0.83],\n",
       "       [0.24, 0.76],\n",
       "       [0.85, 0.15],\n",
       "       [0.91, 0.09],\n",
       "       [0.69, 0.31],\n",
       "       [0.02, 0.98],\n",
       "       [0.87, 0.13],\n",
       "       [1.  , 0.  ],\n",
       "       [0.82, 0.18],\n",
       "       [0.03, 0.97],\n",
       "       [0.62, 0.38],\n",
       "       [0.47, 0.53],\n",
       "       [0.11, 0.89],\n",
       "       [0.84, 0.16],\n",
       "       [0.64, 0.36],\n",
       "       [0.26, 0.74],\n",
       "       [0.14, 0.86],\n",
       "       [0.1 , 0.9 ],\n",
       "       [0.21, 0.79],\n",
       "       [0.08, 0.92],\n",
       "       [0.37, 0.63],\n",
       "       [0.15, 0.85],\n",
       "       [0.71, 0.29],\n",
       "       [0.07, 0.93],\n",
       "       [0.38, 0.62],\n",
       "       [0.77, 0.23],\n",
       "       [0.72, 0.28],\n",
       "       [0.76, 0.24],\n",
       "       [0.14, 0.86],\n",
       "       [0.91, 0.09],\n",
       "       [0.18, 0.82],\n",
       "       [0.3 , 0.7 ],\n",
       "       [0.52, 0.48],\n",
       "       [0.78, 0.22],\n",
       "       [0.97, 0.03],\n",
       "       [0.29, 0.71],\n",
       "       [0.59, 0.41],\n",
       "       [0.46, 0.54],\n",
       "       [0.18, 0.82]])"
      ]
     },
     "execution_count": 90,
     "metadata": {},
     "output_type": "execute_result"
    }
   ],
   "source": [
    "res_proba"
   ]
  },
  {
   "cell_type": "code",
   "execution_count": 91,
   "id": "0df4b875-4107-4ce8-837a-1c9b5bfcb669",
   "metadata": {},
   "outputs": [
    {
     "name": "stdout",
     "output_type": "stream",
     "text": [
      "Presenting result in a format [precision, recall, F-1, accuracy]:\n",
      "0.8\n",
      "0.94\n",
      "0.86\n",
      "0.84\n"
     ]
    }
   ],
   "source": [
    "# get the result for a threshold = 0.7\n",
    "res_pred = [0 if i[0]>=0.7 else 1 for i in res_proba]\n",
    "print(\"Presenting result in a format [precision, recall, F-1, accuracy]:\")\n",
    "for i in eval_result(res_pred):\n",
    "    print(float(i))"
   ]
  },
  {
   "cell_type": "code",
   "execution_count": 35,
   "id": "3bac9b13",
   "metadata": {},
   "outputs": [
    {
     "data": {
      "text/plain": [
       "array([0.9, 0.1])"
      ]
     },
     "execution_count": 35,
     "metadata": {},
     "output_type": "execute_result"
    }
   ],
   "source": [
    "res_proba[0]"
   ]
  },
  {
   "cell_type": "code",
   "execution_count": 96,
   "id": "86d1ac71",
   "metadata": {},
   "outputs": [
    {
     "data": {
      "text/plain": [
       "[0.1, 0.2, 0.3, 0.4, 0.5, 0.6, 0.7, 0.8, 0.9]"
      ]
     },
     "execution_count": 96,
     "metadata": {},
     "output_type": "execute_result"
    }
   ],
   "source": [
    "[x/10 for x in range(1,10)]"
   ]
  },
  {
   "cell_type": "code",
   "execution_count": 97,
   "id": "21754b98-1b7b-43f4-b2ad-18507ba9c86d",
   "metadata": {},
   "outputs": [
    {
     "name": "stdout",
     "output_type": "stream",
     "text": [
      "0.1\n",
      "0.2\n",
      "0.3\n",
      "0.4\n",
      "0.5\n",
      "0.6\n",
      "0.7\n",
      "0.8\n",
      "0.9\n"
     ]
    }
   ],
   "source": [
    "# Generate results for any threshold from 0.1 till 0.9 and add it into 'result' df\n",
    "res_proba = forest.predict_proba(X_test)\n",
    "\n",
    "for t in [x/10 for x in range(1, 10)]:\n",
    "    print(t)\n",
    "    res_pred = [0 if i[0]>=t else 1 for i in res_proba]\n",
    "    result[f'model_thr_{t}'] = eval_result(res_pred)"
   ]
  },
  {
   "cell_type": "code",
   "execution_count": 98,
   "id": "e22b9ecb",
   "metadata": {},
   "outputs": [
    {
     "data": {
      "text/html": [
       "<div>\n",
       "<style scoped>\n",
       "    .dataframe tbody tr th:only-of-type {\n",
       "        vertical-align: middle;\n",
       "    }\n",
       "\n",
       "    .dataframe tbody tr th {\n",
       "        vertical-align: top;\n",
       "    }\n",
       "\n",
       "    .dataframe thead th {\n",
       "        text-align: right;\n",
       "    }\n",
       "</style>\n",
       "<table border=\"1\" class=\"dataframe\">\n",
       "  <thead>\n",
       "    <tr style=\"text-align: right;\">\n",
       "      <th></th>\n",
       "      <th>model_thr_0.1</th>\n",
       "      <th>model_thr_0.2</th>\n",
       "      <th>model_thr_0.3</th>\n",
       "      <th>model_thr_0.4</th>\n",
       "      <th>model_thr_0.5</th>\n",
       "      <th>model_thr_0.6</th>\n",
       "      <th>model_thr_0.7</th>\n",
       "      <th>model_thr_0.8</th>\n",
       "      <th>model_thr_0.9</th>\n",
       "    </tr>\n",
       "  </thead>\n",
       "  <tbody>\n",
       "    <tr>\n",
       "      <th>precision</th>\n",
       "      <td>1.00</td>\n",
       "      <td>0.96</td>\n",
       "      <td>0.95</td>\n",
       "      <td>0.87</td>\n",
       "      <td>0.83</td>\n",
       "      <td>0.84</td>\n",
       "      <td>0.80</td>\n",
       "      <td>0.73</td>\n",
       "      <td>0.64</td>\n",
       "    </tr>\n",
       "    <tr>\n",
       "      <th>recall</th>\n",
       "      <td>0.16</td>\n",
       "      <td>0.44</td>\n",
       "      <td>0.70</td>\n",
       "      <td>0.78</td>\n",
       "      <td>0.86</td>\n",
       "      <td>0.92</td>\n",
       "      <td>0.94</td>\n",
       "      <td>0.98</td>\n",
       "      <td>0.98</td>\n",
       "    </tr>\n",
       "    <tr>\n",
       "      <th>f1_score</th>\n",
       "      <td>0.28</td>\n",
       "      <td>0.60</td>\n",
       "      <td>0.80</td>\n",
       "      <td>0.82</td>\n",
       "      <td>0.84</td>\n",
       "      <td>0.88</td>\n",
       "      <td>0.86</td>\n",
       "      <td>0.84</td>\n",
       "      <td>0.78</td>\n",
       "    </tr>\n",
       "    <tr>\n",
       "      <th>accuracy</th>\n",
       "      <td>0.54</td>\n",
       "      <td>0.68</td>\n",
       "      <td>0.81</td>\n",
       "      <td>0.81</td>\n",
       "      <td>0.82</td>\n",
       "      <td>0.86</td>\n",
       "      <td>0.84</td>\n",
       "      <td>0.79</td>\n",
       "      <td>0.69</td>\n",
       "    </tr>\n",
       "  </tbody>\n",
       "</table>\n",
       "</div>"
      ],
      "text/plain": [
       "           model_thr_0.1  model_thr_0.2  model_thr_0.3  model_thr_0.4  \\\n",
       "precision           1.00           0.96           0.95           0.87   \n",
       "recall              0.16           0.44           0.70           0.78   \n",
       "f1_score            0.28           0.60           0.80           0.82   \n",
       "accuracy            0.54           0.68           0.81           0.81   \n",
       "\n",
       "           model_thr_0.5  model_thr_0.6  model_thr_0.7  model_thr_0.8  \\\n",
       "precision           0.83           0.84           0.80           0.73   \n",
       "recall              0.86           0.92           0.94           0.98   \n",
       "f1_score            0.84           0.88           0.86           0.84   \n",
       "accuracy            0.82           0.86           0.84           0.79   \n",
       "\n",
       "           model_thr_0.9  \n",
       "precision           0.64  \n",
       "recall              0.98  \n",
       "f1_score            0.78  \n",
       "accuracy            0.69  "
      ]
     },
     "execution_count": 98,
     "metadata": {},
     "output_type": "execute_result"
    }
   ],
   "source": [
    "result"
   ]
  },
  {
   "cell_type": "code",
   "execution_count": 99,
   "id": "3b87475b-d862-44a7-a667-5962099483ee",
   "metadata": {},
   "outputs": [
    {
     "data": {
      "text/html": [
       "<div>\n",
       "<style scoped>\n",
       "    .dataframe tbody tr th:only-of-type {\n",
       "        vertical-align: middle;\n",
       "    }\n",
       "\n",
       "    .dataframe tbody tr th {\n",
       "        vertical-align: top;\n",
       "    }\n",
       "\n",
       "    .dataframe thead th {\n",
       "        text-align: right;\n",
       "    }\n",
       "</style>\n",
       "<table border=\"1\" class=\"dataframe\">\n",
       "  <thead>\n",
       "    <tr style=\"text-align: right;\">\n",
       "      <th></th>\n",
       "      <th>precision</th>\n",
       "      <th>recall</th>\n",
       "      <th>f1_score</th>\n",
       "      <th>accuracy</th>\n",
       "    </tr>\n",
       "  </thead>\n",
       "  <tbody>\n",
       "    <tr>\n",
       "      <th>model_thr_0.8</th>\n",
       "      <td>0.73</td>\n",
       "      <td>0.98</td>\n",
       "      <td>0.84</td>\n",
       "      <td>0.79</td>\n",
       "    </tr>\n",
       "    <tr>\n",
       "      <th>model_thr_0.9</th>\n",
       "      <td>0.64</td>\n",
       "      <td>0.98</td>\n",
       "      <td>0.78</td>\n",
       "      <td>0.69</td>\n",
       "    </tr>\n",
       "    <tr>\n",
       "      <th>model_thr_0.7</th>\n",
       "      <td>0.80</td>\n",
       "      <td>0.94</td>\n",
       "      <td>0.86</td>\n",
       "      <td>0.84</td>\n",
       "    </tr>\n",
       "    <tr>\n",
       "      <th>model_thr_0.6</th>\n",
       "      <td>0.84</td>\n",
       "      <td>0.92</td>\n",
       "      <td>0.88</td>\n",
       "      <td>0.86</td>\n",
       "    </tr>\n",
       "    <tr>\n",
       "      <th>model_thr_0.5</th>\n",
       "      <td>0.83</td>\n",
       "      <td>0.86</td>\n",
       "      <td>0.84</td>\n",
       "      <td>0.82</td>\n",
       "    </tr>\n",
       "    <tr>\n",
       "      <th>model_thr_0.4</th>\n",
       "      <td>0.87</td>\n",
       "      <td>0.78</td>\n",
       "      <td>0.82</td>\n",
       "      <td>0.81</td>\n",
       "    </tr>\n",
       "    <tr>\n",
       "      <th>model_thr_0.3</th>\n",
       "      <td>0.95</td>\n",
       "      <td>0.70</td>\n",
       "      <td>0.80</td>\n",
       "      <td>0.81</td>\n",
       "    </tr>\n",
       "    <tr>\n",
       "      <th>model_thr_0.2</th>\n",
       "      <td>0.96</td>\n",
       "      <td>0.44</td>\n",
       "      <td>0.60</td>\n",
       "      <td>0.68</td>\n",
       "    </tr>\n",
       "    <tr>\n",
       "      <th>model_thr_0.1</th>\n",
       "      <td>1.00</td>\n",
       "      <td>0.16</td>\n",
       "      <td>0.28</td>\n",
       "      <td>0.54</td>\n",
       "    </tr>\n",
       "  </tbody>\n",
       "</table>\n",
       "</div>"
      ],
      "text/plain": [
       "               precision  recall  f1_score  accuracy\n",
       "model_thr_0.8       0.73    0.98      0.84      0.79\n",
       "model_thr_0.9       0.64    0.98      0.78      0.69\n",
       "model_thr_0.7       0.80    0.94      0.86      0.84\n",
       "model_thr_0.6       0.84    0.92      0.88      0.86\n",
       "model_thr_0.5       0.83    0.86      0.84      0.82\n",
       "model_thr_0.4       0.87    0.78      0.82      0.81\n",
       "model_thr_0.3       0.95    0.70      0.80      0.81\n",
       "model_thr_0.2       0.96    0.44      0.60      0.68\n",
       "model_thr_0.1       1.00    0.16      0.28      0.54"
      ]
     },
     "execution_count": 99,
     "metadata": {},
     "output_type": "execute_result"
    }
   ],
   "source": [
    "result.T.sort_values('recall', ascending=False)"
   ]
  },
  {
   "cell_type": "markdown",
   "id": "45d0fcc7",
   "metadata": {},
   "source": [
    "### Using RandomizedSearchCV for hyperparameter turning\n",
    "\n",
    "### Hyperparameters\n",
    "Key hyperparameters to tune in Random Forest:\n",
    "\n",
    "1. `n_estimators`\n",
    "- Description: The number of trees in the Random Forest.\n",
    "- Impact: A higher number of trees increases model accuracy but also computational cost. Commonly tuned to find a balance between performance and efficiency.\n",
    "\n",
    "2. `max_depth`\n",
    "- Description: The maximum depth of each tree in the forest.\n",
    "- Impact: Limits the growth of trees to avoid overfitting. Shallower trees generalize better but may underfit the data.\n",
    "\n",
    "3. `max_features`\n",
    "- Description: The number of features to consider when splitting a node.\n",
    "- \"sqrt\": Considers the square root of the total number of features.\n",
    "- \"log2\": Considers the logarithm (base 2) of the total number of features.\n",
    "- \"None\": Considers all features\n",
    "- Impact: Controls how the model selects features, impacting diversity among trees and overall performance.\n",
    "\n",
    "4. `min_samples_split`\n",
    "- Description: The minimum number of samples required to split an internal node.\n",
    "- Impact: Higher values restrict tree splitting, preventing overfitting but increasing the risk of underfitting.\n",
    "\n",
    "5. `min_samples_leaf`\n",
    "- Description: The minimum number of samples required to be in a leaf node.\n",
    "- Impact: Larger values prevent the model from learning overly specific patterns, improving generalization but potentially missing finer details."
   ]
  },
  {
   "cell_type": "code",
   "execution_count": 100,
   "id": "7c1501e3",
   "metadata": {},
   "outputs": [],
   "source": [
    "estimator = RandomForestClassifier()\n",
    "grid = {\"n_estimators\": [50, 60, 70, 80, 90, 100, 110, 120],\n",
    "        \"max_depth\": [3, 5, 7, 9, 11, 13, 15],\n",
    "        \"max_features\" : [\"sqrt\", \"log2\", None],\n",
    "        \"min_samples_split\": [2, 3, 4, 5],\n",
    "        \"min_samples_leaf\": [1, 2, 3, 4]}\n",
    "\n",
    "rand_search_model = RandomizedSearchCV(estimator=estimator,\n",
    "                                      param_distributions=grid)"
   ]
  },
  {
   "cell_type": "code",
   "execution_count": 101,
   "id": "a9188e30",
   "metadata": {
    "collapsed": true,
    "jupyter": {
     "outputs_hidden": true
    },
    "tags": []
   },
   "outputs": [],
   "source": [
    "# Retrain the model with tuned parameters and compare with model 1\n",
    "rand_search_model.fit(X_train, y_train)\n",
    "rand_search_pred = rand_search_model.predict(X_test)"
   ]
  },
  {
   "cell_type": "code",
   "execution_count": 102,
   "id": "acbb111b-8b61-46b2-92b3-511588758d0f",
   "metadata": {},
   "outputs": [
    {
     "data": {
      "text/plain": [
       "{'n_estimators': 70,\n",
       " 'min_samples_split': 4,\n",
       " 'min_samples_leaf': 3,\n",
       " 'max_features': 'log2',\n",
       " 'max_depth': 3}"
      ]
     },
     "execution_count": 102,
     "metadata": {},
     "output_type": "execute_result"
    }
   ],
   "source": [
    "rand_search_model.best_params_"
   ]
  },
  {
   "cell_type": "code",
   "execution_count": 103,
   "id": "10b109c8",
   "metadata": {},
   "outputs": [
    {
     "data": {
      "text/html": [
       "<div>\n",
       "<style scoped>\n",
       "    .dataframe tbody tr th:only-of-type {\n",
       "        vertical-align: middle;\n",
       "    }\n",
       "\n",
       "    .dataframe tbody tr th {\n",
       "        vertical-align: top;\n",
       "    }\n",
       "\n",
       "    .dataframe thead th {\n",
       "        text-align: right;\n",
       "    }\n",
       "</style>\n",
       "<table border=\"1\" class=\"dataframe\">\n",
       "  <thead>\n",
       "    <tr style=\"text-align: right;\">\n",
       "      <th></th>\n",
       "      <th>precision</th>\n",
       "      <th>recall</th>\n",
       "      <th>f1_score</th>\n",
       "      <th>accuracy</th>\n",
       "    </tr>\n",
       "  </thead>\n",
       "  <tbody>\n",
       "    <tr>\n",
       "      <th>model_thr_0.6</th>\n",
       "      <td>0.84</td>\n",
       "      <td>0.92</td>\n",
       "      <td>0.88</td>\n",
       "      <td>0.86</td>\n",
       "    </tr>\n",
       "    <tr>\n",
       "      <th>model_hp_tuned</th>\n",
       "      <td>0.85</td>\n",
       "      <td>0.88</td>\n",
       "      <td>0.86</td>\n",
       "      <td>0.85</td>\n",
       "    </tr>\n",
       "    <tr>\n",
       "      <th>model_thr_0.7</th>\n",
       "      <td>0.80</td>\n",
       "      <td>0.94</td>\n",
       "      <td>0.86</td>\n",
       "      <td>0.84</td>\n",
       "    </tr>\n",
       "    <tr>\n",
       "      <th>model_thr_0.5</th>\n",
       "      <td>0.83</td>\n",
       "      <td>0.86</td>\n",
       "      <td>0.84</td>\n",
       "      <td>0.82</td>\n",
       "    </tr>\n",
       "    <tr>\n",
       "      <th>model_thr_0.3</th>\n",
       "      <td>0.95</td>\n",
       "      <td>0.70</td>\n",
       "      <td>0.80</td>\n",
       "      <td>0.81</td>\n",
       "    </tr>\n",
       "    <tr>\n",
       "      <th>model_thr_0.4</th>\n",
       "      <td>0.87</td>\n",
       "      <td>0.78</td>\n",
       "      <td>0.82</td>\n",
       "      <td>0.81</td>\n",
       "    </tr>\n",
       "    <tr>\n",
       "      <th>model_thr_0.8</th>\n",
       "      <td>0.73</td>\n",
       "      <td>0.98</td>\n",
       "      <td>0.84</td>\n",
       "      <td>0.79</td>\n",
       "    </tr>\n",
       "    <tr>\n",
       "      <th>model_thr_0.9</th>\n",
       "      <td>0.64</td>\n",
       "      <td>0.98</td>\n",
       "      <td>0.78</td>\n",
       "      <td>0.69</td>\n",
       "    </tr>\n",
       "    <tr>\n",
       "      <th>model_thr_0.2</th>\n",
       "      <td>0.96</td>\n",
       "      <td>0.44</td>\n",
       "      <td>0.60</td>\n",
       "      <td>0.68</td>\n",
       "    </tr>\n",
       "    <tr>\n",
       "      <th>model_thr_0.1</th>\n",
       "      <td>1.00</td>\n",
       "      <td>0.16</td>\n",
       "      <td>0.28</td>\n",
       "      <td>0.54</td>\n",
       "    </tr>\n",
       "  </tbody>\n",
       "</table>\n",
       "</div>"
      ],
      "text/plain": [
       "                precision  recall  f1_score  accuracy\n",
       "model_thr_0.6        0.84    0.92      0.88      0.86\n",
       "model_hp_tuned       0.85    0.88      0.86      0.85\n",
       "model_thr_0.7        0.80    0.94      0.86      0.84\n",
       "model_thr_0.5        0.83    0.86      0.84      0.82\n",
       "model_thr_0.3        0.95    0.70      0.80      0.81\n",
       "model_thr_0.4        0.87    0.78      0.82      0.81\n",
       "model_thr_0.8        0.73    0.98      0.84      0.79\n",
       "model_thr_0.9        0.64    0.98      0.78      0.69\n",
       "model_thr_0.2        0.96    0.44      0.60      0.68\n",
       "model_thr_0.1        1.00    0.16      0.28      0.54"
      ]
     },
     "execution_count": 103,
     "metadata": {},
     "output_type": "execute_result"
    }
   ],
   "source": [
    "result['model_hp_tuned'] = eval_result(rand_search_pred)\n",
    "result.T.sort_values('accuracy', ascending=False)"
   ]
  },
  {
   "cell_type": "code",
   "execution_count": null,
   "id": "58002d62",
   "metadata": {},
   "outputs": [],
   "source": []
  },
  {
   "cell_type": "markdown",
   "id": "b084c123",
   "metadata": {},
   "source": [
    "### Feature importance"
   ]
  },
  {
   "cell_type": "code",
   "execution_count": 104,
   "id": "44066cb9-2bcc-4450-935b-8c5fb86d48b6",
   "metadata": {},
   "outputs": [],
   "source": [
    "importances = forest.feature_importances_"
   ]
  },
  {
   "cell_type": "code",
   "execution_count": 105,
   "id": "b86599aa-8ef2-49c8-8aea-1674a1a9bc5a",
   "metadata": {},
   "outputs": [
    {
     "data": {
      "image/png": "[encoded data removed]",
      "text/plain": [
       "<Figure size 640x480 with 1 Axes>"
      ]
     },
     "metadata": {},
     "output_type": "display_data"
    }
   ],
   "source": [
    "forest_importances = pd.Series(importances, index = X.columns)\n",
    "forest_importances = forest_importances.sort_values(ascending=False)\n",
    "fig, ax = plt.subplots()\n",
    "forest_importances.plot.bar(ax=ax)\n",
    "ax.set_title(\"Feature importances\")\n",
    "fig.tight_layout()"
   ]
  },
  {
   "cell_type": "code",
   "execution_count": 106,
   "id": "1526680d-a94a-4335-8644-902d6a5751b4",
   "metadata": {},
   "outputs": [],
   "source": [
    "# Drop the least important feature and compare the result with model 1\n",
    "X_test_short = X_test.drop(['fbs', 'restecg'], axis=1)\n",
    "X_train_short = X_train.drop(['fbs', 'restecg'], axis=1)"
   ]
  },
  {
   "cell_type": "code",
   "execution_count": 107,
   "id": "2f730335-849d-4fbd-b148-01fe746e2721",
   "metadata": {
    "collapsed": true,
    "jupyter": {
     "outputs_hidden": true
    },
    "tags": []
   },
   "outputs": [],
   "source": [
    "feat_model = rand_search_model.fit(X_train_short, y_train)\n",
    "feat_pred = feat_model.predict(X_test_short)"
   ]
  },
  {
   "cell_type": "code",
   "execution_count": 108,
   "id": "2ff087f3-9c1d-4860-a3f1-069cc2c61dce",
   "metadata": {},
   "outputs": [
    {
     "data": {
      "text/html": [
       "<div>\n",
       "<style scoped>\n",
       "    .dataframe tbody tr th:only-of-type {\n",
       "        vertical-align: middle;\n",
       "    }\n",
       "\n",
       "    .dataframe tbody tr th {\n",
       "        vertical-align: top;\n",
       "    }\n",
       "\n",
       "    .dataframe thead th {\n",
       "        text-align: right;\n",
       "    }\n",
       "</style>\n",
       "<table border=\"1\" class=\"dataframe\">\n",
       "  <thead>\n",
       "    <tr style=\"text-align: right;\">\n",
       "      <th></th>\n",
       "      <th>precision</th>\n",
       "      <th>recall</th>\n",
       "      <th>f1_score</th>\n",
       "      <th>accuracy</th>\n",
       "    </tr>\n",
       "  </thead>\n",
       "  <tbody>\n",
       "    <tr>\n",
       "      <th>model_thr_0.6</th>\n",
       "      <td>0.84</td>\n",
       "      <td>0.92</td>\n",
       "      <td>0.88</td>\n",
       "      <td>0.86</td>\n",
       "    </tr>\n",
       "    <tr>\n",
       "      <th>model_hp_tuned</th>\n",
       "      <td>0.85</td>\n",
       "      <td>0.88</td>\n",
       "      <td>0.86</td>\n",
       "      <td>0.85</td>\n",
       "    </tr>\n",
       "    <tr>\n",
       "      <th>model_thr_0.7</th>\n",
       "      <td>0.80</td>\n",
       "      <td>0.94</td>\n",
       "      <td>0.86</td>\n",
       "      <td>0.84</td>\n",
       "    </tr>\n",
       "    <tr>\n",
       "      <th>model_thr_0.5</th>\n",
       "      <td>0.83</td>\n",
       "      <td>0.86</td>\n",
       "      <td>0.84</td>\n",
       "      <td>0.82</td>\n",
       "    </tr>\n",
       "    <tr>\n",
       "      <th>model_thr_0.3</th>\n",
       "      <td>0.95</td>\n",
       "      <td>0.70</td>\n",
       "      <td>0.80</td>\n",
       "      <td>0.81</td>\n",
       "    </tr>\n",
       "    <tr>\n",
       "      <th>model_thr_0.4</th>\n",
       "      <td>0.87</td>\n",
       "      <td>0.78</td>\n",
       "      <td>0.82</td>\n",
       "      <td>0.81</td>\n",
       "    </tr>\n",
       "    <tr>\n",
       "      <th>model_features_tuned</th>\n",
       "      <td>0.83</td>\n",
       "      <td>0.80</td>\n",
       "      <td>0.82</td>\n",
       "      <td>0.80</td>\n",
       "    </tr>\n",
       "    <tr>\n",
       "      <th>model_thr_0.8</th>\n",
       "      <td>0.73</td>\n",
       "      <td>0.98</td>\n",
       "      <td>0.84</td>\n",
       "      <td>0.79</td>\n",
       "    </tr>\n",
       "    <tr>\n",
       "      <th>model_thr_0.9</th>\n",
       "      <td>0.64</td>\n",
       "      <td>0.98</td>\n",
       "      <td>0.78</td>\n",
       "      <td>0.69</td>\n",
       "    </tr>\n",
       "    <tr>\n",
       "      <th>model_thr_0.2</th>\n",
       "      <td>0.96</td>\n",
       "      <td>0.44</td>\n",
       "      <td>0.60</td>\n",
       "      <td>0.68</td>\n",
       "    </tr>\n",
       "    <tr>\n",
       "      <th>model_thr_0.1</th>\n",
       "      <td>1.00</td>\n",
       "      <td>0.16</td>\n",
       "      <td>0.28</td>\n",
       "      <td>0.54</td>\n",
       "    </tr>\n",
       "  </tbody>\n",
       "</table>\n",
       "</div>"
      ],
      "text/plain": [
       "                      precision  recall  f1_score  accuracy\n",
       "model_thr_0.6              0.84    0.92      0.88      0.86\n",
       "model_hp_tuned             0.85    0.88      0.86      0.85\n",
       "model_thr_0.7              0.80    0.94      0.86      0.84\n",
       "model_thr_0.5              0.83    0.86      0.84      0.82\n",
       "model_thr_0.3              0.95    0.70      0.80      0.81\n",
       "model_thr_0.4              0.87    0.78      0.82      0.81\n",
       "model_features_tuned       0.83    0.80      0.82      0.80\n",
       "model_thr_0.8              0.73    0.98      0.84      0.79\n",
       "model_thr_0.9              0.64    0.98      0.78      0.69\n",
       "model_thr_0.2              0.96    0.44      0.60      0.68\n",
       "model_thr_0.1              1.00    0.16      0.28      0.54"
      ]
     },
     "execution_count": 108,
     "metadata": {},
     "output_type": "execute_result"
    }
   ],
   "source": [
    "result['model_features_tuned'] = eval_result(feat_pred)\n",
    "result.T.sort_values('accuracy', ascending=False)"
   ]
  },
  {
   "cell_type": "markdown",
   "id": "2df92e6b",
   "metadata": {},
   "source": [
    "## Best Model Presentation\n",
    "\n",
    "Let's use our knowledge to produce the final model"
   ]
  },
  {
   "cell_type": "code",
   "execution_count": 109,
   "id": "6715302e",
   "metadata": {},
   "outputs": [],
   "source": [
    "# Define the parameters\n",
    "final_classifier = RandomForestClassifier(\n",
    "    n_estimators=70,       \n",
    "    max_depth=3,         \n",
    "    min_samples_split=4,     \n",
    "    min_samples_leaf=3,     \n",
    "    max_features='log2',    \n",
    "    random_state=42)\n",
    "\n",
    "# Fit the model to your training data restricted with one of the variables\n",
    "final_classifier.fit(X_train_short, y_train)\n",
    "\n",
    "# Generate predictions \n",
    "final_probs = final_classifier.predict_proba(X_test_short)\n",
    "\n",
    "# Use best threshold\n",
    "final_preds = [0 if i[0] >= 0.6 else 1 for i in final_probs]"
   ]
  },
  {
   "cell_type": "code",
   "execution_count": 110,
   "id": "8c10f525",
   "metadata": {},
   "outputs": [
    {
     "name": "stdout",
     "output_type": "stream",
     "text": [
      "0.1\n",
      "0.2\n",
      "0.3\n",
      "0.4\n",
      "0.5\n",
      "0.6\n",
      "0.7\n",
      "0.8\n",
      "0.9\n"
     ]
    },
    {
     "data": {
      "text/html": [
       "<div>\n",
       "<style scoped>\n",
       "    .dataframe tbody tr th:only-of-type {\n",
       "        vertical-align: middle;\n",
       "    }\n",
       "\n",
       "    .dataframe tbody tr th {\n",
       "        vertical-align: top;\n",
       "    }\n",
       "\n",
       "    .dataframe thead th {\n",
       "        text-align: right;\n",
       "    }\n",
       "</style>\n",
       "<table border=\"1\" class=\"dataframe\">\n",
       "  <thead>\n",
       "    <tr style=\"text-align: right;\">\n",
       "      <th></th>\n",
       "      <th>precision</th>\n",
       "      <th>recall</th>\n",
       "      <th>f1_score</th>\n",
       "      <th>accuracy</th>\n",
       "    </tr>\n",
       "  </thead>\n",
       "  <tbody>\n",
       "    <tr>\n",
       "      <th>final_model_thr_0.1</th>\n",
       "      <td>1.00</td>\n",
       "      <td>0.06</td>\n",
       "      <td>0.11</td>\n",
       "      <td>0.48</td>\n",
       "    </tr>\n",
       "    <tr>\n",
       "      <th>final_model_thr_0.2</th>\n",
       "      <td>0.93</td>\n",
       "      <td>0.26</td>\n",
       "      <td>0.41</td>\n",
       "      <td>0.58</td>\n",
       "    </tr>\n",
       "    <tr>\n",
       "      <th>final_model_thr_0.3</th>\n",
       "      <td>0.93</td>\n",
       "      <td>0.56</td>\n",
       "      <td>0.70</td>\n",
       "      <td>0.74</td>\n",
       "    </tr>\n",
       "    <tr>\n",
       "      <th>final_model_thr_0.4</th>\n",
       "      <td>0.90</td>\n",
       "      <td>0.74</td>\n",
       "      <td>0.81</td>\n",
       "      <td>0.81</td>\n",
       "    </tr>\n",
       "    <tr>\n",
       "      <th>final_model_thr_0.5</th>\n",
       "      <td>0.83</td>\n",
       "      <td>0.90</td>\n",
       "      <td>0.87</td>\n",
       "      <td>0.85</td>\n",
       "    </tr>\n",
       "    <tr>\n",
       "      <th>final_model_thr_0.6</th>\n",
       "      <td>0.84</td>\n",
       "      <td>0.92</td>\n",
       "      <td>0.88</td>\n",
       "      <td>0.86</td>\n",
       "    </tr>\n",
       "    <tr>\n",
       "      <th>final_model_thr_0.7</th>\n",
       "      <td>0.79</td>\n",
       "      <td>0.98</td>\n",
       "      <td>0.88</td>\n",
       "      <td>0.85</td>\n",
       "    </tr>\n",
       "    <tr>\n",
       "      <th>final_model_thr_0.8</th>\n",
       "      <td>0.68</td>\n",
       "      <td>0.98</td>\n",
       "      <td>0.80</td>\n",
       "      <td>0.74</td>\n",
       "    </tr>\n",
       "    <tr>\n",
       "      <th>final_model_thr_0.9</th>\n",
       "      <td>0.58</td>\n",
       "      <td>1.00</td>\n",
       "      <td>0.74</td>\n",
       "      <td>0.60</td>\n",
       "    </tr>\n",
       "  </tbody>\n",
       "</table>\n",
       "</div>"
      ],
      "text/plain": [
       "                     precision  recall  f1_score  accuracy\n",
       "final_model_thr_0.1       1.00    0.06      0.11      0.48\n",
       "final_model_thr_0.2       0.93    0.26      0.41      0.58\n",
       "final_model_thr_0.3       0.93    0.56      0.70      0.74\n",
       "final_model_thr_0.4       0.90    0.74      0.81      0.81\n",
       "final_model_thr_0.5       0.83    0.90      0.87      0.85\n",
       "final_model_thr_0.6       0.84    0.92      0.88      0.86\n",
       "final_model_thr_0.7       0.79    0.98      0.88      0.85\n",
       "final_model_thr_0.8       0.68    0.98      0.80      0.74\n",
       "final_model_thr_0.9       0.58    1.00      0.74      0.60"
      ]
     },
     "execution_count": 110,
     "metadata": {},
     "output_type": "execute_result"
    }
   ],
   "source": [
    "result2 = pd.DataFrame(index=['precision','recall', 'f1_score','accuracy'])\n",
    "for t in [x/10 for x in range(1, 10)]:\n",
    "    print(t)\n",
    "    final_pred = [0 if i[0]>=t else 1 for i in final_probs]\n",
    "    result2[f'final_model_thr_{t}'] = eval_result(final_pred)\n",
    "result2.T"
   ]
  },
  {
   "cell_type": "code",
   "execution_count": 52,
   "id": "ddfe4d7d",
   "metadata": {},
   "outputs": [
    {
     "data": {
      "text/html": [
       "<div>\n",
       "<style scoped>\n",
       "    .dataframe tbody tr th:only-of-type {\n",
       "        vertical-align: middle;\n",
       "    }\n",
       "\n",
       "    .dataframe tbody tr th {\n",
       "        vertical-align: top;\n",
       "    }\n",
       "\n",
       "    .dataframe thead th {\n",
       "        text-align: right;\n",
       "    }\n",
       "</style>\n",
       "<table border=\"1\" class=\"dataframe\">\n",
       "  <thead>\n",
       "    <tr style=\"text-align: right;\">\n",
       "      <th></th>\n",
       "      <th>precision</th>\n",
       "      <th>recall</th>\n",
       "      <th>f1_score</th>\n",
       "      <th>accuracy</th>\n",
       "    </tr>\n",
       "  </thead>\n",
       "  <tbody>\n",
       "    <tr>\n",
       "      <th>model_thr_0.6</th>\n",
       "      <td>0.84</td>\n",
       "      <td>0.92</td>\n",
       "      <td>0.88</td>\n",
       "      <td>0.86</td>\n",
       "    </tr>\n",
       "    <tr>\n",
       "      <th>model_final</th>\n",
       "      <td>0.84</td>\n",
       "      <td>0.92</td>\n",
       "      <td>0.88</td>\n",
       "      <td>0.86</td>\n",
       "    </tr>\n",
       "    <tr>\n",
       "      <th>model_thr_0.7</th>\n",
       "      <td>0.80</td>\n",
       "      <td>0.94</td>\n",
       "      <td>0.86</td>\n",
       "      <td>0.84</td>\n",
       "    </tr>\n",
       "    <tr>\n",
       "      <th>model_features_tuned</th>\n",
       "      <td>0.83</td>\n",
       "      <td>0.88</td>\n",
       "      <td>0.85</td>\n",
       "      <td>0.84</td>\n",
       "    </tr>\n",
       "    <tr>\n",
       "      <th>model_first</th>\n",
       "      <td>0.83</td>\n",
       "      <td>0.86</td>\n",
       "      <td>0.84</td>\n",
       "      <td>0.82</td>\n",
       "    </tr>\n",
       "    <tr>\n",
       "      <th>model_thr_0.5</th>\n",
       "      <td>0.83</td>\n",
       "      <td>0.86</td>\n",
       "      <td>0.84</td>\n",
       "      <td>0.82</td>\n",
       "    </tr>\n",
       "    <tr>\n",
       "      <th>model_thr_0.3</th>\n",
       "      <td>0.95</td>\n",
       "      <td>0.70</td>\n",
       "      <td>0.80</td>\n",
       "      <td>0.81</td>\n",
       "    </tr>\n",
       "    <tr>\n",
       "      <th>model_thr_0.4</th>\n",
       "      <td>0.87</td>\n",
       "      <td>0.78</td>\n",
       "      <td>0.82</td>\n",
       "      <td>0.81</td>\n",
       "    </tr>\n",
       "    <tr>\n",
       "      <th>model_hp_tuned</th>\n",
       "      <td>0.84</td>\n",
       "      <td>0.82</td>\n",
       "      <td>0.83</td>\n",
       "      <td>0.81</td>\n",
       "    </tr>\n",
       "    <tr>\n",
       "      <th>model_thr_0.8</th>\n",
       "      <td>0.73</td>\n",
       "      <td>0.98</td>\n",
       "      <td>0.84</td>\n",
       "      <td>0.79</td>\n",
       "    </tr>\n",
       "    <tr>\n",
       "      <th>model_thr_0.9</th>\n",
       "      <td>0.64</td>\n",
       "      <td>0.98</td>\n",
       "      <td>0.78</td>\n",
       "      <td>0.69</td>\n",
       "    </tr>\n",
       "    <tr>\n",
       "      <th>model_thr_0.2</th>\n",
       "      <td>0.96</td>\n",
       "      <td>0.44</td>\n",
       "      <td>0.60</td>\n",
       "      <td>0.68</td>\n",
       "    </tr>\n",
       "    <tr>\n",
       "      <th>model_thr_0.1</th>\n",
       "      <td>1.00</td>\n",
       "      <td>0.16</td>\n",
       "      <td>0.28</td>\n",
       "      <td>0.54</td>\n",
       "    </tr>\n",
       "  </tbody>\n",
       "</table>\n",
       "</div>"
      ],
      "text/plain": [
       "                      precision  recall  f1_score  accuracy\n",
       "model_thr_0.6              0.84    0.92      0.88      0.86\n",
       "model_final                0.84    0.92      0.88      0.86\n",
       "model_thr_0.7              0.80    0.94      0.86      0.84\n",
       "model_features_tuned       0.83    0.88      0.85      0.84\n",
       "model_first                0.83    0.86      0.84      0.82\n",
       "model_thr_0.5              0.83    0.86      0.84      0.82\n",
       "model_thr_0.3              0.95    0.70      0.80      0.81\n",
       "model_thr_0.4              0.87    0.78      0.82      0.81\n",
       "model_hp_tuned             0.84    0.82      0.83      0.81\n",
       "model_thr_0.8              0.73    0.98      0.84      0.79\n",
       "model_thr_0.9              0.64    0.98      0.78      0.69\n",
       "model_thr_0.2              0.96    0.44      0.60      0.68\n",
       "model_thr_0.1              1.00    0.16      0.28      0.54"
      ]
     },
     "execution_count": 52,
     "metadata": {},
     "output_type": "execute_result"
    }
   ],
   "source": [
    "result['model_final'] = eval_result(final_preds)\n",
    "result.T.sort_values('accuracy', ascending=False)"
   ]
  },
  {
   "cell_type": "code",
   "execution_count": 111,
   "id": "e8214041",
   "metadata": {},
   "outputs": [
    {
     "data": {
      "text/plain": [
       "Text(0.5, 1.0, 'Final Model Confusion Matrix')"
      ]
     },
     "execution_count": 111,
     "metadata": {},
     "output_type": "execute_result"
    },
    {
     "data": {
      "image/png": "[encoded data removed]",
      "text/plain": [
       "<Figure size 640x480 with 2 Axes>"
      ]
     },
     "metadata": {},
     "output_type": "display_data"
    }
   ],
   "source": [
    "# Let's see the confusion matrix for the final model\n",
    "sns.heatmap(confusion_matrix(y_test, final_preds), annot=True)\n",
    "plt.xlabel(\"Predicted Labels\")\n",
    "plt.ylabel(\"Actual Labels\")\n",
    "plt.title(\"Final Model Confusion Matrix\")"
   ]
  },
  {
   "cell_type": "code",
   "execution_count": null,
   "id": "23fb271f",
   "metadata": {},
   "outputs": [],
   "source": []
  }
 ],
 "metadata": {
  "kernelspec": {
   "display_name": "Python 3",
   "language": "python",
   "name": "python3"
  },
  "language_info": {
   "codemirror_mode": {
    "name": "ipython",
    "version": 3
   },
   "file_extension": ".py",
   "mimetype": "text/x-python",
   "name": "python",
   "nbconvert_exporter": "python",
   "pygments_lexer": "ipython3",
   "version": "3.13.0"
  }
 },
 "nbformat": 4,
 "nbformat_minor": 5
}
