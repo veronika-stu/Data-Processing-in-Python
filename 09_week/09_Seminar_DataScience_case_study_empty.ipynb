{
 "cells": [
  {
   "cell_type": "markdown",
   "id": "2d667870",
   "metadata": {},
   "source": [
    "# Heart Attack Prediction Case Study\n",
    "## Seminar, Data Science Case Study\n",
    "__Week 9__, 25/04/15\n",
    "\n",
    "### __Problem definition:__ Predict whether a patient will have a heart attack or not\n"
   ]
  },
  {
   "cell_type": "markdown",
   "id": "be742eee",
   "metadata": {},
   "source": [
    "## Dataset description: "
   ]
  },
  {
   "cell_type": "markdown",
   "id": "6c9c4ad8",
   "metadata": {},
   "source": [
    "| **Feature**     | **Description**                                                                                         | **Values**                                                                                 |\n",
    "|------------------|---------------------------------------------------------------------------------------------------------|-------------------------------------------------------------------------------------------|\n",
    "| **Age**         | Age of the individual.                                                                                  | Numerical                                                                                 |\n",
    "| **Sex**         | Biological sex of the individual.                                                                       | Male, Female                                                                              |\n",
    "| **exang**       | Whether the individual experiences chest pain caused by exercise (indicates potential heart problems).  | 1 = Yes, 0 = No                                                                          |\n",
    "| **ca**          | Number of major blood vessels that show narrowing or blockage (higher value = more severe issues).      | 0 to 3                                                                                   |\n",
    "| **cp**          | Type of chest pain experienced.                                                                         | 1 = Typical angina (heart-related pain)                                                  |\n",
    "|                  |                                                                                                         | 2 = Atypical angina (not directly related to heart issues)                               |\n",
    "|                  |                                                                                                         | 3 = Non-anginal pain (unrelated to the heart)                                            |\n",
    "|                  |                                                                                                         | 4 = Asymptomatic (no chest pain)                                                        |\n",
    "| **trtbps**      | Resting blood pressure (in mm Hg). Reflects blood force on vessel walls while at rest.                  | Numerical                                                                                 |\n",
    "| **chol**        | Cholesterol level in blood (mg/dl). High values indicate a higher risk of heart disease.                | Numerical                                                                                 |\n",
    "| **fbs**         | Fasting blood sugar level (>120 mg/dl indicates possible diabetes).                                     | 1 = True, 0 = False                                                                      |\n",
    "| **rest_ecg**    | Resting electrocardiogram results (measures heart's electrical activity).                               | 0 = Normal                                                                               |\n",
    "|                  |                                                                                                         | 1 = Abnormalities in heart signals (e.g., irregular heartbeat)                          |\n",
    "|                  |                                                                                                         | 2 = Enlarged heart due to strain/damage                                                 |\n",
    "| **thalach**     | Maximum heart rate achieved during physical activity (lower values may indicate weaker performance).    | Numerical                                                                                 |\n",
    "| **target**      | Likelihood of heart problems based on all factors.                                                      | 0 = Lower chance of heart attack                                                         |\n",
    "|                  |                                                                                                         | 1 = Higher chance of heart attack                                                       |\n"
   ]
  },
  {
   "cell_type": "code",
   "execution_count": null,
   "id": "25294e0a",
   "metadata": {},
   "outputs": [],
   "source": [
    "import pandas as pd\n",
    "import numpy as np\n",
    "import matplotlib.pyplot as plt\n",
    "import seaborn as sns\n",
    "import sklearn # scikit-learn might work\n",
    "from sklearn.model_selection import train_test_split, RandomizedSearchCV\n",
    "from sklearn.ensemble import RandomForestClassifier\n",
    "from sklearn.metrics import confusion_matrix\n",
    "\n",
    "# !pip3 install xxx "
   ]
  },
  {
   "cell_type": "markdown",
   "id": "0cd1b4db",
   "metadata": {},
   "source": [
    "## Data Preparation"
   ]
  },
  {
   "cell_type": "code",
   "execution_count": null,
   "id": "cad732a7",
   "metadata": {},
   "outputs": [],
   "source": []
  },
  {
   "cell_type": "code",
   "execution_count": null,
   "id": "190ade33",
   "metadata": {},
   "outputs": [],
   "source": [
    "print(data.shape)\n",
    "data.head()"
   ]
  },
  {
   "cell_type": "code",
   "execution_count": null,
   "id": "6d64fd26",
   "metadata": {},
   "outputs": [],
   "source": [
    "print(o2_saturation.shape)\n",
    "o2_saturation.head()"
   ]
  },
  {
   "cell_type": "code",
   "execution_count": null,
   "id": "9c2711c0",
   "metadata": {},
   "outputs": [],
   "source": [
    "data.info()"
   ]
  },
  {
   "cell_type": "markdown",
   "id": "36498b55",
   "metadata": {},
   "source": [
    "## Exploratory Data Analysis (EDA)"
   ]
  },
  {
   "cell_type": "code",
   "execution_count": null,
   "id": "1489c727",
   "metadata": {},
   "outputs": [],
   "source": [
    "data.describe()"
   ]
  },
  {
   "cell_type": "code",
   "execution_count": null,
   "id": "17e69c68",
   "metadata": {},
   "outputs": [],
   "source": [
    "# what is the distribution of age column?\n"
   ]
  },
  {
   "cell_type": "code",
   "execution_count": null,
   "id": "caba3e33",
   "metadata": {},
   "outputs": [],
   "source": [
    "##  What is the share between males and females in the sample?\n"
   ]
  },
  {
   "cell_type": "code",
   "execution_count": null,
   "id": "f0dd15a8-1502-40c5-8522-2b3737f89bac",
   "metadata": {},
   "outputs": [],
   "source": [
    "## Add o2_saturation data in the data frame 'data'\n"
   ]
  },
  {
   "cell_type": "code",
   "execution_count": null,
   "id": "195ae311",
   "metadata": {},
   "outputs": [],
   "source": [
    "corr = data.corr()\n",
    "\n",
    "plt.figure(figsize=(15, 10))\n",
    "sns.heatmap(corr, annot=True)"
   ]
  },
  {
   "cell_type": "code",
   "execution_count": null,
   "id": "0fe76502",
   "metadata": {},
   "outputs": [],
   "source": [
    "# Specify X and y and split the dataset\n"
   ]
  },
  {
   "cell_type": "code",
   "execution_count": null,
   "id": "183fd155",
   "metadata": {},
   "outputs": [],
   "source": [
    "X_train.shape, X_test.shape, y_train.shape, y_test.shape"
   ]
  },
  {
   "cell_type": "markdown",
   "id": "6c764cef",
   "metadata": {},
   "source": [
    "## Modeling\n",
    "Using __Random Forest Classifier__\n",
    "\n",
    "### Random Forest Classifier\n",
    "\n",
    "#### Overview\n",
    "Used for both classification and regression tasks. \n",
    "\n",
    "It is an ensemble method that builds multiple decision trees and merges their predictions to achieve better accuracy and reduce the risk of overfitting.\n",
    "\n",
    "#### How it Works\n",
    "1. **Data Sampling**: Random subsets of the training data are created using bootstrapping.\n",
    "2. **Tree Construction**: A decision tree is built for each subset, considering only a random subset of features at each split.\n",
    "3. **Prediction**:\n",
    "   - **Classification**: The final prediction is based on majority voting across all trees.\n",
    "   - **Regression**: The final prediction is the average of all tree predictions.\n",
    "\n",
    "#### Advantages\n",
    "- Handles high-dimensional data well.\n",
    "- Works well with both numerical and categorical data.\n",
    "- Provides feature importance scores, helping in feature selection.\n",
    "\n",
    "#### Disadvantages\n",
    "- Requires more computational resources due to multiple trees.\n",
    "- Less interpretable than a single decision tree.\n",
    "- May not perform well on highly imbalanced datasets without proper preprocessing.\n"
   ]
  },
  {
   "cell_type": "code",
   "execution_count": null,
   "id": "077d86fe",
   "metadata": {},
   "outputs": [],
   "source": [
    "# specify model\n",
    "\n",
    "\n",
    "# train model\n",
    "\n",
    "\n",
    "# make prediction\n"
   ]
  },
  {
   "cell_type": "code",
   "execution_count": null,
   "id": "40e251ea-7fcd-4aee-b638-f29309b68b89",
   "metadata": {},
   "outputs": [],
   "source": [
    "forest_preds"
   ]
  },
  {
   "cell_type": "markdown",
   "id": "080c566f-6f78-43d2-8782-008a738e0697",
   "metadata": {},
   "source": [
    "### Evaluate the result"
   ]
  },
  {
   "cell_type": "code",
   "execution_count": null,
   "id": "525bd174-6241-4d14-946a-f41fe31e6c7b",
   "metadata": {},
   "outputs": [],
   "source": [
    "# Manually calculate number of True positive and False negative predictions\n"
   ]
  },
  {
   "cell_type": "code",
   "execution_count": null,
   "id": "e5252037-b250-4ae4-99c5-1138bfd537e1",
   "metadata": {},
   "outputs": [],
   "source": [
    "sns.heatmap(confusion_matrix(y_test, forest_preds), annot=True)\n",
    "plt.xlabel(\"Predicted Labels\")\n",
    "plt.ylabel(\"Actual Labels\")\n",
    "plt.title(\"Confusion Matrix\")"
   ]
  },
  {
   "cell_type": "code",
   "execution_count": null,
   "id": "3d3f1e98-c3cd-428d-aa14-d099db19e3a6",
   "metadata": {},
   "outputs": [],
   "source": [
    "# Based on the confusion matrics fill:\n",
    "true_positive = \n",
    "true_negative = \n",
    "false_positive = \n",
    "false_negative = "
   ]
  },
  {
   "cell_type": "markdown",
   "id": "a5f55d8d-f413-4d0a-9b7b-23efc31c257d",
   "metadata": {},
   "source": [
    "### Evaluation Metrics\n",
    "#### Precision\n",
    "**Description**: Precision measures the proportion of correctly identified positive instances among all instances predicted as positive. It focuses on how accurate the positive predictions are.\n",
    "\n",
    "**Rationale**: High precision means fewer false positives, which is crucial in scenarios like spam detection or medical diagnosis where false positives can have significant consequences.\n",
    "\n",
    "**Formula**:  \n",
    "$$\n",
    "\\text{Precision} = \\frac{\\text{True Positives (TP)}}{\\text{True Positives (TP)} + \\text{False Positives (FP)}}\n",
    "$$\n"
   ]
  },
  {
   "cell_type": "code",
   "execution_count": null,
   "id": "b3cd0f2f",
   "metadata": {},
   "outputs": [],
   "source": []
  },
  {
   "cell_type": "markdown",
   "id": "6d36b298",
   "metadata": {},
   "source": [
    "#### Recall\n",
    "**Description**: Recall, or sensitivity, measures the proportion of correctly identified positive instances out of all actual positive instances.\n",
    "\n",
    "**Rationale**: High recall ensures fewer false negatives, important in cases like disease detection where missing a positive case can be critical.\n",
    "\n",
    "**Formula**:  \n",
    "$$\n",
    "\\text{Recall} = \\frac{\\text{True Positives (TP)}}{\\text{True Positives (TP)} + \\text{False Negatives (FN)}}\n",
    "$$"
   ]
  },
  {
   "cell_type": "code",
   "execution_count": null,
   "id": "979fb237-0771-4585-ae70-74a8b4db6077",
   "metadata": {},
   "outputs": [],
   "source": []
  },
  {
   "cell_type": "markdown",
   "id": "080bbe43",
   "metadata": {},
   "source": [
    "#### F1 Score\n",
    "**Description**: The F1 Score is the harmonic mean of Precision and Recall, balancing both metrics. It is used when there’s a need to balance precision and recall, especially in cases with imbalanced datasets.\n",
    "\n",
    "**Rationale**: The F1 score gives a single performance metric that penalizes extreme values of Precision or Recall.\n",
    "\n",
    "**Formula**:  \n",
    "$$\n",
    "F1 = 2 \\cdot \\frac{\\text{Precision} \\cdot \\text{Recall}}{\\text{Precision} + \\text{Recall}}\n",
    "$$"
   ]
  },
  {
   "cell_type": "code",
   "execution_count": null,
   "id": "008cd394-6520-4888-863f-6463fe3fa9ec",
   "metadata": {},
   "outputs": [],
   "source": []
  },
  {
   "cell_type": "markdown",
   "id": "b9e81f89",
   "metadata": {},
   "source": [
    "#### Accuracy\n",
    "**Description**: Accuracy measures the proportion of correctly classified instances (both positive and negative) out of all instances.\n",
    "\n",
    "**Rationale**: Accuracy is a simple metric but can be misleading on imbalanced datasets, as it doesn’t distinguish between types of errors.\n",
    "\n",
    "**Formula**:  \n",
    "$$\n",
    "\\text{Accuracy} = \\frac{\\text{True Positives (TP)} + \\text{True Negatives (TN)}}{\\text{Total Instances}}\n",
    "$$"
   ]
  },
  {
   "cell_type": "code",
   "execution_count": null,
   "id": "c6fac62f-c5a8-4ba5-b7ee-82ec647b9ef0",
   "metadata": {},
   "outputs": [],
   "source": []
  },
  {
   "cell_type": "markdown",
   "id": "e43acac7-9bca-461c-9e32-8542a3fd04ef",
   "metadata": {},
   "source": [
    "### Result Saving"
   ]
  },
  {
   "cell_type": "code",
   "execution_count": null,
   "id": "922aecda-8067-4b9c-8f2c-ad83e345b42a",
   "metadata": {},
   "outputs": [],
   "source": [
    "# create empty dataframe with indexes: ['precision','recall', 'f1_score','accuracy']\n"
   ]
  },
  {
   "cell_type": "code",
   "execution_count": null,
   "id": "1469766a-232b-4931-a7d6-43ee8b22141c",
   "metadata": {},
   "outputs": [],
   "source": [
    "# write a function which will return 4 metrics:\n",
    "# [round(sklearn.metrics.precision_score(y_test, forest_preds), 2),round(sklearn.metrics.recall_score(y_test, forest_preds), 2),round(sklearn.metrics.f1_score(y_test, forest_preds), 2),round(sklearn.metrics.accuracy_score(y_test, forest_preds), 2)]\n",
    "\n",
    "\n"
   ]
  },
  {
   "cell_type": "code",
   "execution_count": null,
   "id": "ce75bce6-17e4-46fc-bd25-c31bdc178d10",
   "metadata": {},
   "outputs": [],
   "source": [
    "# add the result of model_1 into the df 'result'\n",
    "result['model_first'] = \n",
    "result"
   ]
  },
  {
   "cell_type": "code",
   "execution_count": null,
   "id": "cabae7b5-dc23-41bc-8cba-f9ba3e1df5ae",
   "metadata": {},
   "outputs": [],
   "source": [
    "forest.predict(X_test)[:5]"
   ]
  },
  {
   "cell_type": "code",
   "execution_count": null,
   "id": "bd4b584e-9b3d-47b2-ae9e-396c6f6af482",
   "metadata": {},
   "outputs": [],
   "source": [
    "res_proba = forest.predict_proba(X_test)\n",
    "res_proba[:5]"
   ]
  },
  {
   "cell_type": "markdown",
   "id": "c4ec1339",
   "metadata": {},
   "source": [
    "## Hyperparameter tuning"
   ]
  },
  {
   "cell_type": "markdown",
   "id": "682a3dcb",
   "metadata": {},
   "source": [
    "### Change the threshold"
   ]
  },
  {
   "cell_type": "code",
   "execution_count": null,
   "id": "0df4b875-4107-4ce8-837a-1c9b5bfcb669",
   "metadata": {},
   "outputs": [],
   "source": [
    "# get the result for a threshold = 0.7\n"
   ]
  },
  {
   "cell_type": "code",
   "execution_count": null,
   "id": "21754b98-1b7b-43f4-b2ad-18507ba9c86d",
   "metadata": {},
   "outputs": [],
   "source": [
    "# Generate results for any threshold from 0.1 till 0.9 and add it into 'result' df\n"
   ]
  },
  {
   "cell_type": "code",
   "execution_count": null,
   "id": "e22b9ecb",
   "metadata": {},
   "outputs": [],
   "source": [
    "result"
   ]
  },
  {
   "cell_type": "code",
   "execution_count": null,
   "id": "3b87475b-d862-44a7-a667-5962099483ee",
   "metadata": {},
   "outputs": [],
   "source": [
    "result.T.sort_values('accuracy', ascending=False)"
   ]
  },
  {
   "cell_type": "markdown",
   "id": "45d0fcc7",
   "metadata": {},
   "source": [
    "### Using RandomizedSearchCV for hyperparameter turning\n",
    "\n",
    "### Hyperparameters\n",
    "Key hyperparameters to tune in Random Forest:\n",
    "\n",
    "1. `n_estimators`\n",
    "- Description: The number of trees in the Random Forest.\n",
    "- Impact: A higher number of trees increases model accuracy but also computational cost. Commonly tuned to find a balance between performance and efficiency.\n",
    "\n",
    "2. `max_depth`\n",
    "- Description: The maximum depth of each tree in the forest.\n",
    "- Impact: Limits the growth of trees to avoid overfitting. Shallower trees generalize better but may underfit the data.\n",
    "\n",
    "3. `max_features`\n",
    "- Description: The number of features to consider when splitting a node.\n",
    "- \"sqrt\": Considers the square root of the total number of features.\n",
    "- \"log2\": Considers the logarithm (base 2) of the total number of features.\n",
    "- \"None\": Considers all features\n",
    "- Impact: Controls how the model selects features, impacting diversity among trees and overall performance.\n",
    "\n",
    "4. `min_samples_split`\n",
    "- Description: The minimum number of samples required to split an internal node.\n",
    "- Impact: Higher values restrict tree splitting, preventing overfitting but increasing the risk of underfitting.\n",
    "\n",
    "5. `min_samples_leaf`\n",
    "- Description: The minimum number of samples required to be in a leaf node.\n",
    "- Impact: Larger values prevent the model from learning overly specific patterns, improving generalization but potentially missing finer details."
   ]
  },
  {
   "cell_type": "code",
   "execution_count": null,
   "id": "7c1501e3",
   "metadata": {},
   "outputs": [],
   "source": [
    "estimator = RandomForestClassifier()\n",
    "grid = {\"n_estimators\": [50, 60, 70, 80, 90, 100, 110, 120],\n",
    "        \"max_depth\": [3, 5, 7, 9, 11, 13, 15],\n",
    "        \"max_features\" : [\"sqrt\", \"log2\", None],\n",
    "        \"min_samples_split\": [2, 3, 4, 5],\n",
    "        \"min_samples_leaf\": [1, 2, 3, 4]}\n",
    "\n",
    "rand_search_model = RandomizedSearchCV(estimator=estimator,\n",
    "                                      param_distributions=grid)"
   ]
  },
  {
   "cell_type": "code",
   "execution_count": null,
   "id": "a9188e30",
   "metadata": {
    "collapsed": true,
    "jupyter": {
     "outputs_hidden": true
    },
    "tags": []
   },
   "outputs": [],
   "source": [
    "# Retrain the model with tuned parameters and compare with model 1\n"
   ]
  },
  {
   "cell_type": "code",
   "execution_count": null,
   "id": "acbb111b-8b61-46b2-92b3-511588758d0f",
   "metadata": {},
   "outputs": [],
   "source": [
    "rand_search_model.best_params_"
   ]
  },
  {
   "cell_type": "code",
   "execution_count": null,
   "id": "10b109c8",
   "metadata": {},
   "outputs": [],
   "source": [
    "result['model_hp_tuned'] = \n",
    "result.T.sort_values('accuracy', ascending=False)"
   ]
  },
  {
   "cell_type": "markdown",
   "id": "b084c123",
   "metadata": {},
   "source": [
    "### Feature importance"
   ]
  },
  {
   "cell_type": "code",
   "execution_count": null,
   "id": "44066cb9-2bcc-4450-935b-8c5fb86d48b6",
   "metadata": {},
   "outputs": [],
   "source": [
    "importances = forest.feature_importances_"
   ]
  },
  {
   "cell_type": "code",
   "execution_count": null,
   "id": "b86599aa-8ef2-49c8-8aea-1674a1a9bc5a",
   "metadata": {},
   "outputs": [],
   "source": [
    "forest_importances = pd.Series(importances, index = X.columns)\n",
    "forest_importances = forest_importances.sort_values(ascending=False)\n",
    "fig, ax = plt.subplots()\n",
    "forest_importances.plot.bar(ax=ax)\n",
    "ax.set_title(\"Feature importances\")\n",
    "fig.tight_layout()"
   ]
  },
  {
   "cell_type": "code",
   "execution_count": null,
   "id": "1526680d-a94a-4335-8644-902d6a5751b4",
   "metadata": {},
   "outputs": [],
   "source": [
    "# Drop the least important feature and compare the result with model 1\n"
   ]
  },
  {
   "cell_type": "code",
   "execution_count": null,
   "id": "2f730335-849d-4fbd-b148-01fe746e2721",
   "metadata": {
    "collapsed": true,
    "jupyter": {
     "outputs_hidden": true
    },
    "tags": []
   },
   "outputs": [],
   "source": [
    "feat_model = rand_search_model.fit()\n",
    "feat_pred = feat_model.predict()"
   ]
  },
  {
   "cell_type": "code",
   "execution_count": null,
   "id": "2ff087f3-9c1d-4860-a3f1-069cc2c61dce",
   "metadata": {},
   "outputs": [],
   "source": [
    "result['model_features_tuned'] = \n",
    "result.T.sort_values('accuracy', ascending=False)"
   ]
  },
  {
   "cell_type": "markdown",
   "id": "2df92e6b",
   "metadata": {},
   "source": [
    "## Best Model Presentation\n",
    "\n",
    "Let's use our knowledge to produce the final model"
   ]
  },
  {
   "cell_type": "code",
   "execution_count": null,
   "id": "6715302e",
   "metadata": {},
   "outputs": [],
   "source": [
    "# Define the parameters\n",
    "final_classifier = RandomForestClassifier(\n",
    "    #<params>\n",
    ")\n",
    "\n",
    "# Fit the model to your training data restricted with one of the variables\n",
    "final_classifier.fit()\n",
    "\n",
    "# Generate predictions \n",
    "final_probs = final_classifier.predict_proba(t)\n",
    "\n",
    "# Use best threshold\n",
    "final_preds = [0 if i[0] >= 0 # Insert threshold\n",
    "                else 1 for i in final_probs]"
   ]
  },
  {
   "cell_type": "code",
   "execution_count": null,
   "id": "ddfe4d7d",
   "metadata": {},
   "outputs": [],
   "source": [
    "result['model_final'] =\n",
    "result.T.sort_values('accuracy', ascending=False)"
   ]
  },
  {
   "cell_type": "code",
   "execution_count": null,
   "id": "e8214041",
   "metadata": {},
   "outputs": [],
   "source": [
    "# Let's see the confusion matrix for the final model\n",
    "sns.heatmap(confusion_matrix(y_test, final_preds), annot=True)\n",
    "plt.xlabel(\"Predicted Labels\")\n",
    "plt.ylabel(\"Actual Labels\")\n",
    "plt.title(\"Final Model Confusion Matrix\")"
   ]
  },
  {
   "cell_type": "code",
   "execution_count": null,
   "id": "23fb271f",
   "metadata": {},
   "outputs": [],
   "source": []
  }
 ],
 "metadata": {
  "kernelspec": {
   "display_name": "Python 3",
   "language": "python",
   "name": "python3"
  },
  "language_info": {
   "codemirror_mode": {
    "name": "ipython",
    "version": 3
   },
   "file_extension": ".py",
   "mimetype": "text/x-python",
   "name": "python",
   "nbconvert_exporter": "python",
   "pygments_lexer": "ipython3",
   "version": "3.13.0"
  }
 },
 "nbformat": 4,
 "nbformat_minor": 5
}
