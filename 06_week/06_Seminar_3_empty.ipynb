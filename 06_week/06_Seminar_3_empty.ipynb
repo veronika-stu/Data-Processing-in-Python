{
 "cells": [
  {
   "cell_type": "markdown",
   "id": "9b9babd9-e6ad-49bd-9e5e-c479363d305b",
   "metadata": {
    "tags": []
   },
   "source": [
    "# Seminar 3: Data Formats and APIs\n",
    "\n",
    "March 25, 2025\n",
    "- Vilém Krejcar\n",
    "\n",
    "______________________________"
   ]
  },
  {
   "cell_type": "markdown",
   "id": "df94509e",
   "metadata": {},
   "source": [
    "## What are we going to learn\n",
    "\n",
    "- What are the most popular data formats and how to work with them\n",
    "- Databases, SQL and data manipulation\n",
    "- HTTP requests\n",
    "- How to scrape websites "
   ]
  },
  {
   "cell_type": "markdown",
   "id": "986a277c",
   "metadata": {},
   "source": [
    "## 1. Data formats\n",
    "\n",
    "### Data Serialization and Formats\n",
    "Serialization is the process of converting data structures or objects into a format that can be easily stored and shared. Common data formats in Python include:\n",
    "- **JSON**: Lightweight and commonly used for APIs.\n",
    "- **CSV**: Ideal for tabular data, especially in spreadsheets.\n",
    "- **Excel**: Classic data storage everyone is aware of."
   ]
  },
  {
   "cell_type": "markdown",
   "id": "0992c573",
   "metadata": {},
   "source": [
    "#### JSON"
   ]
  },
  {
   "cell_type": "code",
   "execution_count": null,
   "id": "1e895e24",
   "metadata": {},
   "outputs": [],
   "source": [
    "import json\n",
    "import pandas as pd\n",
    "import os\n",
    "    \n",
    "data = {\n",
    "    \"name\": \"Alice\",\n",
    "    \"age\": 30,\n",
    "    \"is_member\": True,\n",
    "    \"hobbies\": [\"reading\", \"biking\", \"coding\"]\n",
    "}"
   ]
  },
  {
   "cell_type": "code",
   "execution_count": null,
   "id": "66232bad",
   "metadata": {},
   "outputs": [],
   "source": []
  },
  {
   "cell_type": "markdown",
   "id": "e3c1c1a0",
   "metadata": {},
   "source": [
    "#### CSV"
   ]
  },
  {
   "cell_type": "code",
   "execution_count": null,
   "id": "0923b3b6",
   "metadata": {},
   "outputs": [],
   "source": [
    "import csv\n",
    "\n",
    "data = [\n",
    "    [\"Name\", \"Age\", \"Occupation\"],\n",
    "    [\"Alice\", 30, \"Engineer\"],\n",
    "    [\"Bob\", 25, \"Designer\"],\n",
    "    [\"Charlie\", 35, \"Teacher\"]\n",
    "]\n"
   ]
  },
  {
   "cell_type": "code",
   "execution_count": null,
   "id": "713100bd",
   "metadata": {},
   "outputs": [],
   "source": []
  },
  {
   "cell_type": "markdown",
   "id": "8d44a03e",
   "metadata": {},
   "source": [
    "#### Excel"
   ]
  },
  {
   "cell_type": "code",
   "execution_count": null,
   "id": "f038ebdf",
   "metadata": {},
   "outputs": [],
   "source": [
    "data = {\n",
    "    \"name\": \"Thomas\",\n",
    "    \"age\": 30,\n",
    "    \"is_member\": True,\n",
    "    \"hobbies\": \"reading, biking, coding\"\n",
    "}"
   ]
  },
  {
   "cell_type": "code",
   "execution_count": null,
   "id": "4557bac6",
   "metadata": {},
   "outputs": [],
   "source": []
  },
  {
   "cell_type": "markdown",
   "id": "363b7857",
   "metadata": {},
   "source": [
    "## 2. Requests and web scraping"
   ]
  },
  {
   "cell_type": "code",
   "execution_count": null,
   "id": "492eb907-b454-403f-914a-281a61751e07",
   "metadata": {},
   "outputs": [],
   "source": [
    "import requests # for making HTTP requests\n",
    "import pandas as pd \n",
    "import time\n",
    "import re # Regex = Regular Expressions"
   ]
  },
  {
   "cell_type": "markdown",
   "id": "ad83d54d",
   "metadata": {},
   "source": [
    "Time package small things:"
   ]
  },
  {
   "cell_type": "code",
   "execution_count": null,
   "id": "3e6a1a0c",
   "metadata": {},
   "outputs": [],
   "source": [
    "%%time\n",
    "print(\"Hello, World!\")"
   ]
  },
  {
   "cell_type": "code",
   "execution_count": null,
   "id": "3cafd01b",
   "metadata": {},
   "outputs": [],
   "source": [
    "t0 = time.time()\n",
    "time.sleep(1)\n",
    "t1 = time.time()\n",
    "print(\"Time elapsed: \", t1-t0, \" seconds\")"
   ]
  },
  {
   "cell_type": "code",
   "execution_count": null,
   "id": "d055ed81",
   "metadata": {},
   "outputs": [],
   "source": [
    "%%time \n",
    "time.sleep(2)"
   ]
  },
  {
   "cell_type": "code",
   "execution_count": null,
   "id": "319488a8",
   "metadata": {},
   "outputs": [],
   "source": [
    "import random"
   ]
  },
  {
   "cell_type": "code",
   "execution_count": null,
   "id": "ea1e1470",
   "metadata": {},
   "outputs": [],
   "source": [
    "%%time\n",
    "r_time = random.uniform(0.5, 1.2)\n",
    "print(\"Sleeping for \", r_time, \" seconds\")\n",
    "time.sleep(r_time)"
   ]
  },
  {
   "cell_type": "markdown",
   "id": "4d7941ab-1155-4c89-8095-94edf11f889d",
   "metadata": {
    "tags": []
   },
   "source": [
    "#### Task 1: Requesting API\n",
    "\n",
    "Let us work with data of sreality.cz which we can access via their api. An intuition is that the api is limited for a number of requests (but not verified)."
   ]
  },
  {
   "cell_type": "markdown",
   "id": "6bdaad1a",
   "metadata": {},
   "source": [
    "##### 1a. Create a function requesting data from sreality\n",
    "\n",
    "```python\n",
    "base_url = 'https://www.sreality.cz/api/cs/v2/estates?category_main_cb=1&category_type_cb=1&locality_region_id=10&per_page60&page={}'.format(i)\n",
    "\n",
    "r = requests.get(base_url)\n",
    "d = r.json()\n",
    "```\n",
    "\n",
    "0) function should parametrize: \n",
    "    * `category_main_cb` - `{'flat':1, 'house':2, 'land':3 }`\n",
    "    * `category_type_cb` - `{'sell':1,'rent':2}`\n",
    "    * `locality_region_id` - use 10 as default value\n",
    "    * `page` parameter\n",
    "1) use string inputs for `category_main_cb` and `category_type_cb`\n",
    "2) include `try/except` clause to handle errors\n",
    "3) function should return JSON data in python types\n",
    "4) do not forget to sleep each request at least 0.5s"
   ]
  },
  {
   "cell_type": "code",
   "execution_count": null,
   "id": "55cca328-f8c4-4fba-a0b3-6d20c990d712",
   "metadata": {},
   "outputs": [],
   "source": [
    "def request_sreality(page, category_main_str, category_type_str, locality_region_id=10):\n",
    "    \"\"\"\n",
    "    Request data from sreality.cz API\n",
    "    :param page: page number\n",
    "    :param category_main_str: category of the property\n",
    "    :param category_type_str: type of the offer\n",
    "    :param locality_region_id: region id\n",
    "    :return json: json response\n",
    "    \"\"\"\n",
    "    template_url = 'https://www.sreality.cz/api/cs/v2/estates?category_main_cb={category_main}&category_type_cb={category_type}&locality_region_id={locality_region_id}&per_page60&page={page}'"
   ]
  },
  {
   "cell_type": "code",
   "execution_count": null,
   "id": "0ce6d431",
   "metadata": {},
   "outputs": [],
   "source": []
  },
  {
   "cell_type": "markdown",
   "id": "6344da7f",
   "metadata": {},
   "source": [
    "Inspect the element `d`:"
   ]
  },
  {
   "cell_type": "code",
   "execution_count": null,
   "id": "fb63e73e",
   "metadata": {},
   "outputs": [],
   "source": []
  },
  {
   "cell_type": "code",
   "execution_count": null,
   "id": "bb7d2442",
   "metadata": {},
   "outputs": [],
   "source": []
  },
  {
   "cell_type": "code",
   "execution_count": null,
   "id": "ce83d526",
   "metadata": {},
   "outputs": [],
   "source": []
  },
  {
   "cell_type": "code",
   "execution_count": null,
   "id": "9679db37",
   "metadata": {},
   "outputs": [],
   "source": []
  },
  {
   "cell_type": "code",
   "execution_count": null,
   "id": "5a001916",
   "metadata": {},
   "outputs": [],
   "source": []
  },
  {
   "cell_type": "code",
   "execution_count": null,
   "id": "8d0f0a74",
   "metadata": {},
   "outputs": [],
   "source": []
  },
  {
   "cell_type": "markdown",
   "id": "8b718701-e4a4-4fe4-bf34-d03913765b2a",
   "metadata": {},
   "source": [
    "### 1b. Create a function converting sreality json data into pandas dataframe"
   ]
  },
  {
   "cell_type": "code",
   "execution_count": null,
   "id": "c39a54e3",
   "metadata": {},
   "outputs": [],
   "source": []
  },
  {
   "cell_type": "code",
   "execution_count": null,
   "id": "65b6d150",
   "metadata": {},
   "outputs": [],
   "source": []
  },
  {
   "cell_type": "code",
   "execution_count": null,
   "id": "71e52613-8e0e-4b5a-a579-76d803eafa31",
   "metadata": {},
   "outputs": [],
   "source": [
    "def convert_sreality_data_to_df(sreality_data):\n",
    "    raise NotImplemented\n",
    "\n",
    "raw = convert_sreality_data_to_df(d)"
   ]
  },
  {
   "cell_type": "code",
   "execution_count": null,
   "id": "a3413b30",
   "metadata": {},
   "outputs": [],
   "source": []
  },
  {
   "cell_type": "markdown",
   "id": "fc2cde54-c6c3-4baf-9e4c-b740d8eb4dbd",
   "metadata": {
    "tags": []
   },
   "source": [
    "### 1c. link function `1b` into function `1a`"
   ]
  },
  {
   "cell_type": "code",
   "execution_count": null,
   "id": "e8da8611-df45-4f30-87d6-8059f61f810d",
   "metadata": {},
   "outputs": [],
   "source": []
  },
  {
   "cell_type": "code",
   "execution_count": null,
   "id": "164b5b65",
   "metadata": {},
   "outputs": [],
   "source": []
  },
  {
   "cell_type": "markdown",
   "id": "4ebab853-b6f2-4335-b13a-6c3cbba1951b",
   "metadata": {},
   "source": [
    "### 1c. Combining multiple requests into single df\n",
    "\n",
    "* Function should parametrize:\n",
    "    * `start_page` and `end_page`\n",
    "    * request parameters\n",
    "* construct a list of individual request dfs\n",
    "* then feed it into `pd.concat` function"
   ]
  },
  {
   "cell_type": "code",
   "execution_count": null,
   "id": "bc61d311-c46a-4aee-a004-8349ec3ce0de",
   "metadata": {},
   "outputs": [],
   "source": []
  },
  {
   "cell_type": "code",
   "execution_count": null,
   "id": "b1d9bef1-7e5c-4648-89a4-6f472968f3c6",
   "metadata": {},
   "outputs": [],
   "source": []
  },
  {
   "cell_type": "code",
   "execution_count": null,
   "id": "284687ef-aba6-4bbf-b7bf-c42dafda4cb4",
   "metadata": {},
   "outputs": [],
   "source": [
    "def request_multiply_sreality(start_page, end_page, category_main_str, category_type_str, locality_region_id=10):\n",
    "    raise NotImplementedError"
   ]
  },
  {
   "cell_type": "code",
   "execution_count": null,
   "id": "78a43396",
   "metadata": {},
   "outputs": [],
   "source": []
  },
  {
   "cell_type": "code",
   "execution_count": null,
   "id": "f9aa726e",
   "metadata": {},
   "outputs": [],
   "source": []
  },
  {
   "cell_type": "code",
   "execution_count": null,
   "id": "15fe7f07",
   "metadata": {},
   "outputs": [],
   "source": []
  },
  {
   "cell_type": "code",
   "execution_count": null,
   "id": "12fc6099",
   "metadata": {},
   "outputs": [],
   "source": []
  },
  {
   "cell_type": "code",
   "execution_count": null,
   "id": "491ec72a",
   "metadata": {},
   "outputs": [],
   "source": []
  },
  {
   "cell_type": "markdown",
   "id": "bdde40e7-f68e-4859-878e-772c112f7355",
   "metadata": {},
   "source": [
    "#### Task 2: Cleaning data\n",
    "\n",
    "__2a. Filter columns__\n",
    "* filter only columns: `['locality', 'price', 'name', 'gps','hash_id','exclusively_at_rk']`\n",
    "* use `.copy()` to avoid `SettingWithCopyWarning` later\n"
   ]
  },
  {
   "cell_type": "code",
   "execution_count": null,
   "id": "2d9040da",
   "metadata": {},
   "outputs": [],
   "source": []
  },
  {
   "cell_type": "markdown",
   "id": "50fd792e",
   "metadata": {},
   "source": [
    "Copy selection into new one"
   ]
  },
  {
   "cell_type": "code",
   "execution_count": null,
   "id": "a77cbfac",
   "metadata": {},
   "outputs": [],
   "source": []
  },
  {
   "cell_type": "markdown",
   "id": "80deec04-4959-4d9a-8a3a-7cf616e8558a",
   "metadata": {
    "tags": []
   },
   "source": [
    "### 2b: GPS\n",
    "* Convert dictionary in `gps` column into two columns - `lat` and `lon`\n",
    "* use apply function on gps column\n",
    "* Note apply can return multiple columns"
   ]
  },
  {
   "cell_type": "code",
   "execution_count": null,
   "id": "e4d1b6d6",
   "metadata": {},
   "outputs": [],
   "source": []
  },
  {
   "cell_type": "code",
   "execution_count": null,
   "id": "3cdf4330",
   "metadata": {},
   "outputs": [],
   "source": []
  },
  {
   "cell_type": "code",
   "execution_count": null,
   "id": "bc339e33",
   "metadata": {},
   "outputs": [],
   "source": []
  },
  {
   "cell_type": "markdown",
   "id": "36c22408-c327-4c17-b1b4-de54f63f0627",
   "metadata": {},
   "source": [
    "### 2c. Get flat type from name\n",
    "\n",
    "* Name is always represented by string `Prodej bytu [type of flat] [Area] m^2`\n",
    "* Try picking third word in string\n",
    "* Check meaningfulness using `.value_counts()`"
   ]
  },
  {
   "cell_type": "code",
   "execution_count": null,
   "id": "71d08274",
   "metadata": {},
   "outputs": [],
   "source": []
  },
  {
   "cell_type": "code",
   "execution_count": null,
   "id": "573b394d",
   "metadata": {},
   "outputs": [],
   "source": []
  },
  {
   "cell_type": "code",
   "execution_count": null,
   "id": "c1738939",
   "metadata": {},
   "outputs": [],
   "source": []
  },
  {
   "cell_type": "code",
   "execution_count": null,
   "id": "66215f8d",
   "metadata": {},
   "outputs": [],
   "source": []
  },
  {
   "cell_type": "code",
   "execution_count": null,
   "id": "3a3bc441",
   "metadata": {},
   "outputs": [],
   "source": []
  },
  {
   "cell_type": "code",
   "execution_count": null,
   "id": "461050cf",
   "metadata": {},
   "outputs": [],
   "source": []
  },
  {
   "cell_type": "code",
   "execution_count": null,
   "id": "ee5e903e",
   "metadata": {},
   "outputs": [],
   "source": [
    "# regular expression to find numbers before m²\n"
   ]
  },
  {
   "cell_type": "code",
   "execution_count": null,
   "id": "19356bd5",
   "metadata": {},
   "outputs": [],
   "source": []
  },
  {
   "cell_type": "code",
   "execution_count": null,
   "id": "ed55fce5",
   "metadata": {},
   "outputs": [],
   "source": [
    "# regular expression to find characters before '+' and behind '+'\n",
    "def flat_type(x:str):\n",
    "    # \\d+ represents one or more digit(s)\n",
    "    # \\s is a space character\n",
    "    # \\w+ is one or more word character(s)\n",
    "    # * represents 0 or more\n",
    "    raise NotImplementedError"
   ]
  },
  {
   "cell_type": "code",
   "execution_count": null,
   "id": "abb1032d",
   "metadata": {},
   "outputs": [],
   "source": [
    "sample_text = 'Prodej bytu 3+kk 71 m²'\n",
    "print(f\"Initial text: {sample_text}\")\n",
    "print(\"Processed text:\")\n"
   ]
  },
  {
   "cell_type": "code",
   "execution_count": null,
   "id": "7ec46a01",
   "metadata": {},
   "outputs": [],
   "source": []
  },
  {
   "cell_type": "code",
   "execution_count": null,
   "id": "cb783e95",
   "metadata": {},
   "outputs": [],
   "source": []
  },
  {
   "cell_type": "markdown",
   "id": "5e233b14-db62-41f8-be82-45c861d62e3e",
   "metadata": {},
   "source": [
    "### 2d. Get the area of a flat from name\n",
    "\n",
    "* Naive: select the word before last word\n",
    "* Then try navigating using the index of `'m²'`\n",
    "* If this also fail, then you will need to use regex - `import re`"
   ]
  },
  {
   "cell_type": "code",
   "execution_count": null,
   "id": "150ff188-b6d0-4326-95c3-cfc30e6fcb03",
   "metadata": {},
   "outputs": [],
   "source": [
    "def name_to_area(nm):\n",
    "    raise NotImplementedError\n",
    "\n"
   ]
  },
  {
   "cell_type": "code",
   "execution_count": null,
   "id": "10991d95",
   "metadata": {},
   "outputs": [],
   "source": []
  },
  {
   "cell_type": "markdown",
   "id": "287affd0",
   "metadata": {},
   "source": [
    "__Check if the two areas are equal__"
   ]
  },
  {
   "cell_type": "code",
   "execution_count": null,
   "id": "ebaa2449",
   "metadata": {},
   "outputs": [],
   "source": []
  },
  {
   "cell_type": "code",
   "execution_count": null,
   "id": "eddc8d06",
   "metadata": {},
   "outputs": [],
   "source": []
  }
 ],
 "metadata": {
  "kernelspec": {
   "display_name": "Python 3",
   "language": "python",
   "name": "python3"
  },
  "language_info": {
   "codemirror_mode": {
    "name": "ipython",
    "version": 3
   },
   "file_extension": ".py",
   "mimetype": "text/x-python",
   "name": "python",
   "nbconvert_exporter": "python",
   "pygments_lexer": "ipython3",
   "version": "3.13.0"
  }
 },
 "nbformat": 4,
 "nbformat_minor": 5
}
